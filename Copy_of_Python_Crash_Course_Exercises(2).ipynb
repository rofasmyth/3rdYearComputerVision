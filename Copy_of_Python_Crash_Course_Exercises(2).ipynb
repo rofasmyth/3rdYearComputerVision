{
  "nbformat": 4,
  "nbformat_minor": 0,
  "metadata": {
    "anaconda-cloud": {},
    "kernelspec": {
      "display_name": "Python [default]",
      "language": "python",
      "name": "python3"
    },
    "language_info": {
      "codemirror_mode": {
        "name": "ipython",
        "version": 3
      },
      "file_extension": ".py",
      "mimetype": "text/x-python",
      "name": "python",
      "nbconvert_exporter": "python",
      "pygments_lexer": "ipython3",
      "version": "3.5.3"
    },
    "colab": {
      "provenance": [],
      "toc_visible": true
    }
  },
  "cells": [
    {
      "cell_type": "markdown",
      "metadata": {
        "id": "Lm7csvCQPbCX"
      },
      "source": [
        "# Python Crash Course Exercises\n",
        "\n",
        "This is an exercise to test your understanding of Python Basics."
      ]
    },
    {
      "cell_type": "markdown",
      "metadata": {
        "id": "SeLWoEGlPbCa"
      },
      "source": [
        "## Exercises\n",
        "\n",
        "Answer the questions or complete the tasks outlined in bold below, use the specific method described if applicable."
      ]
    },
    {
      "cell_type": "markdown",
      "metadata": {
        "id": "NyMXS7RvPbCd"
      },
      "source": [
        "## Q1\n",
        "** What is 7 to the power of 4?**"
      ]
    },
    {
      "cell_type": "code",
      "source": [
        "7**4"
      ],
      "metadata": {
        "id": "QbSKiL4JLT3D",
        "colab": {
          "base_uri": "https://localhost:8080/"
        },
        "outputId": "2cb5c6b2-2bde-48a7-a544-f8d0a984c488"
      },
      "execution_count": null,
      "outputs": [
        {
          "output_type": "execute_result",
          "data": {
            "text/plain": [
              "2401"
            ]
          },
          "metadata": {},
          "execution_count": 1
        }
      ]
    },
    {
      "cell_type": "markdown",
      "metadata": {
        "id": "TRfcQUQxPbCv"
      },
      "source": [
        "## Q2\n",
        "** Split this string:**\n",
        "\n",
        "    s = \"Hi there Sam!\"\n",
        "    \n",
        "**into a list. **"
      ]
    },
    {
      "cell_type": "code",
      "source": [
        "s = \"Hi there Sam!\"\n",
        "s.split()"
      ],
      "metadata": {
        "id": "QAheTTW7LR0w",
        "colab": {
          "base_uri": "https://localhost:8080/"
        },
        "outputId": "39d40ac4-b92d-41fc-f3c8-d9c9508bb479"
      },
      "execution_count": null,
      "outputs": [
        {
          "output_type": "execute_result",
          "data": {
            "text/plain": [
              "['Hi', 'there', 'Sam!']"
            ]
          },
          "metadata": {},
          "execution_count": 3
        }
      ]
    },
    {
      "cell_type": "markdown",
      "metadata": {
        "id": "k_lgeouBPbDM"
      },
      "source": [
        "## Q3\n",
        "** Given the variables:**\n",
        "\n",
        "    planet = \"Earth\"\n",
        "    diameter = 12742\n",
        "\n",
        "** Use .format() to print the following string: **\n",
        "\n",
        "    The diameter of Earth is 12742 kilometers."
      ]
    },
    {
      "cell_type": "code",
      "source": [
        "planet = \"Earth\"\n",
        "diameter = 12742\n",
        "\n",
        "print('The diameter of {} is {} kilometers.'.format(planet,diameter))"
      ],
      "metadata": {
        "id": "zuzP5O9nLQtI",
        "colab": {
          "base_uri": "https://localhost:8080/"
        },
        "outputId": "62bf8c03-ab8a-456e-c719-d632dfc87522"
      },
      "execution_count": null,
      "outputs": [
        {
          "output_type": "stream",
          "name": "stdout",
          "text": [
            "The diameter of Earth is 12742 kilometers.\n"
          ]
        }
      ]
    },
    {
      "cell_type": "markdown",
      "metadata": {
        "id": "KOADLJ1ZPbDi"
      },
      "source": [
        "## Q4\n",
        "** Given this nested list, use indexing to grab the word \"hello\" **"
      ]
    },
    {
      "cell_type": "code",
      "metadata": {
        "id": "Ntk2IhrDPbDk"
      },
      "source": [
        "lst = [1,2,[3,4],[5,[100,200,['hello']],23,11],1,7]"
      ],
      "execution_count": null,
      "outputs": []
    },
    {
      "cell_type": "code",
      "source": [
        "lst = [1,2,[3,4],[5,[100,200,['hello']],23,11],1,7]\n",
        "\n",
        "lst[3][1][2]"
      ],
      "metadata": {
        "id": "F68bQxQQLOs1",
        "colab": {
          "base_uri": "https://localhost:8080/"
        },
        "outputId": "59c21747-008e-4704-e1df-c7a05cc04cbd"
      },
      "execution_count": null,
      "outputs": [
        {
          "output_type": "execute_result",
          "data": {
            "text/plain": [
              "['hello']"
            ]
          },
          "metadata": {},
          "execution_count": 10
        }
      ]
    },
    {
      "cell_type": "markdown",
      "metadata": {
        "id": "Bumojiq3PbD0"
      },
      "source": [
        "## Q5\n",
        "** Given this nest dictionary grab the word \"hello\". Be prepared, this will be annoying/tricky **"
      ]
    },
    {
      "cell_type": "code",
      "metadata": {
        "id": "w3sxXGyBPbD1"
      },
      "source": [
        "d = {'k1':[1,2,3,{'tricky':['oh','man','inception',{'target':[1,2,3,'hello']}]}]}"
      ],
      "execution_count": null,
      "outputs": []
    },
    {
      "cell_type": "code",
      "source": [
        "d = {'k1':[1,2,3,{'tricky':['oh','man','inception',{'target':[1,2,3,'hello']}]}]}\n",
        "\n",
        "target = d['k1'][3]['tricky'][3]['target'][3]\n",
        "\n",
        "print(target)"
      ],
      "metadata": {
        "id": "VVB5vlqsLNzb",
        "colab": {
          "base_uri": "https://localhost:8080/"
        },
        "outputId": "f4d5dce9-41f6-4d12-9323-2ed7ba314215"
      },
      "execution_count": null,
      "outputs": [
        {
          "output_type": "stream",
          "name": "stdout",
          "text": [
            "hello\n"
          ]
        }
      ]
    },
    {
      "cell_type": "markdown",
      "metadata": {
        "id": "63mUptYyPbD_"
      },
      "source": [
        "## Q6\n",
        "** What is the main difference between a tuple and a list? **"
      ]
    },
    {
      "cell_type": "markdown",
      "source": [
        "Answer: Tuples are not mutable and lists are."
      ],
      "metadata": {
        "id": "mgDmS4VDJhUe"
      }
    },
    {
      "cell_type": "markdown",
      "metadata": {
        "id": "jzph3oGYPbED"
      },
      "source": [
        "## Q7\n",
        "** Create a function that grabs the email website domain from a string in the form: **\n",
        "\n",
        "    user@domain.com\n",
        "    \n",
        "**So for example, passing \"user@domain.com\" would return: domain.com**"
      ]
    },
    {
      "cell_type": "code",
      "source": [
        "s = 'user@domain.com'\n",
        "\n",
        "emailHalvesList = s.split('@', 1)\n",
        "\n",
        "result = emailHalvesList[1]\n",
        "\n",
        "print(result)"
      ],
      "metadata": {
        "id": "k4Pc7akSLGW8",
        "colab": {
          "base_uri": "https://localhost:8080/"
        },
        "outputId": "1facf78c-43de-4a9c-f699-45b689066b6f"
      },
      "execution_count": null,
      "outputs": [
        {
          "output_type": "stream",
          "name": "stdout",
          "text": [
            "domain.com\n"
          ]
        }
      ]
    },
    {
      "cell_type": "markdown",
      "metadata": {
        "id": "WytlqqV5PbEJ"
      },
      "source": [
        "## Q8\n",
        "** Create a basic function that returns True if the word 'dog' is contained in the input string. Don't worry about edge cases like a punctuation being attached to the word dog, but do account for capitalization. **"
      ]
    },
    {
      "cell_type": "code",
      "source": [
        "s = \"do you have a badger?\"\n",
        "substring = \"dog\"\n",
        "\n",
        "contains = substring in s\n",
        "\n",
        "print(contains)"
      ],
      "metadata": {
        "id": "lbcLg0HrLFjx",
        "colab": {
          "base_uri": "https://localhost:8080/"
        },
        "outputId": "63dbecd7-b275-4001-ac2e-e3d18e409c62"
      },
      "execution_count": null,
      "outputs": [
        {
          "output_type": "stream",
          "name": "stdout",
          "text": [
            "False\n"
          ]
        }
      ]
    },
    {
      "cell_type": "markdown",
      "metadata": {
        "id": "BRhikWEOPbEP"
      },
      "source": [
        "## Q9\n",
        "** Create a function that counts the number of times the word \"dog\" occurs in a string. Again ignore edge cases. **"
      ]
    },
    {
      "cell_type": "code",
      "source": [
        "# prompt: Create a function that counts the number of times the word \"dog\" occurs in a string. Again ignore edge cases. add examples\n",
        "\n",
        "def count_dog(st):\n",
        "  count = 0\n",
        "  for word in st.lower().split():\n",
        "    if word == 'dog':\n",
        "      count += 1\n",
        "  return count\n",
        "\n",
        "# Examples\n",
        "print(count_dog('This dog runs faster than the other dog dude!')) # Output: 2\n",
        "print(count_dog('Dog dog dog')) # Output: 3\n",
        "print(count_dog('No dogs here')) # Output: 0\n"
      ],
      "metadata": {
        "id": "KzJEN-p-LEmf",
        "colab": {
          "base_uri": "https://localhost:8080/"
        },
        "outputId": "6665fca9-a30f-44f4-a00b-8089ac6630f0"
      },
      "execution_count": null,
      "outputs": [
        {
          "output_type": "stream",
          "name": "stdout",
          "text": [
            "2\n",
            "3\n",
            "0\n"
          ]
        }
      ]
    },
    {
      "cell_type": "markdown",
      "metadata": {
        "id": "Mqni0gBfPbET"
      },
      "source": [
        "## Final Problem\n",
        "**You are driving a little too fast, and a police officer stops you. Write a function\n",
        "  to return one of 3 possible results: \"No ticket\", \"Small ticket\", or \"Big Ticket\".\n",
        "  If your speed is 60 or less, the result is \"No Ticket\". If speed is between 61\n",
        "  and 80 inclusive, the result is \"Small Ticket\". If speed is 81 or more, the result is \"Big    Ticket\". Unless it is your birthday (encoded as a boolean value in the parameters of the function) -- on your birthday, your speed can be 5 higher in all\n",
        "  cases. **"
      ]
    },
    {
      "cell_type": "code",
      "source": [
        "# enter code here"
      ],
      "metadata": {
        "id": "Obu-6xcZK7ZN"
      },
      "execution_count": null,
      "outputs": []
    },
    {
      "cell_type": "markdown",
      "metadata": {
        "id": "P9RljYnvPbEZ"
      },
      "source": [
        "# Great job!"
      ]
    }
  ]
}