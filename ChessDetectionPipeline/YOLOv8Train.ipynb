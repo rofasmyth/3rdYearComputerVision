{
 "cells": [
  {
   "cell_type": "code",
   "execution_count": 1,
   "metadata": {
    "colab": {
     "base_uri": "https://localhost:8080/"
    },
    "id": "QU_s6cWXRylv",
    "outputId": "8e0f4da5-e126-4adc-ea93-5fc8518cf4b7"
   },
   "outputs": [
    {
     "name": "stdout",
     "output_type": "stream",
     "text": [
      "Collecting ultralytics\n",
      "  Downloading ultralytics-8.3.49-py3-none-any.whl.metadata (35 kB)\n",
      "Requirement already satisfied: numpy>=1.23.0 in /usr/local/lib/python3.10/dist-packages (from ultralytics) (1.26.4)\n",
      "Requirement already satisfied: matplotlib>=3.3.0 in /usr/local/lib/python3.10/dist-packages (from ultralytics) (3.8.0)\n",
      "Requirement already satisfied: opencv-python>=4.6.0 in /usr/local/lib/python3.10/dist-packages (from ultralytics) (4.10.0.84)\n",
      "Requirement already satisfied: pillow>=7.1.2 in /usr/local/lib/python3.10/dist-packages (from ultralytics) (11.0.0)\n",
      "Requirement already satisfied: pyyaml>=5.3.1 in /usr/local/lib/python3.10/dist-packages (from ultralytics) (6.0.2)\n",
      "Requirement already satisfied: requests>=2.23.0 in /usr/local/lib/python3.10/dist-packages (from ultralytics) (2.32.3)\n",
      "Requirement already satisfied: scipy>=1.4.1 in /usr/local/lib/python3.10/dist-packages (from ultralytics) (1.13.1)\n",
      "Requirement already satisfied: torch>=1.8.0 in /usr/local/lib/python3.10/dist-packages (from ultralytics) (2.5.1+cu121)\n",
      "Requirement already satisfied: torchvision>=0.9.0 in /usr/local/lib/python3.10/dist-packages (from ultralytics) (0.20.1+cu121)\n",
      "Requirement already satisfied: tqdm>=4.64.0 in /usr/local/lib/python3.10/dist-packages (from ultralytics) (4.66.6)\n",
      "Requirement already satisfied: psutil in /usr/local/lib/python3.10/dist-packages (from ultralytics) (5.9.5)\n",
      "Requirement already satisfied: py-cpuinfo in /usr/local/lib/python3.10/dist-packages (from ultralytics) (9.0.0)\n",
      "Requirement already satisfied: pandas>=1.1.4 in /usr/local/lib/python3.10/dist-packages (from ultralytics) (2.2.2)\n",
      "Requirement already satisfied: seaborn>=0.11.0 in /usr/local/lib/python3.10/dist-packages (from ultralytics) (0.13.2)\n",
      "Collecting ultralytics-thop>=2.0.0 (from ultralytics)\n",
      "  Downloading ultralytics_thop-2.0.13-py3-none-any.whl.metadata (9.4 kB)\n",
      "Requirement already satisfied: contourpy>=1.0.1 in /usr/local/lib/python3.10/dist-packages (from matplotlib>=3.3.0->ultralytics) (1.3.1)\n",
      "Requirement already satisfied: cycler>=0.10 in /usr/local/lib/python3.10/dist-packages (from matplotlib>=3.3.0->ultralytics) (0.12.1)\n",
      "Requirement already satisfied: fonttools>=4.22.0 in /usr/local/lib/python3.10/dist-packages (from matplotlib>=3.3.0->ultralytics) (4.55.1)\n",
      "Requirement already satisfied: kiwisolver>=1.0.1 in /usr/local/lib/python3.10/dist-packages (from matplotlib>=3.3.0->ultralytics) (1.4.7)\n",
      "Requirement already satisfied: packaging>=20.0 in /usr/local/lib/python3.10/dist-packages (from matplotlib>=3.3.0->ultralytics) (24.2)\n",
      "Requirement already satisfied: pyparsing>=2.3.1 in /usr/local/lib/python3.10/dist-packages (from matplotlib>=3.3.0->ultralytics) (3.2.0)\n",
      "Requirement already satisfied: python-dateutil>=2.7 in /usr/local/lib/python3.10/dist-packages (from matplotlib>=3.3.0->ultralytics) (2.8.2)\n",
      "Requirement already satisfied: pytz>=2020.1 in /usr/local/lib/python3.10/dist-packages (from pandas>=1.1.4->ultralytics) (2024.2)\n",
      "Requirement already satisfied: tzdata>=2022.7 in /usr/local/lib/python3.10/dist-packages (from pandas>=1.1.4->ultralytics) (2024.2)\n",
      "Requirement already satisfied: charset-normalizer<4,>=2 in /usr/local/lib/python3.10/dist-packages (from requests>=2.23.0->ultralytics) (3.4.0)\n",
      "Requirement already satisfied: idna<4,>=2.5 in /usr/local/lib/python3.10/dist-packages (from requests>=2.23.0->ultralytics) (3.10)\n",
      "Requirement already satisfied: urllib3<3,>=1.21.1 in /usr/local/lib/python3.10/dist-packages (from requests>=2.23.0->ultralytics) (2.2.3)\n",
      "Requirement already satisfied: certifi>=2017.4.17 in /usr/local/lib/python3.10/dist-packages (from requests>=2.23.0->ultralytics) (2024.8.30)\n",
      "Requirement already satisfied: filelock in /usr/local/lib/python3.10/dist-packages (from torch>=1.8.0->ultralytics) (3.16.1)\n",
      "Requirement already satisfied: typing-extensions>=4.8.0 in /usr/local/lib/python3.10/dist-packages (from torch>=1.8.0->ultralytics) (4.12.2)\n",
      "Requirement already satisfied: networkx in /usr/local/lib/python3.10/dist-packages (from torch>=1.8.0->ultralytics) (3.4.2)\n",
      "Requirement already satisfied: jinja2 in /usr/local/lib/python3.10/dist-packages (from torch>=1.8.0->ultralytics) (3.1.4)\n",
      "Requirement already satisfied: fsspec in /usr/local/lib/python3.10/dist-packages (from torch>=1.8.0->ultralytics) (2024.10.0)\n",
      "Requirement already satisfied: sympy==1.13.1 in /usr/local/lib/python3.10/dist-packages (from torch>=1.8.0->ultralytics) (1.13.1)\n",
      "Requirement already satisfied: mpmath<1.4,>=1.1.0 in /usr/local/lib/python3.10/dist-packages (from sympy==1.13.1->torch>=1.8.0->ultralytics) (1.3.0)\n",
      "Requirement already satisfied: six>=1.5 in /usr/local/lib/python3.10/dist-packages (from python-dateutil>=2.7->matplotlib>=3.3.0->ultralytics) (1.16.0)\n",
      "Requirement already satisfied: MarkupSafe>=2.0 in /usr/local/lib/python3.10/dist-packages (from jinja2->torch>=1.8.0->ultralytics) (3.0.2)\n",
      "Downloading ultralytics-8.3.49-py3-none-any.whl (898 kB)\n",
      "\u001b[2K   \u001b[90m━━━━━━━━━━━━━━━━━━━━━━━━━━━━━━━━━━━━━━━━\u001b[0m \u001b[32m898.7/898.7 kB\u001b[0m \u001b[31m52.1 MB/s\u001b[0m eta \u001b[36m0:00:00\u001b[0m\n",
      "\u001b[?25hDownloading ultralytics_thop-2.0.13-py3-none-any.whl (26 kB)\n",
      "Installing collected packages: ultralytics-thop, ultralytics\n",
      "Successfully installed ultralytics-8.3.49 ultralytics-thop-2.0.13\n",
      "Requirement already satisfied: opencv-python-headless in /usr/local/lib/python3.10/dist-packages (4.10.0.84)\n",
      "Requirement already satisfied: numpy>=1.21.2 in /usr/local/lib/python3.10/dist-packages (from opencv-python-headless) (1.26.4)\n",
      "Requirement already satisfied: matplotlib in /usr/local/lib/python3.10/dist-packages (3.8.0)\n",
      "Requirement already satisfied: contourpy>=1.0.1 in /usr/local/lib/python3.10/dist-packages (from matplotlib) (1.3.1)\n",
      "Requirement already satisfied: cycler>=0.10 in /usr/local/lib/python3.10/dist-packages (from matplotlib) (0.12.1)\n",
      "Requirement already satisfied: fonttools>=4.22.0 in /usr/local/lib/python3.10/dist-packages (from matplotlib) (4.55.1)\n",
      "Requirement already satisfied: kiwisolver>=1.0.1 in /usr/local/lib/python3.10/dist-packages (from matplotlib) (1.4.7)\n",
      "Requirement already satisfied: numpy<2,>=1.21 in /usr/local/lib/python3.10/dist-packages (from matplotlib) (1.26.4)\n",
      "Requirement already satisfied: packaging>=20.0 in /usr/local/lib/python3.10/dist-packages (from matplotlib) (24.2)\n",
      "Requirement already satisfied: pillow>=6.2.0 in /usr/local/lib/python3.10/dist-packages (from matplotlib) (11.0.0)\n",
      "Requirement already satisfied: pyparsing>=2.3.1 in /usr/local/lib/python3.10/dist-packages (from matplotlib) (3.2.0)\n",
      "Requirement already satisfied: python-dateutil>=2.7 in /usr/local/lib/python3.10/dist-packages (from matplotlib) (2.8.2)\n",
      "Requirement already satisfied: six>=1.5 in /usr/local/lib/python3.10/dist-packages (from python-dateutil>=2.7->matplotlib) (1.16.0)\n"
     ]
    }
   ],
   "source": [
    "!pip install ultralytics\n",
    "!pip install opencv-python-headless\n",
    "!pip install matplotlib"
   ]
  },
  {
   "cell_type": "code",
   "execution_count": 2,
   "metadata": {
    "colab": {
     "base_uri": "https://localhost:8080/"
    },
    "id": "ymA8xBjzR2rZ",
    "outputId": "145f475f-a3f3-4075-b84a-59d505ac2509"
   },
   "outputs": [
    {
     "name": "stdout",
     "output_type": "stream",
     "text": [
      "Creating new Ultralytics Settings v0.0.6 file ✅ \n",
      "View Ultralytics Settings with 'yolo settings' or at '/root/.config/Ultralytics/settings.json'\n",
      "Update Settings with 'yolo settings key=value', i.e. 'yolo settings runs_dir=path/to/dir'. For help see https://docs.ultralytics.com/quickstart/#ultralytics-settings.\n"
     ]
    }
   ],
   "source": [
    "from ultralytics import YOLO\n",
    "import cv2\n",
    "import matplotlib.pyplot as plt\n",
    "import os"
   ]
  },
  {
   "cell_type": "code",
   "execution_count": 3,
   "metadata": {
    "colab": {
     "base_uri": "https://localhost:8080/"
    },
    "id": "D3X2etcyTcSK",
    "outputId": "b30f9c45-373d-4ec0-a49b-86454f32dff7"
   },
   "outputs": [
    {
     "name": "stdout",
     "output_type": "stream",
     "text": [
      "Archive:  /content/Chess Pieces.v24-416x416_aug.yolov8.zip\n",
      " extracting: /content/dataset/README.dataset.txt  \n",
      " extracting: /content/dataset/README.roboflow.txt  \n",
      " extracting: /content/dataset/data.yaml  \n",
      "   creating: /content/dataset/test/\n",
      "   creating: /content/dataset/test/images/\n",
      " extracting: /content/dataset/test/images/0b47311f426ff926578c9d738d683e76_jpg.rf.40183eae584a653181bbd795ba3c353f.jpg  \n",
      " extracting: /content/dataset/test/images/1c0060ef868bdc326ce5e6389cb6732f_jpg.rf.f02cd668d26a53d9bf001497992b3657.jpg  \n",
      " extracting: /content/dataset/test/images/2f6fb003bb89cd401322a535acb42f65_jpg.rf.66c0a46773a9cd583fb96c3df41a9e0c.jpg  \n",
      " extracting: /content/dataset/test/images/410993714e325a1de3e394ffe860df3a_jpg.rf.657c49ca295ef54da23469189070a075.jpg  \n",
      " extracting: /content/dataset/test/images/4e3117459d759798537eb52cf5bf534d_jpg.rf.ec961b62d4b0e131fae760ed1f80836b.jpg  \n",
      " extracting: /content/dataset/test/images/5a35ba2ec3e0d0b2b12b1758a8ac29aa_jpg.rf.9dbdb057f6533c0c09c0eda0747fbc9e.jpg  \n",
      " extracting: /content/dataset/test/images/654bb8835258b26c466b1c19893df451_jpg.rf.55fb7f23a4422a80793f01e152fabe4d.jpg  \n",
      " extracting: /content/dataset/test/images/685b860d412b91f5d4f7f9e643b84452_jpg.rf.2d78193e4021ae5ffb49ecd1060bebd7.jpg  \n",
      " extracting: /content/dataset/test/images/73a38a5c8f8f1b09f093f304660d5326_jpg.rf.65192fc4204952bfd1121ee212aade1e.jpg  \n",
      " extracting: /content/dataset/test/images/749e9074a77f8d34d86e2218f26cdab4_jpg.rf.b39c00c032a7ecbb62b8792bbe05497e.jpg  \n",
      " extracting: /content/dataset/test/images/7a34d8620235048917b28bcfd3b5572b_jpg.rf.450c577e3be66b5232c54ffc9ec9e6b7.jpg  \n",
      " extracting: /content/dataset/test/images/8ff752f9ed443e6e49d495abfceb2032_jpg.rf.530a6c314a4848ead2b0ebc40e6ba651.jpg  \n",
      " extracting: /content/dataset/test/images/IMG_0159_JPG.rf.f0d34122f8817d538e396b04f2b70d33.jpg  \n",
      " extracting: /content/dataset/test/images/IMG_0169_JPG.rf.1de291413bb78ef8ff0eaa8ffac38b06.jpg  \n",
      " extracting: /content/dataset/test/images/IMG_0170_JPG.rf.480e7164cb4727f6654402882f0ce942.jpg  \n",
      " extracting: /content/dataset/test/images/a3863d0be6002c21b20ac88817b2c56f_jpg.rf.0413d5178136ace55f588df9556c060a.jpg  \n",
      " extracting: /content/dataset/test/images/b4ff4132c8c85da97d8bf9a2a4ed3e3d_jpg.rf.ec790769b4818025b7652ca6aab9307e.jpg  \n",
      " extracting: /content/dataset/test/images/b526b661a33ff481231d1342aff2a266_jpg.rf.287d21a885ec3abeb6da818a6a9cd05b.jpg  \n",
      " extracting: /content/dataset/test/images/b9402881fa580d0eb8b9b98845417550_jpg.rf.7c401587706c0c03dab27877a8d22f55.jpg  \n",
      " extracting: /content/dataset/test/images/c4943d83c06a12ad5e0399d19514a4ca_jpg.rf.99b2d7e1faa204e71fdc71676040c4d6.jpg  \n",
      " extracting: /content/dataset/test/images/c5a012dfa72816098d23fc8baee67834_jpg.rf.6e0feae2ac0229ff5f20fc842852c81d.jpg  \n",
      " extracting: /content/dataset/test/images/cf4769d0586df6b3fb0dc618d9f8abe6_jpg.rf.81d8a4fa4e06ba4399292de7f5b5e300.jpg  \n",
      " extracting: /content/dataset/test/images/cfc306bf86176b92ffc1afbb98d7896f_jpg.rf.effd71a5dcd98ec0f24072af5f7c0a31.jpg  \n",
      " extracting: /content/dataset/test/images/d7887071e972604ddf5940d8eb2702e7_jpg.rf.5f20fe9a6c746d488d6d0478828478cb.jpg  \n",
      " extracting: /content/dataset/test/images/e0d38d159ad3a801d0304d7e275812cc_jpg.rf.16aa43d37a5a2d2c32402cfa877d0a0d.jpg  \n",
      " extracting: /content/dataset/test/images/e4147f3d8819fc5d67a9f72596bd9e47_jpg.rf.ecc7863357d316634c6f22a2f0758303.jpg  \n",
      " extracting: /content/dataset/test/images/e4583d082076b2b549b3736ad1b193c9_jpg.rf.c64d9d89f8d479bf811e6b355b93e90e.jpg  \n",
      " extracting: /content/dataset/test/images/f1a24b6bb778ee11ba33687415aa84f2_jpg.rf.f2646d2d46b39f6510975f24d554bae1.jpg  \n",
      " extracting: /content/dataset/test/images/fdcd6ada676799da8a870f58fdf548db_jpg.rf.b0ea8552b6106bb4ab62ca8957fca40d.jpg  \n",
      "   creating: /content/dataset/test/labels/\n",
      " extracting: /content/dataset/test/labels/0b47311f426ff926578c9d738d683e76_jpg.rf.40183eae584a653181bbd795ba3c353f.txt  \n",
      " extracting: /content/dataset/test/labels/1c0060ef868bdc326ce5e6389cb6732f_jpg.rf.f02cd668d26a53d9bf001497992b3657.txt  \n",
      " extracting: /content/dataset/test/labels/2f6fb003bb89cd401322a535acb42f65_jpg.rf.66c0a46773a9cd583fb96c3df41a9e0c.txt  \n",
      " extracting: /content/dataset/test/labels/410993714e325a1de3e394ffe860df3a_jpg.rf.657c49ca295ef54da23469189070a075.txt  \n",
      " extracting: /content/dataset/test/labels/4e3117459d759798537eb52cf5bf534d_jpg.rf.ec961b62d4b0e131fae760ed1f80836b.txt  \n",
      " extracting: /content/dataset/test/labels/5a35ba2ec3e0d0b2b12b1758a8ac29aa_jpg.rf.9dbdb057f6533c0c09c0eda0747fbc9e.txt  \n",
      " extracting: /content/dataset/test/labels/654bb8835258b26c466b1c19893df451_jpg.rf.55fb7f23a4422a80793f01e152fabe4d.txt  \n",
      " extracting: /content/dataset/test/labels/685b860d412b91f5d4f7f9e643b84452_jpg.rf.2d78193e4021ae5ffb49ecd1060bebd7.txt  \n",
      " extracting: /content/dataset/test/labels/73a38a5c8f8f1b09f093f304660d5326_jpg.rf.65192fc4204952bfd1121ee212aade1e.txt  \n",
      " extracting: /content/dataset/test/labels/749e9074a77f8d34d86e2218f26cdab4_jpg.rf.b39c00c032a7ecbb62b8792bbe05497e.txt  \n",
      " extracting: /content/dataset/test/labels/7a34d8620235048917b28bcfd3b5572b_jpg.rf.450c577e3be66b5232c54ffc9ec9e6b7.txt  \n",
      " extracting: /content/dataset/test/labels/8ff752f9ed443e6e49d495abfceb2032_jpg.rf.530a6c314a4848ead2b0ebc40e6ba651.txt  \n",
      " extracting: /content/dataset/test/labels/IMG_0159_JPG.rf.f0d34122f8817d538e396b04f2b70d33.txt  \n",
      " extracting: /content/dataset/test/labels/IMG_0169_JPG.rf.1de291413bb78ef8ff0eaa8ffac38b06.txt  \n",
      " extracting: /content/dataset/test/labels/IMG_0170_JPG.rf.480e7164cb4727f6654402882f0ce942.txt  \n",
      " extracting: /content/dataset/test/labels/a3863d0be6002c21b20ac88817b2c56f_jpg.rf.0413d5178136ace55f588df9556c060a.txt  \n",
      " extracting: /content/dataset/test/labels/b4ff4132c8c85da97d8bf9a2a4ed3e3d_jpg.rf.ec790769b4818025b7652ca6aab9307e.txt  \n",
      " extracting: /content/dataset/test/labels/b526b661a33ff481231d1342aff2a266_jpg.rf.287d21a885ec3abeb6da818a6a9cd05b.txt  \n",
      " extracting: /content/dataset/test/labels/b9402881fa580d0eb8b9b98845417550_jpg.rf.7c401587706c0c03dab27877a8d22f55.txt  \n",
      " extracting: /content/dataset/test/labels/c4943d83c06a12ad5e0399d19514a4ca_jpg.rf.99b2d7e1faa204e71fdc71676040c4d6.txt  \n",
      " extracting: /content/dataset/test/labels/c5a012dfa72816098d23fc8baee67834_jpg.rf.6e0feae2ac0229ff5f20fc842852c81d.txt  \n",
      " extracting: /content/dataset/test/labels/cf4769d0586df6b3fb0dc618d9f8abe6_jpg.rf.81d8a4fa4e06ba4399292de7f5b5e300.txt  \n",
      " extracting: /content/dataset/test/labels/cfc306bf86176b92ffc1afbb98d7896f_jpg.rf.effd71a5dcd98ec0f24072af5f7c0a31.txt  \n",
      " extracting: /content/dataset/test/labels/d7887071e972604ddf5940d8eb2702e7_jpg.rf.5f20fe9a6c746d488d6d0478828478cb.txt  \n",
      " extracting: /content/dataset/test/labels/e0d38d159ad3a801d0304d7e275812cc_jpg.rf.16aa43d37a5a2d2c32402cfa877d0a0d.txt  \n",
      " extracting: /content/dataset/test/labels/e4147f3d8819fc5d67a9f72596bd9e47_jpg.rf.ecc7863357d316634c6f22a2f0758303.txt  \n",
      " extracting: /content/dataset/test/labels/e4583d082076b2b549b3736ad1b193c9_jpg.rf.c64d9d89f8d479bf811e6b355b93e90e.txt  \n",
      " extracting: /content/dataset/test/labels/f1a24b6bb778ee11ba33687415aa84f2_jpg.rf.f2646d2d46b39f6510975f24d554bae1.txt  \n",
      " extracting: /content/dataset/test/labels/fdcd6ada676799da8a870f58fdf548db_jpg.rf.b0ea8552b6106bb4ab62ca8957fca40d.txt  \n",
      "   creating: /content/dataset/train/\n",
      "   creating: /content/dataset/train/images/\n",
      " extracting: /content/dataset/train/images/00bc0cacffdebe6b11bdeec56f63ee49_jpg.rf.1a1407058a6170f001f2c269411d31d3.jpg  \n",
      " extracting: /content/dataset/train/images/00bc0cacffdebe6b11bdeec56f63ee49_jpg.rf.20e061b75dc554ebe40b33189e320831.jpg  \n",
      " extracting: /content/dataset/train/images/00bc0cacffdebe6b11bdeec56f63ee49_jpg.rf.38c0bb7971151bf4cb185f5498fddcc0.jpg  \n",
      " extracting: /content/dataset/train/images/0115e4df73475b550e5c6f7a88b2474f_jpg.rf.22f030d1bd7a26c987f287d2de4b19c7.jpg  \n",
      " extracting: /content/dataset/train/images/0115e4df73475b550e5c6f7a88b2474f_jpg.rf.254cb905329fee7e2df63d14b15368db.jpg  \n",
      " extracting: /content/dataset/train/images/0115e4df73475b550e5c6f7a88b2474f_jpg.rf.9d4f5de6e48861cf9108e46aee8dbb8f.jpg  \n",
      " extracting: /content/dataset/train/images/02f0931b536dfba10affc3231a3d64fb_jpg.rf.087fbe5ea178dd757f4eb065ae5cf941.jpg  \n",
      " extracting: /content/dataset/train/images/02f0931b536dfba10affc3231a3d64fb_jpg.rf.51d15aa9df1efc29ceca818ecbce37e1.jpg  \n",
      " extracting: /content/dataset/train/images/02f0931b536dfba10affc3231a3d64fb_jpg.rf.d1c527f45625192911705f97416af54b.jpg  \n",
      " extracting: /content/dataset/train/images/0301b7f9ed4d5ba503fda79fc4370c29_jpg.rf.56da1174519560712119d3fc195068cb.jpg  \n",
      " extracting: /content/dataset/train/images/0301b7f9ed4d5ba503fda79fc4370c29_jpg.rf.7871491670bed0423e3beceb3fae8016.jpg  \n",
      " extracting: /content/dataset/train/images/0301b7f9ed4d5ba503fda79fc4370c29_jpg.rf.91a1164b0c74bbe8ab32435e44b990a4.jpg  \n",
      " extracting: /content/dataset/train/images/03886821377011fec599e8fa12d86e89_jpg.rf.44fb00bcea92435e28c1ea1a89595b32.jpg  \n",
      " extracting: /content/dataset/train/images/03886821377011fec599e8fa12d86e89_jpg.rf.7ec3f29be4f3793b35a2c4a9880d831c.jpg  \n",
      " extracting: /content/dataset/train/images/03886821377011fec599e8fa12d86e89_jpg.rf.98865e45954a6f1a7c8cdd2c0be465e2.jpg  \n",
      " extracting: /content/dataset/train/images/03d3ff4582c8125d69c19a72f846bec8_jpg.rf.0abd6e8d01091ac5396f7a9cf390bdc9.jpg  \n",
      " extracting: /content/dataset/train/images/03d3ff4582c8125d69c19a72f846bec8_jpg.rf.7a003146bd5c6847a71accae7e87bf3b.jpg  \n",
      " extracting: /content/dataset/train/images/03d3ff4582c8125d69c19a72f846bec8_jpg.rf.8cfdbdc73a4c6149758151715b2e8b44.jpg  \n",
      " extracting: /content/dataset/train/images/040f2bcba5afce3afafdd5bbf36d2ca5_jpg.rf.41718e1241c9b432c1aef73937e12feb.jpg  \n",
      " extracting: /content/dataset/train/images/040f2bcba5afce3afafdd5bbf36d2ca5_jpg.rf.4b3a8c8430ecaaf5d31ff3b6ff994876.jpg  \n",
      " extracting: /content/dataset/train/images/040f2bcba5afce3afafdd5bbf36d2ca5_jpg.rf.76f9bf46e314e3671d2b9a9fe1eff19f.jpg  \n",
      " extracting: /content/dataset/train/images/04aed88a8d23cf27e47806eb23948495_jpg.rf.0afccd002b73949b13d75032bca2828b.jpg  \n",
      " extracting: /content/dataset/train/images/04aed88a8d23cf27e47806eb23948495_jpg.rf.5b2ede62cd0912672150d67bc6ed8ead.jpg  \n",
      " extracting: /content/dataset/train/images/04aed88a8d23cf27e47806eb23948495_jpg.rf.b2b9c08d458461669627c4976b744f46.jpg  \n",
      " extracting: /content/dataset/train/images/055b79dd8db4c43e1a23be6095aaf624_jpg.rf.0cecb46a274c53aaaf172c0fbe0e6eaa.jpg  \n",
      " extracting: /content/dataset/train/images/055b79dd8db4c43e1a23be6095aaf624_jpg.rf.cd15336671f029c9f3319e08f54705e5.jpg  \n",
      " extracting: /content/dataset/train/images/055b79dd8db4c43e1a23be6095aaf624_jpg.rf.cf511a337b73cbbe392f4830229e03be.jpg  \n",
      " extracting: /content/dataset/train/images/05de676d5078dc0a13796f3f627993ef_jpg.rf.1ae70c9f54b2825eb3a4d0c4e43d7213.jpg  \n",
      " extracting: /content/dataset/train/images/05de676d5078dc0a13796f3f627993ef_jpg.rf.c37fdbdb3b34643c655814729cc944eb.jpg  \n",
      " extracting: /content/dataset/train/images/05de676d5078dc0a13796f3f627993ef_jpg.rf.cc83e123e6905474c14e40a7a06b3fbb.jpg  \n",
      " extracting: /content/dataset/train/images/06770ce99d4866165c0dfb104179c361_jpg.rf.30f74da3f9fb816762fe128339f2b880.jpg  \n",
      " extracting: /content/dataset/train/images/06770ce99d4866165c0dfb104179c361_jpg.rf.4e1731dc330bcc7c45afae38ba2a6b66.jpg  \n",
      " extracting: /content/dataset/train/images/06770ce99d4866165c0dfb104179c361_jpg.rf.6e91bc2ccd7b43b371771f4aa6565d58.jpg  \n",
      " extracting: /content/dataset/train/images/0798bfb058da59d189c1bfadcf814f29_jpg.rf.1e4fca7542b10b91f6436d8b1b3cb08f.jpg  \n",
      " extracting: /content/dataset/train/images/0798bfb058da59d189c1bfadcf814f29_jpg.rf.d15086fbba4dea88618e8da79d0e52fc.jpg  \n",
      " extracting: /content/dataset/train/images/0798bfb058da59d189c1bfadcf814f29_jpg.rf.f416b21fe1523c919632ecb16aace2e2.jpg  \n",
      " extracting: /content/dataset/train/images/0b4ba28f0c759a11750a6430649b52e3_jpg.rf.360b52c8b8fb20ebbe87ca4a63d454a4.jpg  \n",
      " extracting: /content/dataset/train/images/0b4ba28f0c759a11750a6430649b52e3_jpg.rf.79ce979766c7725eac584a892f2af5b1.jpg  \n",
      " extracting: /content/dataset/train/images/0b4ba28f0c759a11750a6430649b52e3_jpg.rf.a385c2a65e0d9faff02ab153556cd00b.jpg  \n",
      " extracting: /content/dataset/train/images/0cf670506bf9e0fe587647cd62caa232_jpg.rf.45dd2d1228e8eeb0d736bc53b3246b7c.jpg  \n",
      " extracting: /content/dataset/train/images/0cf670506bf9e0fe587647cd62caa232_jpg.rf.87a892b7346e822c1255df1993d0cb80.jpg  \n",
      " extracting: /content/dataset/train/images/0cf670506bf9e0fe587647cd62caa232_jpg.rf.e44dd3107c47246d4ec175ac16e91830.jpg  \n",
      " extracting: /content/dataset/train/images/0d9dbf62d5ee42b92bf55197bba4254d_jpg.rf.214eb5f360891da5197e1900013439ec.jpg  \n",
      " extracting: /content/dataset/train/images/0d9dbf62d5ee42b92bf55197bba4254d_jpg.rf.820147842f33369719d3eeca69bb6769.jpg  \n",
      " extracting: /content/dataset/train/images/0d9dbf62d5ee42b92bf55197bba4254d_jpg.rf.b159d61997f9dc9fdf926f76aa9c273f.jpg  \n",
      " extracting: /content/dataset/train/images/104ec0199cb67e1a359b1b0845ee66f3_jpg.rf.04dc1a59935ead8705530bd4583a1222.jpg  \n",
      " extracting: /content/dataset/train/images/104ec0199cb67e1a359b1b0845ee66f3_jpg.rf.13fe6ec9290d49ca950115c142c76d57.jpg  \n",
      " extracting: /content/dataset/train/images/104ec0199cb67e1a359b1b0845ee66f3_jpg.rf.c8750ec52c3ade1aca9de15694cf9eb5.jpg  \n",
      " extracting: /content/dataset/train/images/13106bbc80a01cc413c2ab5052d2ec25_jpg.rf.137d13b354dafa0c28ae4d8136031f6b.jpg  \n",
      " extracting: /content/dataset/train/images/13106bbc80a01cc413c2ab5052d2ec25_jpg.rf.19c72bddcf32faef8dbe854f65ec3e6f.jpg  \n",
      " extracting: /content/dataset/train/images/13106bbc80a01cc413c2ab5052d2ec25_jpg.rf.b232d48e25d062c5d25a5be4e1f81021.jpg  \n",
      " extracting: /content/dataset/train/images/1595777dfa66e954ae23655743e24809_jpg.rf.5dc97daf85a90e102fd9454665288eb5.jpg  \n",
      " extracting: /content/dataset/train/images/1595777dfa66e954ae23655743e24809_jpg.rf.86c2d8bf856a3470877532a75c12a144.jpg  \n",
      " extracting: /content/dataset/train/images/1595777dfa66e954ae23655743e24809_jpg.rf.b60c3a36f35dd1eba3d57d815d930d67.jpg  \n",
      " extracting: /content/dataset/train/images/1728cd731489df8bb8e0396e178fe393_jpg.rf.72e14139be3f1f663f1512324adbe0cd.jpg  \n",
      " extracting: /content/dataset/train/images/1728cd731489df8bb8e0396e178fe393_jpg.rf.7ef76473b0a2962c632997f2fd7570eb.jpg  \n",
      " extracting: /content/dataset/train/images/1728cd731489df8bb8e0396e178fe393_jpg.rf.cf3127987c30548d691295953a2326db.jpg  \n",
      " extracting: /content/dataset/train/images/1877a28e4c5f5c1ea68aca66f4e85d95_jpg.rf.8214b540ec0fb6594f0a37059176df33.jpg  \n",
      " extracting: /content/dataset/train/images/1877a28e4c5f5c1ea68aca66f4e85d95_jpg.rf.9e17aead7bdfecd30e23fcbd0cdf9305.jpg  \n",
      " extracting: /content/dataset/train/images/1877a28e4c5f5c1ea68aca66f4e85d95_jpg.rf.c65abe6a33f5679f8c1e84d9029a77e4.jpg  \n",
      " extracting: /content/dataset/train/images/196829feb704a34a4e471155f14bdd80_jpg.rf.344f88ded341e5b5351c31ddc7e07fdb.jpg  \n",
      " extracting: /content/dataset/train/images/196829feb704a34a4e471155f14bdd80_jpg.rf.6c682963e8e934a976fb4a4373bf05b4.jpg  \n",
      " extracting: /content/dataset/train/images/196829feb704a34a4e471155f14bdd80_jpg.rf.7f5d3545dcb27e896e6f68208ca86dcd.jpg  \n",
      " extracting: /content/dataset/train/images/1a530d578f3f0bf3497bfeff3d953025_jpg.rf.a03681d6dbbeb2e50eac9e1feabbd309.jpg  \n",
      " extracting: /content/dataset/train/images/1a530d578f3f0bf3497bfeff3d953025_jpg.rf.a920532b8b005cc545bc368ad3c8f2ef.jpg  \n",
      " extracting: /content/dataset/train/images/1a530d578f3f0bf3497bfeff3d953025_jpg.rf.b8a3b1a645357b4ab6dc8daa540ba89d.jpg  \n",
      " extracting: /content/dataset/train/images/1a8a4abcba7c4ead35c01f05b9fae8e5_jpg.rf.442f136a399a1f9fe7ebdbfb4ba111a1.jpg  \n",
      " extracting: /content/dataset/train/images/1a8a4abcba7c4ead35c01f05b9fae8e5_jpg.rf.d4317263bf28a3b3e8a9e0f6618e9745.jpg  \n",
      " extracting: /content/dataset/train/images/1a8a4abcba7c4ead35c01f05b9fae8e5_jpg.rf.e7ce7cfefb2970bf066ee8409dafc31f.jpg  \n",
      " extracting: /content/dataset/train/images/1b4ccdf7d5ff45dc6c3885243bde5af2_jpg.rf.26b8553d31c5667b5ac5c7249bf80642.jpg  \n",
      " extracting: /content/dataset/train/images/1b4ccdf7d5ff45dc6c3885243bde5af2_jpg.rf.31d77a84d3d6370bc2aed5ffd3e6f2e8.jpg  \n",
      " extracting: /content/dataset/train/images/1b4ccdf7d5ff45dc6c3885243bde5af2_jpg.rf.92bd5a7bb83cb5d8639db85d02fe7511.jpg  \n",
      " extracting: /content/dataset/train/images/22e74efb18b2d88fba63d25a61bf5f97_jpg.rf.385b3e9a3203fff03fb378e343ccff7b.jpg  \n",
      " extracting: /content/dataset/train/images/22e74efb18b2d88fba63d25a61bf5f97_jpg.rf.a3d860399c54e7d955b2235f44679f53.jpg  \n",
      " extracting: /content/dataset/train/images/22e74efb18b2d88fba63d25a61bf5f97_jpg.rf.e472c82b49f6f6da28b302bda8ecc4d4.jpg  \n",
      " extracting: /content/dataset/train/images/23988893ef7381fece6d1ef32ef5428f_jpg.rf.bde765e553747a196d113f9fec702805.jpg  \n",
      " extracting: /content/dataset/train/images/23988893ef7381fece6d1ef32ef5428f_jpg.rf.c17c56f4463bd4def9641c0218c16471.jpg  \n",
      " extracting: /content/dataset/train/images/23988893ef7381fece6d1ef32ef5428f_jpg.rf.dd1332a601e86a4f219edb4145bdf239.jpg  \n",
      " extracting: /content/dataset/train/images/239c409d5c09b493fed01a70a3cda4bc_jpg.rf.01a3333223abb899709f52303c100d19.jpg  \n",
      " extracting: /content/dataset/train/images/239c409d5c09b493fed01a70a3cda4bc_jpg.rf.0da84dd41081b1d68b3eed86259f4927.jpg  \n",
      " extracting: /content/dataset/train/images/239c409d5c09b493fed01a70a3cda4bc_jpg.rf.8f3596ebdf348f77b1bde7b51557bf0f.jpg  \n",
      " extracting: /content/dataset/train/images/247f9cf35a263dc7dd7886b187fd5480_jpg.rf.21d5039624e6deb14401c708a2ebcdcb.jpg  \n",
      " extracting: /content/dataset/train/images/247f9cf35a263dc7dd7886b187fd5480_jpg.rf.d77746d6c6ff2592f94f08d808a5947d.jpg  \n",
      " extracting: /content/dataset/train/images/247f9cf35a263dc7dd7886b187fd5480_jpg.rf.f0572fa5484481b70ca83d63a3d7e184.jpg  \n",
      " extracting: /content/dataset/train/images/254f92b18b2a81f88b85e7aed3cabc61_jpg.rf.040f2bb097a768c0c16d459430205a70.jpg  \n",
      " extracting: /content/dataset/train/images/254f92b18b2a81f88b85e7aed3cabc61_jpg.rf.4c7568df4f838db750f7d7b54122210b.jpg  \n",
      " extracting: /content/dataset/train/images/254f92b18b2a81f88b85e7aed3cabc61_jpg.rf.a55e3d26992b9f4d43e7f317a078689b.jpg  \n",
      " extracting: /content/dataset/train/images/26d663ab5ffbec49f9dc8e592982cfd4_jpg.rf.0fe973299ff9e73874d9e684cba4e406.jpg  \n",
      " extracting: /content/dataset/train/images/26d663ab5ffbec49f9dc8e592982cfd4_jpg.rf.5e1a9d49ad09f5a7549225a05e1f66a6.jpg  \n",
      " extracting: /content/dataset/train/images/26d663ab5ffbec49f9dc8e592982cfd4_jpg.rf.bb226be189ee3a6399fbbd5080852e5b.jpg  \n",
      " extracting: /content/dataset/train/images/285d7c487a4e20ad832a74acb527b77f_jpg.rf.3dc659a479a4644b5a633a089379b94c.jpg  \n",
      " extracting: /content/dataset/train/images/285d7c487a4e20ad832a74acb527b77f_jpg.rf.5898c8f286182a8e159cb26d009defc3.jpg  \n",
      " extracting: /content/dataset/train/images/285d7c487a4e20ad832a74acb527b77f_jpg.rf.df00faf5828d265a002f42c16f6aab0a.jpg  \n",
      " extracting: /content/dataset/train/images/292b0ddcacad7de06a628980954b6993_jpg.rf.67f9ea5e7adf1465fa4334d3cad42707.jpg  \n",
      " extracting: /content/dataset/train/images/292b0ddcacad7de06a628980954b6993_jpg.rf.f38c3bb31f5e00206f9dd1882d9aa1b1.jpg  \n",
      " extracting: /content/dataset/train/images/292b0ddcacad7de06a628980954b6993_jpg.rf.ffb6b085a9d60c9f2c2e7524963000a4.jpg  \n",
      " extracting: /content/dataset/train/images/2c32afd520cc8bf076dfa5b6e2e1c4c1_jpg.rf.85581a8cd489d624f76364df69817031.jpg  \n",
      " extracting: /content/dataset/train/images/2c32afd520cc8bf076dfa5b6e2e1c4c1_jpg.rf.87c42395d755e8a3dd8c496a501efa69.jpg  \n",
      " extracting: /content/dataset/train/images/2c32afd520cc8bf076dfa5b6e2e1c4c1_jpg.rf.df50bc6bf291f7313cae27c09bb9c8a0.jpg  \n",
      " extracting: /content/dataset/train/images/2ee0fd0963465ba29d8f27c6e605c55d_jpg.rf.744c9a5ed432b0fccbd744ba3fe4b247.jpg  \n",
      " extracting: /content/dataset/train/images/2ee0fd0963465ba29d8f27c6e605c55d_jpg.rf.ab3d6a72f56e3d0a0fb341073880b760.jpg  \n",
      " extracting: /content/dataset/train/images/2ee0fd0963465ba29d8f27c6e605c55d_jpg.rf.b725ad9181e61d96753ab8a50c4b0aa9.jpg  \n",
      " extracting: /content/dataset/train/images/2fe75c34fd54e960146fb8b0ad8b3fd6_jpg.rf.46b8727756f5cbdf9d26a07bf9ee78d7.jpg  \n",
      " extracting: /content/dataset/train/images/2fe75c34fd54e960146fb8b0ad8b3fd6_jpg.rf.5b4da5b9403cb9506ae3e52de96842fc.jpg  \n",
      " extracting: /content/dataset/train/images/2fe75c34fd54e960146fb8b0ad8b3fd6_jpg.rf.693b072eeb2a9b531b0857ce94b0fedc.jpg  \n",
      " extracting: /content/dataset/train/images/300f80826bbb7dc4bf83e148614f2f77_jpg.rf.145cd48465162eac7e40dfeca236f55b.jpg  \n",
      " extracting: /content/dataset/train/images/300f80826bbb7dc4bf83e148614f2f77_jpg.rf.5281cacb5e3bcfc6bc9056ce0acc5e70.jpg  \n",
      " extracting: /content/dataset/train/images/300f80826bbb7dc4bf83e148614f2f77_jpg.rf.9839ccdb0a608ad3c703bc90147df6ca.jpg  \n",
      " extracting: /content/dataset/train/images/3057eba7e9b0221ddbdc96a01f39ab79_jpg.rf.2447ca37ec7de9b84cadcbbe539525e9.jpg  \n",
      " extracting: /content/dataset/train/images/3057eba7e9b0221ddbdc96a01f39ab79_jpg.rf.349a5aaf97f4108589df81010c7c4bde.jpg  \n",
      " extracting: /content/dataset/train/images/3057eba7e9b0221ddbdc96a01f39ab79_jpg.rf.787d84dddfa8b765df03c4b1af8fa18c.jpg  \n",
      " extracting: /content/dataset/train/images/3091c9b25d76e9cbd0af83ced9f354e5_jpg.rf.8df700ac741b6284988ebf22aabf95e9.jpg  \n",
      " extracting: /content/dataset/train/images/3091c9b25d76e9cbd0af83ced9f354e5_jpg.rf.afa51006174811b7734f491d2d6ad2b7.jpg  \n",
      " extracting: /content/dataset/train/images/3091c9b25d76e9cbd0af83ced9f354e5_jpg.rf.bfe4874bf78f4241bf8a602aef15c352.jpg  \n",
      " extracting: /content/dataset/train/images/31419854b103ca6becc4cc394c449e95_jpg.rf.1d33687e2a30c2496be1818a82863686.jpg  \n",
      " extracting: /content/dataset/train/images/31419854b103ca6becc4cc394c449e95_jpg.rf.4fcab5207dfc54387d4589fbc69c7a47.jpg  \n",
      " extracting: /content/dataset/train/images/31419854b103ca6becc4cc394c449e95_jpg.rf.9640ba223176f79f1fc49b0258a4da86.jpg  \n",
      " extracting: /content/dataset/train/images/3161933dffedf8a859d6623a99492c53_jpg.rf.8cff35ee63144dcc204352db8773f590.jpg  \n",
      " extracting: /content/dataset/train/images/3161933dffedf8a859d6623a99492c53_jpg.rf.972fd8a3af30fa01316510fbb84cccc6.jpg  \n",
      " extracting: /content/dataset/train/images/3161933dffedf8a859d6623a99492c53_jpg.rf.b3cca32040dcb031002296f83298f3d1.jpg  \n",
      " extracting: /content/dataset/train/images/3474d785b1b21d68163f56aa00a92bc9_jpg.rf.526eb41b7d4b9055bcd36adc5d65734a.jpg  \n",
      " extracting: /content/dataset/train/images/3474d785b1b21d68163f56aa00a92bc9_jpg.rf.6ae75801d3082ec64235d399987e2f2d.jpg  \n",
      " extracting: /content/dataset/train/images/3474d785b1b21d68163f56aa00a92bc9_jpg.rf.dc30237c228a1ef77d0fa95a2836791e.jpg  \n",
      " extracting: /content/dataset/train/images/34ad1966ae7a17d4502ca141413ed8d2_jpg.rf.33e7286b5e4b1d97dc8521130bfbb381.jpg  \n",
      " extracting: /content/dataset/train/images/34ad1966ae7a17d4502ca141413ed8d2_jpg.rf.b4e802ae4c541fc3c17ccf55d8653abe.jpg  \n",
      " extracting: /content/dataset/train/images/34ad1966ae7a17d4502ca141413ed8d2_jpg.rf.e8667dbbad2ad13b03ae4e809af01fda.jpg  \n",
      " extracting: /content/dataset/train/images/36066ba85572ce99198f1a21c2c8bbff_jpg.rf.0e1fe87ccd50187773a1725f684648e4.jpg  \n",
      " extracting: /content/dataset/train/images/36066ba85572ce99198f1a21c2c8bbff_jpg.rf.7cc3238420fd4fdce4e67d256d487f9f.jpg  \n",
      " extracting: /content/dataset/train/images/36066ba85572ce99198f1a21c2c8bbff_jpg.rf.b2440aa8c27cef761d6f79eb24689ca9.jpg  \n",
      " extracting: /content/dataset/train/images/3730ef213ac6aad431475a9ab28f349a_jpg.rf.077f757828e9ff709c4e1e8b90f2bd52.jpg  \n",
      " extracting: /content/dataset/train/images/3730ef213ac6aad431475a9ab28f349a_jpg.rf.7529be3c45ccff8446d9464f88f8d1ae.jpg  \n",
      " extracting: /content/dataset/train/images/3730ef213ac6aad431475a9ab28f349a_jpg.rf.94811f6e8a9f59622e25c0ccc4b39c91.jpg  \n",
      " extracting: /content/dataset/train/images/3796db002cba7265bd32b0161ddd9127_jpg.rf.41aa0068bba0c15b03cb7a681aa6533c.jpg  \n",
      " extracting: /content/dataset/train/images/3796db002cba7265bd32b0161ddd9127_jpg.rf.7b8109ee9b9e4dc55b72ec056ee8a747.jpg  \n",
      " extracting: /content/dataset/train/images/3796db002cba7265bd32b0161ddd9127_jpg.rf.e6cc5ba486f5c2010b53ccfa048a0c66.jpg  \n",
      " extracting: /content/dataset/train/images/37fe05bcf7d8568a9e55b569afdbccbd_jpg.rf.024d7337fe60aa8e79bdefe7b2a3bb9b.jpg  \n",
      " extracting: /content/dataset/train/images/37fe05bcf7d8568a9e55b569afdbccbd_jpg.rf.3a8156b29c22bf3e8a0a9fb0e019b005.jpg  \n",
      " extracting: /content/dataset/train/images/37fe05bcf7d8568a9e55b569afdbccbd_jpg.rf.9f9e465232a4c7b586422397223786e9.jpg  \n",
      " extracting: /content/dataset/train/images/383c2ed7bbe2d327ab55a871db497c33_jpg.rf.86e4f3f7434d212f1874685d71056f1a.jpg  \n",
      " extracting: /content/dataset/train/images/383c2ed7bbe2d327ab55a871db497c33_jpg.rf.9d983827ab445085bc8eef5da0b96932.jpg  \n",
      " extracting: /content/dataset/train/images/383c2ed7bbe2d327ab55a871db497c33_jpg.rf.bb72df5de81f3e76ee75e36e99566217.jpg  \n",
      " extracting: /content/dataset/train/images/389b4c47568c78c44df11dbb1377ffea_jpg.rf.0185f6bf38d82f7cbf9365edd7b2bfc7.jpg  \n",
      " extracting: /content/dataset/train/images/389b4c47568c78c44df11dbb1377ffea_jpg.rf.4105215a89a9e91f39916aabf7bd3724.jpg  \n",
      " extracting: /content/dataset/train/images/389b4c47568c78c44df11dbb1377ffea_jpg.rf.8ecdacfacb51a1088354bbae4d6a0731.jpg  \n",
      " extracting: /content/dataset/train/images/38f26ee82e38d332b2a831aa47bd363b_jpg.rf.70eebaf376a7a948c757715dad519b41.jpg  \n",
      " extracting: /content/dataset/train/images/38f26ee82e38d332b2a831aa47bd363b_jpg.rf.8e046f6c557a95effc7ca1d7e69c2dee.jpg  \n",
      " extracting: /content/dataset/train/images/38f26ee82e38d332b2a831aa47bd363b_jpg.rf.9531ac0c4855e848bb2d188218efe2ed.jpg  \n",
      " extracting: /content/dataset/train/images/3914be0cea4aa8a6bbd1081ec3b034a7_jpg.rf.95fd9107c63ea71989cd7fddd5d9e033.jpg  \n",
      " extracting: /content/dataset/train/images/3914be0cea4aa8a6bbd1081ec3b034a7_jpg.rf.a2edb468c84f94882c8d1ed4b983d810.jpg  \n",
      " extracting: /content/dataset/train/images/3914be0cea4aa8a6bbd1081ec3b034a7_jpg.rf.dc33766dd5985aee3962019edd74dd7a.jpg  \n",
      " extracting: /content/dataset/train/images/3bab0eaaeb63a2ac9ae4942df4006a25_jpg.rf.8fd1c7b01ae630cdb96546469e0c742d.jpg  \n",
      " extracting: /content/dataset/train/images/3bab0eaaeb63a2ac9ae4942df4006a25_jpg.rf.b78947d5207c15119ee81058a1b75c1e.jpg  \n",
      " extracting: /content/dataset/train/images/3bab0eaaeb63a2ac9ae4942df4006a25_jpg.rf.d137ab448f3c219896325f1e464c9cdc.jpg  \n",
      " extracting: /content/dataset/train/images/3e8fb24addda1a0945bd6b7777bc4018_jpg.rf.57548fe2320bf43321fcf4372bfe6e2f.jpg  \n",
      " extracting: /content/dataset/train/images/3e8fb24addda1a0945bd6b7777bc4018_jpg.rf.bc9daf0bd452e0c7dfd9167761e02135.jpg  \n",
      " extracting: /content/dataset/train/images/3e8fb24addda1a0945bd6b7777bc4018_jpg.rf.f842c9757bdb85fddeddce5fddd65bc0.jpg  \n",
      " extracting: /content/dataset/train/images/446e75de1ffefc2115e79696bcf0e357_jpg.rf.378829d017d56bcfbe81248206ba928d.jpg  \n",
      " extracting: /content/dataset/train/images/446e75de1ffefc2115e79696bcf0e357_jpg.rf.c74c5023e09478494c8b41aa67f070fe.jpg  \n",
      " extracting: /content/dataset/train/images/446e75de1ffefc2115e79696bcf0e357_jpg.rf.fc5ddb0686d3ecafa3b5a0c5ae084777.jpg  \n",
      " extracting: /content/dataset/train/images/4667110b61b16e786673ed6126ccc35d_jpg.rf.3dc2ee18962afee7c0f61083d17ed411.jpg  \n",
      " extracting: /content/dataset/train/images/4667110b61b16e786673ed6126ccc35d_jpg.rf.a4f83fe2f7c74d0fde01c1fcb729af7c.jpg  \n",
      " extracting: /content/dataset/train/images/4667110b61b16e786673ed6126ccc35d_jpg.rf.b58c56605fbe3e496fa3a357f3dce9b7.jpg  \n",
      " extracting: /content/dataset/train/images/479459fe5c8213a84fd55ba82f2670b1_jpg.rf.a4c7681de134fd46a3463e388f1e48ec.jpg  \n",
      " extracting: /content/dataset/train/images/479459fe5c8213a84fd55ba82f2670b1_jpg.rf.aed5813593dffed834ffe36cd1a2e976.jpg  \n",
      " extracting: /content/dataset/train/images/479459fe5c8213a84fd55ba82f2670b1_jpg.rf.d7c8eb7af0feef6985de36ee54a50f84.jpg  \n",
      " extracting: /content/dataset/train/images/47e842dd95735a11cf92c0ddf1161193_jpg.rf.550ba2f2bb261d19394fa2973ec4480a.jpg  \n",
      " extracting: /content/dataset/train/images/47e842dd95735a11cf92c0ddf1161193_jpg.rf.60c38d132c7d19cb8454be79650d53a5.jpg  \n",
      " extracting: /content/dataset/train/images/47e842dd95735a11cf92c0ddf1161193_jpg.rf.a08d492a1f68458ff0d6eb299c6a8478.jpg  \n",
      " extracting: /content/dataset/train/images/4807629b8df9c7eb4366b7feccd72e6a_jpg.rf.3a08163076ee5b06be9828b63ec69139.jpg  \n",
      " extracting: /content/dataset/train/images/4807629b8df9c7eb4366b7feccd72e6a_jpg.rf.478258d366ce8053d7b5400071103a8b.jpg  \n",
      " extracting: /content/dataset/train/images/4807629b8df9c7eb4366b7feccd72e6a_jpg.rf.52cd2115863114b29306879f88bb2650.jpg  \n",
      " extracting: /content/dataset/train/images/4894f034a55eaa9252cd261a62b11d27_jpg.rf.bcd60bd54187dbd564c6d84e8a4d3cb9.jpg  \n",
      " extracting: /content/dataset/train/images/4894f034a55eaa9252cd261a62b11d27_jpg.rf.e153d650cc91ee8985dbc0f9b5050e98.jpg  \n",
      " extracting: /content/dataset/train/images/4894f034a55eaa9252cd261a62b11d27_jpg.rf.ec15ec6e91a0367ded74d29495beadca.jpg  \n",
      " extracting: /content/dataset/train/images/48d3c59a99b2b5a5b9f1eb7d5ba63b60_jpg.rf.03a5018519fa45d9439d5716a03d3d02.jpg  \n",
      " extracting: /content/dataset/train/images/48d3c59a99b2b5a5b9f1eb7d5ba63b60_jpg.rf.303fc026ea7df3c5cafd1f551ed75390.jpg  \n",
      " extracting: /content/dataset/train/images/48d3c59a99b2b5a5b9f1eb7d5ba63b60_jpg.rf.d798956fd75f2a961a741523c14d932b.jpg  \n",
      " extracting: /content/dataset/train/images/48e115dcbf1b3a67ca47a75a92da3f33_jpg.rf.213e4eb4f61d74e9b61d8c7032da1766.jpg  \n",
      " extracting: /content/dataset/train/images/48e115dcbf1b3a67ca47a75a92da3f33_jpg.rf.5b14a17bd1d17edb532b6b6db9c35077.jpg  \n",
      " extracting: /content/dataset/train/images/48e115dcbf1b3a67ca47a75a92da3f33_jpg.rf.957bf6dd4345aa7c771e116ba8273385.jpg  \n",
      " extracting: /content/dataset/train/images/4939035108d04ee672570a7cc937e270_jpg.rf.0bb1cc45c05e40db8106b53800168de6.jpg  \n",
      " extracting: /content/dataset/train/images/4939035108d04ee672570a7cc937e270_jpg.rf.665362625fea5d5db13389cfa7a51e28.jpg  \n",
      " extracting: /content/dataset/train/images/4939035108d04ee672570a7cc937e270_jpg.rf.c676ffd8b63ca7b82aeb3348c032c768.jpg  \n",
      " extracting: /content/dataset/train/images/49c2afbbe5726160b289f7c0c62cdace_jpg.rf.18b76575c39d8cf45f9a9a8b6c6b6646.jpg  \n",
      " extracting: /content/dataset/train/images/49c2afbbe5726160b289f7c0c62cdace_jpg.rf.518f9a645071b5dfd9104711c09c2b49.jpg  \n",
      " extracting: /content/dataset/train/images/49c2afbbe5726160b289f7c0c62cdace_jpg.rf.c09e87097759a1f3c86cfc83a677ee7d.jpg  \n",
      " extracting: /content/dataset/train/images/49d365236ee4fb6bd982b0f00bff007e_jpg.rf.526a1568df59ddce6050cf2bce92f260.jpg  \n",
      " extracting: /content/dataset/train/images/49d365236ee4fb6bd982b0f00bff007e_jpg.rf.64f40e96e43baa404c6341ccd672ca08.jpg  \n",
      " extracting: /content/dataset/train/images/49d365236ee4fb6bd982b0f00bff007e_jpg.rf.da164da26c512372f70e3090200361a9.jpg  \n",
      " extracting: /content/dataset/train/images/49f78dc9aaeadd0c76ed2def75c358f3_jpg.rf.8df70d46b69b46482c5a2bab67b045b2.jpg  \n",
      " extracting: /content/dataset/train/images/49f78dc9aaeadd0c76ed2def75c358f3_jpg.rf.c79a51cf35ad3e236c3ea41e5a659b31.jpg  \n",
      " extracting: /content/dataset/train/images/49f78dc9aaeadd0c76ed2def75c358f3_jpg.rf.f80f03233e3dea74dbb92e5f2340f29a.jpg  \n",
      " extracting: /content/dataset/train/images/4ae38537a74c5ed10d5223f8066659fc_jpg.rf.2a3fc30eafd01a0c64b484b6082ded39.jpg  \n",
      " extracting: /content/dataset/train/images/4ae38537a74c5ed10d5223f8066659fc_jpg.rf.b01826258e0bba0f3ad3f79f161ca106.jpg  \n",
      " extracting: /content/dataset/train/images/4ae38537a74c5ed10d5223f8066659fc_jpg.rf.c07420cc60cdf3ede129a75dec9678e6.jpg  \n",
      " extracting: /content/dataset/train/images/4bf38c062fa7b5796d15ba90d6c3a456_jpg.rf.54d7350f0b18e8ec51cc8b9c351f6dce.jpg  \n",
      " extracting: /content/dataset/train/images/4bf38c062fa7b5796d15ba90d6c3a456_jpg.rf.5dc82d8843d5593359743fb73bd57edd.jpg  \n",
      " extracting: /content/dataset/train/images/4bf38c062fa7b5796d15ba90d6c3a456_jpg.rf.91410d81d86b82171fe7b271b94a4f58.jpg  \n",
      " extracting: /content/dataset/train/images/4d6b667ecbd41ebd603b38848366d9d0_jpg.rf.316c7f9af0955c14bc8303c62d5f0cd6.jpg  \n",
      " extracting: /content/dataset/train/images/4d6b667ecbd41ebd603b38848366d9d0_jpg.rf.4e30bb8f1b1048c822c448c40663b90d.jpg  \n",
      " extracting: /content/dataset/train/images/4d6b667ecbd41ebd603b38848366d9d0_jpg.rf.7cc24cb0d6e9d83179bc05d30f21bb49.jpg  \n",
      " extracting: /content/dataset/train/images/4d7820ad9fb4fe69d5168e1d7317dd02_jpg.rf.64764ea1b78a8aec014ead34271137f7.jpg  \n",
      " extracting: /content/dataset/train/images/4d7820ad9fb4fe69d5168e1d7317dd02_jpg.rf.8cb302097c3cd4d1488ba6ed0b6c0abf.jpg  \n",
      " extracting: /content/dataset/train/images/4d7820ad9fb4fe69d5168e1d7317dd02_jpg.rf.fe26c65d9b961251ae7dc598e45679b8.jpg  \n",
      " extracting: /content/dataset/train/images/4de23afff63bc169b4ebe547a9c9b692_jpg.rf.958dc90b7cb5eeb2bdc66b0356537d03.jpg  \n",
      " extracting: /content/dataset/train/images/4de23afff63bc169b4ebe547a9c9b692_jpg.rf.b16d4e221a3c932898f7efac57ab331f.jpg  \n",
      " extracting: /content/dataset/train/images/4de23afff63bc169b4ebe547a9c9b692_jpg.rf.d5caca6c6352c358873e2bcbe08dcb3e.jpg  \n",
      " extracting: /content/dataset/train/images/4eb630d4dd38528dacf72355caf5c06d_jpg.rf.542d02f24b1238b2b8ddf7e63669c6f1.jpg  \n",
      " extracting: /content/dataset/train/images/4eb630d4dd38528dacf72355caf5c06d_jpg.rf.aa4d36c64699330596d6503653e43b00.jpg  \n",
      " extracting: /content/dataset/train/images/4eb630d4dd38528dacf72355caf5c06d_jpg.rf.d291d9ff254a5001b29ef8ce2d722509.jpg  \n",
      " extracting: /content/dataset/train/images/53de0674524ae6d77bdfff48136dec2a_jpg.rf.108f3dd477ce61cd4f9251ab967b9ed5.jpg  \n",
      " extracting: /content/dataset/train/images/53de0674524ae6d77bdfff48136dec2a_jpg.rf.418e577139ae88cec5118571c10db894.jpg  \n",
      " extracting: /content/dataset/train/images/53de0674524ae6d77bdfff48136dec2a_jpg.rf.bd9646f1a26121fe3ab5d9ee21242c82.jpg  \n",
      " extracting: /content/dataset/train/images/54a90aab8c73562975cc560d51a9d2d1_jpg.rf.3de5a183732df4464edd9264ff210593.jpg  \n",
      " extracting: /content/dataset/train/images/54a90aab8c73562975cc560d51a9d2d1_jpg.rf.6d2f9f9d7b95d619880e632d994d535f.jpg  \n",
      " extracting: /content/dataset/train/images/54a90aab8c73562975cc560d51a9d2d1_jpg.rf.f081bba0a3c5e5e14c0b6bd94992465f.jpg  \n",
      " extracting: /content/dataset/train/images/5758322233deed7ae7adc23536db2a4f_jpg.rf.07a3d3e2244da0cdeddc6bf88e0d86a1.jpg  \n",
      " extracting: /content/dataset/train/images/5758322233deed7ae7adc23536db2a4f_jpg.rf.469940331ca0c0fbabd2eaad8348ed71.jpg  \n",
      " extracting: /content/dataset/train/images/5758322233deed7ae7adc23536db2a4f_jpg.rf.b16cd14d6af50949e7efe4fffdf0a1d1.jpg  \n",
      " extracting: /content/dataset/train/images/5825608dccde6544eef91822136079d0_jpg.rf.7978595f8c77d14fd89ab7a6f37a165d.jpg  \n",
      " extracting: /content/dataset/train/images/5825608dccde6544eef91822136079d0_jpg.rf.8eb618cb2ddaa495dce8b3c21edb5a03.jpg  \n",
      " extracting: /content/dataset/train/images/5825608dccde6544eef91822136079d0_jpg.rf.dc066eb4cb44e69c2e98df8a874f613e.jpg  \n",
      " extracting: /content/dataset/train/images/59727dce26aaa6100078810b61404069_jpg.rf.133f5f4c2d66f3c1cb83e25323606c51.jpg  \n",
      " extracting: /content/dataset/train/images/59727dce26aaa6100078810b61404069_jpg.rf.7921f54d55b72950940731ff0736852a.jpg  \n",
      " extracting: /content/dataset/train/images/59727dce26aaa6100078810b61404069_jpg.rf.86632bfcf9c96df565417f9cb5e54245.jpg  \n",
      " extracting: /content/dataset/train/images/5a8433ec79c881f84ef19a07dc73665d_jpg.rf.00544a8110f323e0d7721b3acf2a9e1e.jpg  \n",
      " extracting: /content/dataset/train/images/5a8433ec79c881f84ef19a07dc73665d_jpg.rf.4f609e90d2f6cf6dfdc09b85b8540822.jpg  \n",
      " extracting: /content/dataset/train/images/5a8433ec79c881f84ef19a07dc73665d_jpg.rf.ff374a0e164f5d51813ebbdb38ae9167.jpg  \n",
      " extracting: /content/dataset/train/images/5cecd3b3946aac5c713a51e0bd4617c9_jpg.rf.95fed532326e22f1bc20ee6f4768fb46.jpg  \n",
      " extracting: /content/dataset/train/images/5cecd3b3946aac5c713a51e0bd4617c9_jpg.rf.b6acbacc6e21614897ae17bfc1610149.jpg  \n",
      " extracting: /content/dataset/train/images/5cecd3b3946aac5c713a51e0bd4617c9_jpg.rf.e3e350b59dff7927d46041502756c8f3.jpg  \n",
      " extracting: /content/dataset/train/images/5e71cb8d41c333a18e799ef0004b040c_jpg.rf.05d2a8f977945663a18db2cc223250d3.jpg  \n",
      " extracting: /content/dataset/train/images/5e71cb8d41c333a18e799ef0004b040c_jpg.rf.3b081eddaeaa4d9e1da3f8990354d2b8.jpg  \n",
      " extracting: /content/dataset/train/images/5e71cb8d41c333a18e799ef0004b040c_jpg.rf.8a014b0d0195c6cc3a046974a1fec787.jpg  \n",
      " extracting: /content/dataset/train/images/614811e933a680fd6535ac8bf06bf530_jpg.rf.283f06fa4884ea55a91410d9ca4f937c.jpg  \n",
      " extracting: /content/dataset/train/images/614811e933a680fd6535ac8bf06bf530_jpg.rf.a3ef46761353d060a2693bb7ada2ab7e.jpg  \n",
      " extracting: /content/dataset/train/images/614811e933a680fd6535ac8bf06bf530_jpg.rf.fb18ccc88d4752a62d47a3260f9e0cf9.jpg  \n",
      " extracting: /content/dataset/train/images/614aadadb4a7f5b475b027b8e11398ee_jpg.rf.01b40c037e8cf1ff49c740244753af5a.jpg  \n",
      " extracting: /content/dataset/train/images/614aadadb4a7f5b475b027b8e11398ee_jpg.rf.04c134d966574ad5fdcacfb8ab619fd6.jpg  \n",
      " extracting: /content/dataset/train/images/614aadadb4a7f5b475b027b8e11398ee_jpg.rf.9c328189083b33832b90aa43f1de101d.jpg  \n",
      " extracting: /content/dataset/train/images/61567b97353acc18ba9e8aac0f111326_jpg.rf.5765711e8acd7531ab0b7c5df47febf7.jpg  \n",
      " extracting: /content/dataset/train/images/61567b97353acc18ba9e8aac0f111326_jpg.rf.94cec1f562c9e5d3eb3b3544eecc72a0.jpg  \n",
      " extracting: /content/dataset/train/images/61567b97353acc18ba9e8aac0f111326_jpg.rf.9744632c3305a0e7db1b8035a4cd3f5f.jpg  \n",
      " extracting: /content/dataset/train/images/6179b463c8f503445e213b706d2a4de5_jpg.rf.60047d46835605a44d1373c2fbc9d86a.jpg  \n",
      " extracting: /content/dataset/train/images/6179b463c8f503445e213b706d2a4de5_jpg.rf.6dad401212f974d778d11ec908ef1845.jpg  \n",
      " extracting: /content/dataset/train/images/6179b463c8f503445e213b706d2a4de5_jpg.rf.8d422c23f907d10ba6ce02a34fc3e32e.jpg  \n",
      " extracting: /content/dataset/train/images/6403b91d63799cb9b5531c47b195d088_jpg.rf.5cc9e50f7632e7938bead4a10e5fff77.jpg  \n",
      " extracting: /content/dataset/train/images/6403b91d63799cb9b5531c47b195d088_jpg.rf.c98b6f1a55887b0abf43a46704ffce4a.jpg  \n",
      " extracting: /content/dataset/train/images/6403b91d63799cb9b5531c47b195d088_jpg.rf.f88dea07bfc6c748c9b2bbdb9142935b.jpg  \n",
      " extracting: /content/dataset/train/images/6589f4cfb37439d7d276f0d70f7ee1f0_jpg.rf.5e07c88452d0555565cf271ea458a66e.jpg  \n",
      " extracting: /content/dataset/train/images/6589f4cfb37439d7d276f0d70f7ee1f0_jpg.rf.7cd0c647da853363af83fd4223c78dee.jpg  \n",
      " extracting: /content/dataset/train/images/6589f4cfb37439d7d276f0d70f7ee1f0_jpg.rf.fb12b9c28e07eb3813f431bca229ef56.jpg  \n",
      " extracting: /content/dataset/train/images/65ba27557c78850168b1df70a3ce4ff7_jpg.rf.1431d99ebaf30d4ecb2764af7d18a452.jpg  \n",
      " extracting: /content/dataset/train/images/65ba27557c78850168b1df70a3ce4ff7_jpg.rf.30a3ce572eb4c0a6cdbc01380dd7e390.jpg  \n",
      " extracting: /content/dataset/train/images/65ba27557c78850168b1df70a3ce4ff7_jpg.rf.81006b590b068c8c93153e7f18a20c1f.jpg  \n",
      " extracting: /content/dataset/train/images/66f3c2c7c10a9263de9c6e056ba5c1b9_jpg.rf.14a1fa7ff39bebb52c565e529d7c4d21.jpg  \n",
      " extracting: /content/dataset/train/images/66f3c2c7c10a9263de9c6e056ba5c1b9_jpg.rf.b4bc9d32ccb677ebb9789a4b99869931.jpg  \n",
      " extracting: /content/dataset/train/images/66f3c2c7c10a9263de9c6e056ba5c1b9_jpg.rf.fd49e15d41262253b45c5bab05240902.jpg  \n",
      " extracting: /content/dataset/train/images/673bcd0d44f495fbe9dd88d5cacfceb3_jpg.rf.06788087ab120edd9cfeb3dde2ec559f.jpg  \n",
      " extracting: /content/dataset/train/images/673bcd0d44f495fbe9dd88d5cacfceb3_jpg.rf.3b647f8c3bb9f3fc64a0d0edf806f691.jpg  \n",
      " extracting: /content/dataset/train/images/673bcd0d44f495fbe9dd88d5cacfceb3_jpg.rf.c3db2d6f80603a8fdd150776e4a74da0.jpg  \n",
      " extracting: /content/dataset/train/images/675619f2c8078824cfd182cec2eeba95_jpg.rf.0130e3c26b1bf275bf240894ba73ed7c.jpg  \n",
      " extracting: /content/dataset/train/images/675619f2c8078824cfd182cec2eeba95_jpg.rf.13e6aede17ac36e46af40237b2af1717.jpg  \n",
      " extracting: /content/dataset/train/images/675619f2c8078824cfd182cec2eeba95_jpg.rf.5a41f34953687f23f2a1a38a223eb333.jpg  \n",
      " extracting: /content/dataset/train/images/699edbacbfee5e6d4d6d2189bc88990a_jpg.rf.05759b66a63504389df87f76ea3e1bb3.jpg  \n",
      " extracting: /content/dataset/train/images/699edbacbfee5e6d4d6d2189bc88990a_jpg.rf.57b3e5ffba66e0e4c1e7ecb65a422249.jpg  \n",
      " extracting: /content/dataset/train/images/699edbacbfee5e6d4d6d2189bc88990a_jpg.rf.ecdf9c3d5f17c0c43930335adcd9ffef.jpg  \n",
      " extracting: /content/dataset/train/images/6ba74e310dd824af891d057d674cedb9_jpg.rf.08dafde0b81de46e57122cc80a5cdc80.jpg  \n",
      " extracting: /content/dataset/train/images/6ba74e310dd824af891d057d674cedb9_jpg.rf.1a5dc9d3dcc29d0b47f898d0d5c06868.jpg  \n",
      " extracting: /content/dataset/train/images/6ba74e310dd824af891d057d674cedb9_jpg.rf.2538782d08f7ce2bebeb479450f67a8b.jpg  \n",
      " extracting: /content/dataset/train/images/6bb6f7cb96bf37230681d12ff7882f61_jpg.rf.0735069f44fbf300bb0824ee46630bd4.jpg  \n",
      " extracting: /content/dataset/train/images/6bb6f7cb96bf37230681d12ff7882f61_jpg.rf.391d72bf1073621fe3eac397ae4e34d9.jpg  \n",
      " extracting: /content/dataset/train/images/6bb6f7cb96bf37230681d12ff7882f61_jpg.rf.77cbc9c645b41068d312e144d05d3792.jpg  \n",
      " extracting: /content/dataset/train/images/6f0a888f9e5aed9516e336fd04723ce1_jpg.rf.190df401c6ca3dfa7bec7c5704ad4727.jpg  \n",
      " extracting: /content/dataset/train/images/6f0a888f9e5aed9516e336fd04723ce1_jpg.rf.8151961a5cf2cebf38ce030f7eec1b68.jpg  \n",
      " extracting: /content/dataset/train/images/6f0a888f9e5aed9516e336fd04723ce1_jpg.rf.96cb5b0fd28087f53914ec4b992a849c.jpg  \n",
      " extracting: /content/dataset/train/images/6f0de9b594de9f9b92c6a20daa51a28a_jpg.rf.8f172ec0ccc12d54f9e13be42c61f072.jpg  \n",
      " extracting: /content/dataset/train/images/6f0de9b594de9f9b92c6a20daa51a28a_jpg.rf.9716020a6b1eeb6980969dc359031f66.jpg  \n",
      " extracting: /content/dataset/train/images/6f0de9b594de9f9b92c6a20daa51a28a_jpg.rf.d10980ee6f2a7a600d16ff48d980a15c.jpg  \n",
      " extracting: /content/dataset/train/images/759a86e63667ca033255c4ab438dd392_jpg.rf.0caf155d6d5d35c723fb6b362c8c1493.jpg  \n",
      " extracting: /content/dataset/train/images/759a86e63667ca033255c4ab438dd392_jpg.rf.a5cd6d950994168a0bef9e5be6a8d5c2.jpg  \n",
      " extracting: /content/dataset/train/images/759a86e63667ca033255c4ab438dd392_jpg.rf.aec0831369eb571dbe73a6342206a8bc.jpg  \n",
      " extracting: /content/dataset/train/images/76d01bada90581f55f1ae64c062cafcf_jpg.rf.7104e065b387e61376bafda059671616.jpg  \n",
      " extracting: /content/dataset/train/images/76d01bada90581f55f1ae64c062cafcf_jpg.rf.f2bd2d4d062181b36c9a9159de7090ae.jpg  \n",
      " extracting: /content/dataset/train/images/76d01bada90581f55f1ae64c062cafcf_jpg.rf.f3d7a25fb4f47eb56b7affa5673c14f7.jpg  \n",
      " extracting: /content/dataset/train/images/76dbe2ccf986a2a0d399d3d8a47279ad_jpg.rf.26886d4d35f2aefff108d7aaf1cb37db.jpg  \n",
      " extracting: /content/dataset/train/images/76dbe2ccf986a2a0d399d3d8a47279ad_jpg.rf.b1ca3d77f5a92e76eb13e448042398fb.jpg  \n",
      " extracting: /content/dataset/train/images/76dbe2ccf986a2a0d399d3d8a47279ad_jpg.rf.b422f9fa12f7008b3ed897977e7d4948.jpg  \n",
      " extracting: /content/dataset/train/images/76e118acf05a8ebe06957f8882cc06aa_jpg.rf.4d490b0b2c2371c0a5d3c41b258631d4.jpg  \n",
      " extracting: /content/dataset/train/images/76e118acf05a8ebe06957f8882cc06aa_jpg.rf.e5dba6cdbb0e4b9636bb1a7b2eefdd5c.jpg  \n",
      " extracting: /content/dataset/train/images/76e118acf05a8ebe06957f8882cc06aa_jpg.rf.ebc8f2857885aa9442f7817ea798f5ba.jpg  \n",
      " extracting: /content/dataset/train/images/79e744a68d6e6f83be0a9e8761ea66a4_jpg.rf.1c2b3f87f6a51fb881178db2db0b228c.jpg  \n",
      " extracting: /content/dataset/train/images/79e744a68d6e6f83be0a9e8761ea66a4_jpg.rf.92eb07a6d24d7f998cedd49a676bb621.jpg  \n",
      " extracting: /content/dataset/train/images/79e744a68d6e6f83be0a9e8761ea66a4_jpg.rf.a7b671ff5bbf39d29460db7e874fe65e.jpg  \n",
      " extracting: /content/dataset/train/images/7df16cd59fb40e0691948cc805e4801b_jpg.rf.286df02ab2343ae37cddc443b06feccd.jpg  \n",
      " extracting: /content/dataset/train/images/7df16cd59fb40e0691948cc805e4801b_jpg.rf.69645d63d7ad1dcadfcb6fef8d88cbae.jpg  \n",
      " extracting: /content/dataset/train/images/7df16cd59fb40e0691948cc805e4801b_jpg.rf.8c289f8d3498de860c1c990873892987.jpg  \n",
      " extracting: /content/dataset/train/images/7ee8d13861bdc45e40a7cfe190a8d8a6_jpg.rf.a8231ed0a104c2558156dc1efa5deaa4.jpg  \n",
      " extracting: /content/dataset/train/images/7ee8d13861bdc45e40a7cfe190a8d8a6_jpg.rf.a866a35bb9ecd0567a6123b53152565f.jpg  \n",
      " extracting: /content/dataset/train/images/7ee8d13861bdc45e40a7cfe190a8d8a6_jpg.rf.d2b41f1d0bdb7f0bf1055dfa6902e7fd.jpg  \n",
      " extracting: /content/dataset/train/images/81f5c542ffe0f9eae4df59d29acbcced_jpg.rf.0a5ee623a389c32b7ede54f7b9d1bd20.jpg  \n",
      " extracting: /content/dataset/train/images/81f5c542ffe0f9eae4df59d29acbcced_jpg.rf.61fced727ced7c4956b023b20c423500.jpg  \n",
      " extracting: /content/dataset/train/images/81f5c542ffe0f9eae4df59d29acbcced_jpg.rf.91a87f1144d3374bcc23d457e1499b50.jpg  \n",
      " extracting: /content/dataset/train/images/859e7157c6d544236a67463c08169b6e_jpg.rf.4021cc08bfe2940ac1246a952028554f.jpg  \n",
      " extracting: /content/dataset/train/images/859e7157c6d544236a67463c08169b6e_jpg.rf.4136782db50a3ab23736edbd04956068.jpg  \n",
      " extracting: /content/dataset/train/images/859e7157c6d544236a67463c08169b6e_jpg.rf.ab489bf688838056d6bd5f713ada144a.jpg  \n",
      " extracting: /content/dataset/train/images/8678864272a0a04c4c65ca96324105b4_jpg.rf.156a4b6b892a8823a481394ab0acdde2.jpg  \n",
      " extracting: /content/dataset/train/images/8678864272a0a04c4c65ca96324105b4_jpg.rf.1bbe62626b8565d608b4ca8a66697d0a.jpg  \n",
      " extracting: /content/dataset/train/images/8678864272a0a04c4c65ca96324105b4_jpg.rf.f14a6dc74582fe3e7649095c22d353ac.jpg  \n",
      " extracting: /content/dataset/train/images/871597c145446cf58c1c2dd7db988864_jpg.rf.33a0386e35eceaf1f5ecca1169b3fe9f.jpg  \n",
      " extracting: /content/dataset/train/images/871597c145446cf58c1c2dd7db988864_jpg.rf.418632a00632006cb8d4b1c72f9d7777.jpg  \n",
      " extracting: /content/dataset/train/images/871597c145446cf58c1c2dd7db988864_jpg.rf.752f5219f9020f0070ef1aaa764901ed.jpg  \n",
      " extracting: /content/dataset/train/images/889c420fb266b8d0e817306110042bda_jpg.rf.2b64d4f77790efe5b99a89dbc008d2fa.jpg  \n",
      " extracting: /content/dataset/train/images/889c420fb266b8d0e817306110042bda_jpg.rf.8b7244d128b2eaa4e64c6bc4a1649911.jpg  \n",
      " extracting: /content/dataset/train/images/889c420fb266b8d0e817306110042bda_jpg.rf.e94a6dd83fdb1bba12f4a84b1388fa86.jpg  \n",
      " extracting: /content/dataset/train/images/8967433350d3b3043902603430fccaab_jpg.rf.144e0920a0999b5329faa86297b2511b.jpg  \n",
      " extracting: /content/dataset/train/images/8967433350d3b3043902603430fccaab_jpg.rf.58236ac06d7679220b6db7050d8b783d.jpg  \n",
      " extracting: /content/dataset/train/images/8967433350d3b3043902603430fccaab_jpg.rf.ed0a29dbaaa3cfed939b63f420cbe09e.jpg  \n",
      " extracting: /content/dataset/train/images/8bb72e70f0560095885586deba37a524_jpg.rf.21a0d0568779e89d7ad0a4d38262c25c.jpg  \n",
      " extracting: /content/dataset/train/images/8bb72e70f0560095885586deba37a524_jpg.rf.4998a4bf9c84c615a27d9247d6079f97.jpg  \n",
      " extracting: /content/dataset/train/images/8bb72e70f0560095885586deba37a524_jpg.rf.b13dbc1ad8ed27fb0ad5edf06e990a22.jpg  \n",
      " extracting: /content/dataset/train/images/8d6f722eadc015a393bd490f9b7a85e6_jpg.rf.599d92c366a926edbc15b3afd1d2317a.jpg  \n",
      " extracting: /content/dataset/train/images/8d6f722eadc015a393bd490f9b7a85e6_jpg.rf.c7ef5eb61f666dd9651b0f2a23cf3f60.jpg  \n",
      " extracting: /content/dataset/train/images/8d6f722eadc015a393bd490f9b7a85e6_jpg.rf.d54265714db43ff80c5b3616cc762935.jpg  \n",
      " extracting: /content/dataset/train/images/8d796de64b9eed1ffd5ebe550d4ca807_jpg.rf.47e02933a0e4907473f52cb156d27a03.jpg  \n",
      " extracting: /content/dataset/train/images/8d796de64b9eed1ffd5ebe550d4ca807_jpg.rf.4b299e7e3a7aff419e2a7693d52f5890.jpg  \n",
      " extracting: /content/dataset/train/images/8d796de64b9eed1ffd5ebe550d4ca807_jpg.rf.7c37da2bd123ae11af92e6c4bfb37518.jpg  \n",
      " extracting: /content/dataset/train/images/8dd12470c30e3b265e8933a6fee7ad28_jpg.rf.11ee9892a34c2b196cfa0cb55ecaaf73.jpg  \n",
      " extracting: /content/dataset/train/images/8dd12470c30e3b265e8933a6fee7ad28_jpg.rf.83f5aa113ef37318fe16494fc6d836b0.jpg  \n",
      " extracting: /content/dataset/train/images/8dd12470c30e3b265e8933a6fee7ad28_jpg.rf.e9434facbc330f439a3f33d614e18cb8.jpg  \n",
      " extracting: /content/dataset/train/images/8de03901c64a80070048ead3fb0d32bd_jpg.rf.3bdcf5223918218765c685e65d8efd1e.jpg  \n",
      " extracting: /content/dataset/train/images/8de03901c64a80070048ead3fb0d32bd_jpg.rf.84141f105064b57f9714500f7927f2a4.jpg  \n",
      " extracting: /content/dataset/train/images/8de03901c64a80070048ead3fb0d32bd_jpg.rf.e4be065937a901b047ab7894c2fff35a.jpg  \n",
      " extracting: /content/dataset/train/images/8f84f1945fd993facc3368d13345f333_jpg.rf.0b7d4817639d4820d53a3a92bff52578.jpg  \n",
      " extracting: /content/dataset/train/images/8f84f1945fd993facc3368d13345f333_jpg.rf.2dd383bee798d213527485d1ca3243e9.jpg  \n",
      " extracting: /content/dataset/train/images/8f84f1945fd993facc3368d13345f333_jpg.rf.506d20c9cd61cb9f88aa962af2e924f7.jpg  \n",
      " extracting: /content/dataset/train/images/8ff64b3f770bfe96bdffc629efd16460_jpg.rf.09ed33a05bcda0d77e71b945d1e0475a.jpg  \n",
      " extracting: /content/dataset/train/images/8ff64b3f770bfe96bdffc629efd16460_jpg.rf.7b4792b9f562b28d55342586be82fe91.jpg  \n",
      " extracting: /content/dataset/train/images/8ff64b3f770bfe96bdffc629efd16460_jpg.rf.9dfbcd5dcdd10632e499e2305b970292.jpg  \n",
      " extracting: /content/dataset/train/images/9146a6989dac08f1769e677064ebfb49_jpg.rf.2b88a96ff66c491128cf8c3f934d845d.jpg  \n",
      " extracting: /content/dataset/train/images/9146a6989dac08f1769e677064ebfb49_jpg.rf.f479d3177bde0b8beb172fcd798971f2.jpg  \n",
      " extracting: /content/dataset/train/images/9146a6989dac08f1769e677064ebfb49_jpg.rf.fa759e8f569722a7d3a9cea8eb790cbb.jpg  \n",
      " extracting: /content/dataset/train/images/92992ff9c823e0420bf17e71db9ef4ef_jpg.rf.2e44da4eff077a078f5186fb461f5c2e.jpg  \n",
      " extracting: /content/dataset/train/images/92992ff9c823e0420bf17e71db9ef4ef_jpg.rf.927b7a8d0224a92439c39e05b5b8f7f0.jpg  \n",
      " extracting: /content/dataset/train/images/92992ff9c823e0420bf17e71db9ef4ef_jpg.rf.b3fc57a580cfbb9c3847712a48fa46a9.jpg  \n",
      " extracting: /content/dataset/train/images/93557fc861304f7753089c244bc1e33e_jpg.rf.2eb582969dccb15da9e2a7436c58e214.jpg  \n",
      " extracting: /content/dataset/train/images/93557fc861304f7753089c244bc1e33e_jpg.rf.81179eea89bb8b659cece59aefb29a3f.jpg  \n",
      " extracting: /content/dataset/train/images/93557fc861304f7753089c244bc1e33e_jpg.rf.b322a75dd276455b652411e28eae9d28.jpg  \n",
      " extracting: /content/dataset/train/images/969daa72bd7804ea1212e191820249b0_jpg.rf.416287a296a7712c4a7e15dfebe71ba6.jpg  \n",
      " extracting: /content/dataset/train/images/969daa72bd7804ea1212e191820249b0_jpg.rf.ba89164a5a6707326ca30fa4d44c0414.jpg  \n",
      " extracting: /content/dataset/train/images/969daa72bd7804ea1212e191820249b0_jpg.rf.d8d404aa7f784c9d9a80dd9a567b62f8.jpg  \n",
      " extracting: /content/dataset/train/images/97aeb1f9b745a929e9ac0848acb53a1a_jpg.rf.3284f8666d6a9be6075774c73ec06ac4.jpg  \n",
      " extracting: /content/dataset/train/images/97aeb1f9b745a929e9ac0848acb53a1a_jpg.rf.940a166aa673e2d31ccd5d2e2f21b3b2.jpg  \n",
      " extracting: /content/dataset/train/images/97aeb1f9b745a929e9ac0848acb53a1a_jpg.rf.e56d342ac870ddbd53d31ee88c69f1be.jpg  \n",
      " extracting: /content/dataset/train/images/9962a4d44388b9008aa0f466e4f4052c_jpg.rf.271e62fd6244a808feddc27148f4f5ab.jpg  \n",
      " extracting: /content/dataset/train/images/9962a4d44388b9008aa0f466e4f4052c_jpg.rf.5335c3722d3fe9b709488d492cd5c49f.jpg  \n",
      " extracting: /content/dataset/train/images/9962a4d44388b9008aa0f466e4f4052c_jpg.rf.e631892cbc08c42fce1df2203b2a0320.jpg  \n",
      " extracting: /content/dataset/train/images/998222d9c93f1640829d4f0032dbf3e8_jpg.rf.96e7371e40c0f8f62167e9f459e7d457.jpg  \n",
      " extracting: /content/dataset/train/images/998222d9c93f1640829d4f0032dbf3e8_jpg.rf.e6970890732ecad792fc36f8d5644d5f.jpg  \n",
      " extracting: /content/dataset/train/images/998222d9c93f1640829d4f0032dbf3e8_jpg.rf.f8871eeb54a25358a97555c29fecadf4.jpg  \n",
      " extracting: /content/dataset/train/images/99ee6574b2a7afc0bb06269bbcf49a4c_jpg.rf.72f0a52418f5c4883a0d240e47d10f63.jpg  \n",
      " extracting: /content/dataset/train/images/99ee6574b2a7afc0bb06269bbcf49a4c_jpg.rf.b544a6e335dc26f90bd9bcd10bc2cd2b.jpg  \n",
      " extracting: /content/dataset/train/images/99ee6574b2a7afc0bb06269bbcf49a4c_jpg.rf.be8193d6def80fbf6e353335fa2d7169.jpg  \n",
      " extracting: /content/dataset/train/images/9a6b61a6d3b3e3ecddc201b097aa02d1_jpg.rf.56770b3733424cb8ed9bf50d15ff31ca.jpg  \n",
      " extracting: /content/dataset/train/images/9a6b61a6d3b3e3ecddc201b097aa02d1_jpg.rf.b316792e863318d8477f61831379c096.jpg  \n",
      " extracting: /content/dataset/train/images/9a6b61a6d3b3e3ecddc201b097aa02d1_jpg.rf.bb7f7ec0dc21ee5750a7f9a8924c0c84.jpg  \n",
      " extracting: /content/dataset/train/images/9c153a9c9798dab948d4260eb109b315_jpg.rf.173225adc244d19c0342031fd17b26af.jpg  \n",
      " extracting: /content/dataset/train/images/9c153a9c9798dab948d4260eb109b315_jpg.rf.70d24c98a13f6263522fb9228d4438ca.jpg  \n",
      " extracting: /content/dataset/train/images/9c153a9c9798dab948d4260eb109b315_jpg.rf.c2e67b9c11e120380ba6e552636ea3f8.jpg  \n",
      " extracting: /content/dataset/train/images/9c5fb0c3cfd7b334a247cd87c139e8e6_jpg.rf.325734823f668518210b618ac6d105e4.jpg  \n",
      " extracting: /content/dataset/train/images/9c5fb0c3cfd7b334a247cd87c139e8e6_jpg.rf.904c4ab6f7ac3d6c2ab134394b00e632.jpg  \n",
      " extracting: /content/dataset/train/images/9c5fb0c3cfd7b334a247cd87c139e8e6_jpg.rf.d1b91f7c6433bd582e4e4859d618aaa6.jpg  \n",
      " extracting: /content/dataset/train/images/9d776e74e90c4f8092b060dd7567e2f8_jpg.rf.23bd3ffda19846a2c63afa0af7313f1c.jpg  \n",
      " extracting: /content/dataset/train/images/9d776e74e90c4f8092b060dd7567e2f8_jpg.rf.660c681198650e419a8e8102c9353655.jpg  \n",
      " extracting: /content/dataset/train/images/9d776e74e90c4f8092b060dd7567e2f8_jpg.rf.e56c4f14986b14ecae9d9693766bbb09.jpg  \n",
      " extracting: /content/dataset/train/images/9e943906fba1ec89edfacb2dd7976504_jpg.rf.46907d92bd6aa9bf8f5f8ee5490f8186.jpg  \n",
      " extracting: /content/dataset/train/images/9e943906fba1ec89edfacb2dd7976504_jpg.rf.6e9e4b1b2d5fb537ddde22c5fbbff591.jpg  \n",
      " extracting: /content/dataset/train/images/9e943906fba1ec89edfacb2dd7976504_jpg.rf.eb41f79339eb1eb855a136c400b4a71f.jpg  \n",
      " extracting: /content/dataset/train/images/9fc54a45feb5b01db8f6828d181fb075_jpg.rf.95558424f2db7361bbdb93e8e51e0581.jpg  \n",
      " extracting: /content/dataset/train/images/9fc54a45feb5b01db8f6828d181fb075_jpg.rf.9c25b91d55b315043a095051fe813a9c.jpg  \n",
      " extracting: /content/dataset/train/images/9fc54a45feb5b01db8f6828d181fb075_jpg.rf.dad9895160ce142893f2d50985161176.jpg  \n",
      " extracting: /content/dataset/train/images/IMG_0166_JPG.rf.1b943996d63e88f793c9225b051e88aa.jpg  \n",
      " extracting: /content/dataset/train/images/IMG_0166_JPG.rf.5496677843330113f25e1d96d9e5501c.jpg  \n",
      " extracting: /content/dataset/train/images/IMG_0166_JPG.rf.866e83ca31acd30da2673fcb7e2abbfe.jpg  \n",
      " extracting: /content/dataset/train/images/IMG_0167_JPG.rf.51e844ec48d744ea0d541c3978e68c8f.jpg  \n",
      " extracting: /content/dataset/train/images/IMG_0167_JPG.rf.5ef94865f654a98f644c83ec15c0c7f0.jpg  \n",
      " extracting: /content/dataset/train/images/IMG_0167_JPG.rf.700e471552dde4992d80e528387e102f.jpg  \n",
      " extracting: /content/dataset/train/images/IMG_0291_JPG.rf.0c3ecbe3fa43d54ee4fbee9f4be3c957.jpg  \n",
      " extracting: /content/dataset/train/images/IMG_0291_JPG.rf.d2ba6353082aa25c15708824c08dfb27.jpg  \n",
      " extracting: /content/dataset/train/images/IMG_0291_JPG.rf.df9096730aa1a08ad2999bcd27d3ce48.jpg  \n",
      " extracting: /content/dataset/train/images/IMG_0292_JPG.rf.430049672fd781b9df9e34badf1b48a8.jpg  \n",
      " extracting: /content/dataset/train/images/IMG_0292_JPG.rf.5eba9597d38f1d22018bb5d619ef742e.jpg  \n",
      " extracting: /content/dataset/train/images/IMG_0292_JPG.rf.baaccc7cf58cb3b0c9d1bc3f1ce32a3d.jpg  \n",
      " extracting: /content/dataset/train/images/IMG_0294_JPG.rf.517f9201b72a4266d46b2954a0f80c14.jpg  \n",
      " extracting: /content/dataset/train/images/IMG_0294_JPG.rf.bd8d20acd3d837e056c6714500e83270.jpg  \n",
      " extracting: /content/dataset/train/images/IMG_0294_JPG.rf.cb349f708d70f8f46097636ec55f5419.jpg  \n",
      " extracting: /content/dataset/train/images/IMG_0295_JPG.rf.282c3259eadee31b6cfd1548f0aa4e6d.jpg  \n",
      " extracting: /content/dataset/train/images/IMG_0295_JPG.rf.32f999d96696f80ebe62ade6437b2fe2.jpg  \n",
      " extracting: /content/dataset/train/images/IMG_0295_JPG.rf.939fab6c2495e85e1b177306373fbe6e.jpg  \n",
      " extracting: /content/dataset/train/images/IMG_0296_JPG.rf.530c25c318deab34b53cadb7918fa500.jpg  \n",
      " extracting: /content/dataset/train/images/IMG_0296_JPG.rf.e8332a65a587b3f337f25bca237988af.jpg  \n",
      " extracting: /content/dataset/train/images/IMG_0296_JPG.rf.fe6246bc705bb866f527a6ae2efb1b99.jpg  \n",
      " extracting: /content/dataset/train/images/IMG_0297_JPG.rf.47e3984909ef5581659ae1a350978094.jpg  \n",
      " extracting: /content/dataset/train/images/IMG_0297_JPG.rf.5e635cca1323148499732eaf858ba2b2.jpg  \n",
      " extracting: /content/dataset/train/images/IMG_0297_JPG.rf.a66ff62117c20eb55204281f042b32c7.jpg  \n",
      " extracting: /content/dataset/train/images/IMG_0298_JPG.rf.5b5e7dd4118e128457567019a928e264.jpg  \n",
      " extracting: /content/dataset/train/images/IMG_0298_JPG.rf.6d6ac51367b303c05c261e7e8b11de67.jpg  \n",
      " extracting: /content/dataset/train/images/IMG_0298_JPG.rf.c72da1b09a38ec0adab3af9bb3abc0c1.jpg  \n",
      " extracting: /content/dataset/train/images/IMG_0299_JPG.rf.4d6c7558e7fd08da45a6fabde3296e5b.jpg  \n",
      " extracting: /content/dataset/train/images/IMG_0299_JPG.rf.9f796e9ea3695af07f61b110f53ee45f.jpg  \n",
      " extracting: /content/dataset/train/images/IMG_0299_JPG.rf.ae4ab20b4db16431416f89b8d9582906.jpg  \n",
      " extracting: /content/dataset/train/images/IMG_0317_JPG.rf.00207d2fe8c0a0f20715333d49d22b4f.jpg  \n",
      " extracting: /content/dataset/train/images/IMG_0317_JPG.rf.b4f86e6c57fca84c485b3bbcde731959.jpg  \n",
      " extracting: /content/dataset/train/images/IMG_0317_JPG.rf.c4575757a6e19ad9fb88d28b1a15193e.jpg  \n",
      " extracting: /content/dataset/train/images/IMG_0318_JPG.rf.60de6e8f2c9365770ed11379dfd1cb55.jpg  \n",
      " extracting: /content/dataset/train/images/IMG_0318_JPG.rf.8d091ab4bbe2cd70b92ad64592315ac8.jpg  \n",
      " extracting: /content/dataset/train/images/IMG_0318_JPG.rf.f752cb565b0c634895506816ba026b7e.jpg  \n",
      " extracting: /content/dataset/train/images/a20eb4bb3cea2e394cfcf9ed969b628e_jpg.rf.44943c777028499045c1f45216838729.jpg  \n",
      " extracting: /content/dataset/train/images/a20eb4bb3cea2e394cfcf9ed969b628e_jpg.rf.7e25c324029c6bddd1375645580f3009.jpg  \n",
      " extracting: /content/dataset/train/images/a20eb4bb3cea2e394cfcf9ed969b628e_jpg.rf.8e7941154e8218bc5c60a42ec75cfbf3.jpg  \n",
      " extracting: /content/dataset/train/images/a4028b2361ce7ead654a86b07ac39d52_jpg.rf.55bd810c2826cd5fbda470f36df47735.jpg  \n",
      " extracting: /content/dataset/train/images/a4028b2361ce7ead654a86b07ac39d52_jpg.rf.687ddaa40b48884e559d3606486fa7e8.jpg  \n",
      " extracting: /content/dataset/train/images/a4028b2361ce7ead654a86b07ac39d52_jpg.rf.f18fa4c1dce2f0387c451354d1e535c0.jpg  \n",
      " extracting: /content/dataset/train/images/a4ebf4c268d80c4fe329331ea981b3a1_jpg.rf.12e469ca411a793fab88746c49f8f790.jpg  \n",
      " extracting: /content/dataset/train/images/a4ebf4c268d80c4fe329331ea981b3a1_jpg.rf.31a38518592003e6e81426d0090bd58a.jpg  \n",
      " extracting: /content/dataset/train/images/a4ebf4c268d80c4fe329331ea981b3a1_jpg.rf.f2ae1ea570213bb9acdec41a1a6bcd09.jpg  \n",
      " extracting: /content/dataset/train/images/a5c65b40e0be3480c0ecfacaab399a87_jpg.rf.6147a8d031e8344d640e447c4ba2dbb9.jpg  \n",
      " extracting: /content/dataset/train/images/a5c65b40e0be3480c0ecfacaab399a87_jpg.rf.647ac6c3b9611f89b1a7a757f7051b9f.jpg  \n",
      " extracting: /content/dataset/train/images/a5c65b40e0be3480c0ecfacaab399a87_jpg.rf.d1364905ffdbf3466eff747cf5948b36.jpg  \n",
      " extracting: /content/dataset/train/images/a8847f8fe8eaaa1c97bf83027a901760_jpg.rf.69b91785d4aea8f4199f9c847b918428.jpg  \n",
      " extracting: /content/dataset/train/images/a8847f8fe8eaaa1c97bf83027a901760_jpg.rf.6df2ccc6498e99df8337ffb8ab9c488a.jpg  \n",
      " extracting: /content/dataset/train/images/a8847f8fe8eaaa1c97bf83027a901760_jpg.rf.cb0f3b1463e92615083e75629be7c4ee.jpg  \n",
      " extracting: /content/dataset/train/images/a932287da44b9dfacd0d16a5c1d27923_jpg.rf.76d1125d6c63d8f0206bfcbd6dc6df99.jpg  \n",
      " extracting: /content/dataset/train/images/a932287da44b9dfacd0d16a5c1d27923_jpg.rf.d75b9b5fea5a4c7e5b066d3caae98f9b.jpg  \n",
      " extracting: /content/dataset/train/images/a932287da44b9dfacd0d16a5c1d27923_jpg.rf.e6af160c98e230c8130c17ccd6787efa.jpg  \n",
      " extracting: /content/dataset/train/images/a9768de3fceeeae2618f362870fb9a88_jpg.rf.07e7239539431dfa4ad1282152ccad21.jpg  \n",
      " extracting: /content/dataset/train/images/a9768de3fceeeae2618f362870fb9a88_jpg.rf.444b950f0b329aa6e7ed17a86383606d.jpg  \n",
      " extracting: /content/dataset/train/images/a9768de3fceeeae2618f362870fb9a88_jpg.rf.ef561195bb5bb73478b957d2958db087.jpg  \n",
      " extracting: /content/dataset/train/images/a9987cf6cc5c6545818ec294d4a5bb9b_jpg.rf.562eed600b4725f0697896672ae6ddb2.jpg  \n",
      " extracting: /content/dataset/train/images/a9987cf6cc5c6545818ec294d4a5bb9b_jpg.rf.7d8b64ebafca42e4a7e4594d41700858.jpg  \n",
      " extracting: /content/dataset/train/images/a9987cf6cc5c6545818ec294d4a5bb9b_jpg.rf.ecb9987509a91f5df7b6dd308fb5edb8.jpg  \n",
      " extracting: /content/dataset/train/images/b0f3d66c8be13f5f6aa25b67a06bdcfa_jpg.rf.2400a74d8ca898058bbfa7a4b2fad3ed.jpg  \n",
      " extracting: /content/dataset/train/images/b0f3d66c8be13f5f6aa25b67a06bdcfa_jpg.rf.be26c1b3f90ad3ce201f81d39ce2c7a3.jpg  \n",
      " extracting: /content/dataset/train/images/b0f3d66c8be13f5f6aa25b67a06bdcfa_jpg.rf.e2479f30377a357d8c2d24488c666a98.jpg  \n",
      " extracting: /content/dataset/train/images/b3b002461f1c6b432e22964549767e5f_jpg.rf.89c6cd251768bebd0f1f27ffa57a4350.jpg  \n",
      " extracting: /content/dataset/train/images/b3b002461f1c6b432e22964549767e5f_jpg.rf.a0d7beba87e87043554e0885b9b86897.jpg  \n",
      " extracting: /content/dataset/train/images/b3b002461f1c6b432e22964549767e5f_jpg.rf.b2ec1cf3b8d3d761e56314df208ff584.jpg  \n",
      " extracting: /content/dataset/train/images/b5102d7f9740eee7754ed268becb2163_jpg.rf.1753afe30d3a07555d21ff985d2b38e9.jpg  \n",
      " extracting: /content/dataset/train/images/b5102d7f9740eee7754ed268becb2163_jpg.rf.91e588905afe5d7d801eda5ca9dcd21e.jpg  \n",
      " extracting: /content/dataset/train/images/b5102d7f9740eee7754ed268becb2163_jpg.rf.b40f1fbd9b2855b7fa5234eb32c8bb15.jpg  \n",
      " extracting: /content/dataset/train/images/b5bcde459ca36f0d1f3c20e751336672_jpg.rf.22bea80464ccb6e4d31ab5c10d11c0f9.jpg  \n",
      " extracting: /content/dataset/train/images/b5bcde459ca36f0d1f3c20e751336672_jpg.rf.aaa30a1910b6b485f2feb1daeaac3bde.jpg  \n",
      " extracting: /content/dataset/train/images/b5bcde459ca36f0d1f3c20e751336672_jpg.rf.bcad4ddc397a9e93e8f5049dc7d2ac20.jpg  \n",
      " extracting: /content/dataset/train/images/b79ae5b70de58089ead6e32b235e30d3_jpg.rf.70249336c8f66aeb7cd2c808d7e0a255.jpg  \n",
      " extracting: /content/dataset/train/images/b79ae5b70de58089ead6e32b235e30d3_jpg.rf.df8a88cab326fc33376d82c562d0b45f.jpg  \n",
      " extracting: /content/dataset/train/images/b79ae5b70de58089ead6e32b235e30d3_jpg.rf.e843446cbb3275d85d46432364a2d867.jpg  \n",
      " extracting: /content/dataset/train/images/b7a8c7de4fe1382d69f58ac97e819b5c_jpg.rf.3c92a450faed773b5607e082e798c7fa.jpg  \n",
      " extracting: /content/dataset/train/images/b7a8c7de4fe1382d69f58ac97e819b5c_jpg.rf.a896caf123ecc925575d9922df742758.jpg  \n",
      " extracting: /content/dataset/train/images/b7a8c7de4fe1382d69f58ac97e819b5c_jpg.rf.d9033064a02df12bad0b60bda98b1ff6.jpg  \n",
      " extracting: /content/dataset/train/images/bb54af2f0b83b174aecc29328c8fa001_jpg.rf.6023d601e15572d6990554f644bb1bfe.jpg  \n",
      " extracting: /content/dataset/train/images/bb54af2f0b83b174aecc29328c8fa001_jpg.rf.905a8ad083e59c277bca2ebd076a9ad1.jpg  \n",
      " extracting: /content/dataset/train/images/bb54af2f0b83b174aecc29328c8fa001_jpg.rf.a95d3e7492be3741322db734980e4372.jpg  \n",
      " extracting: /content/dataset/train/images/bc5decab88861286dcf78a367b4377cb_jpg.rf.118253b02b72c34a332d2bd78746c795.jpg  \n",
      " extracting: /content/dataset/train/images/bc5decab88861286dcf78a367b4377cb_jpg.rf.88da334f69a7c36333bc65576f4ffdfe.jpg  \n",
      " extracting: /content/dataset/train/images/bc5decab88861286dcf78a367b4377cb_jpg.rf.a4fe058da39ab9ff0b210ff464124bb2.jpg  \n",
      " extracting: /content/dataset/train/images/beb11566e59775b61f0ca369952067cc_jpg.rf.56493b995a4c4ae16d241c7e1120a53e.jpg  \n",
      " extracting: /content/dataset/train/images/beb11566e59775b61f0ca369952067cc_jpg.rf.5d2e0331a1ac2070a72fc4c12a036f53.jpg  \n",
      " extracting: /content/dataset/train/images/beb11566e59775b61f0ca369952067cc_jpg.rf.f912967037a2c28db9c37a7564017dd4.jpg  \n",
      " extracting: /content/dataset/train/images/c0d68e012bb93c14bc333fc1d5e52621_jpg.rf.1644855d8e7c4e07a615e02cdd6eb550.jpg  \n",
      " extracting: /content/dataset/train/images/c0d68e012bb93c14bc333fc1d5e52621_jpg.rf.7a3c7ca8c5ccc4d7b307f188bbfb0c85.jpg  \n",
      " extracting: /content/dataset/train/images/c0d68e012bb93c14bc333fc1d5e52621_jpg.rf.fea60abd21071433619d9002cac1d6c5.jpg  \n",
      " extracting: /content/dataset/train/images/c3e9e81ba1540aae7961a4d8d96600ba_jpg.rf.159b3ae18cb81620929e5e4847ab9ed8.jpg  \n",
      " extracting: /content/dataset/train/images/c3e9e81ba1540aae7961a4d8d96600ba_jpg.rf.32f7438c342e397838be8189c204446f.jpg  \n",
      " extracting: /content/dataset/train/images/c3e9e81ba1540aae7961a4d8d96600ba_jpg.rf.d0ef355e121a971f315ab22160109b11.jpg  \n",
      " extracting: /content/dataset/train/images/c46bf04050a2a9323dfe563e8813602f_jpg.rf.2bce3ad335a7be28858cd00cb3f40567.jpg  \n",
      " extracting: /content/dataset/train/images/c46bf04050a2a9323dfe563e8813602f_jpg.rf.3c67770c7bc1ae2f34811acc4fea44c1.jpg  \n",
      " extracting: /content/dataset/train/images/c46bf04050a2a9323dfe563e8813602f_jpg.rf.ff5a4cfb28be5ab4636539e081efb107.jpg  \n",
      " extracting: /content/dataset/train/images/c733616ab773817dd1a356dbbdf2ee33_jpg.rf.8bc96d3c3f94c91defbbb399aeb94bd0.jpg  \n",
      " extracting: /content/dataset/train/images/c733616ab773817dd1a356dbbdf2ee33_jpg.rf.8c2d39cca659bfec090ee10dd8062ef5.jpg  \n",
      " extracting: /content/dataset/train/images/c733616ab773817dd1a356dbbdf2ee33_jpg.rf.f0637765e389d17285e20d9e98d707bf.jpg  \n",
      " extracting: /content/dataset/train/images/c76c79e40bd9839a05237934cfa89ca3_jpg.rf.1bc63c348e985893973dea8fa15569ad.jpg  \n",
      " extracting: /content/dataset/train/images/c76c79e40bd9839a05237934cfa89ca3_jpg.rf.9a8aff67f0474c909c78cb647d887169.jpg  \n",
      " extracting: /content/dataset/train/images/c76c79e40bd9839a05237934cfa89ca3_jpg.rf.dee57a5076074452c76467e0c19d0ae3.jpg  \n",
      " extracting: /content/dataset/train/images/c7890b749d14d3488066cbdfac4620fd_jpg.rf.1efa9f080f6e933d2f5831041808e244.jpg  \n",
      " extracting: /content/dataset/train/images/c7890b749d14d3488066cbdfac4620fd_jpg.rf.257e75b14b6cfba7dfa565acc4e09aee.jpg  \n",
      " extracting: /content/dataset/train/images/c7890b749d14d3488066cbdfac4620fd_jpg.rf.76f2ad22e2a1c25bc8df3e234a2875e4.jpg  \n",
      " extracting: /content/dataset/train/images/ca869123d8a0cbcc6e54f4a445e5a78a_jpg.rf.1b0eec370b291dd2002d949abe4d9786.jpg  \n",
      " extracting: /content/dataset/train/images/ca869123d8a0cbcc6e54f4a445e5a78a_jpg.rf.5a9d4bcaf2ccf730c794bb7d57d77524.jpg  \n",
      " extracting: /content/dataset/train/images/ca869123d8a0cbcc6e54f4a445e5a78a_jpg.rf.cb3d9d5a5fd961cfb91b7cb00efeab83.jpg  \n",
      " extracting: /content/dataset/train/images/cae099fe41d6aa30033d71e433c33c8d_jpg.rf.2c5556b5ec9b5e12bef8a8135dbd3db6.jpg  \n",
      " extracting: /content/dataset/train/images/cae099fe41d6aa30033d71e433c33c8d_jpg.rf.4a845b5a7d4639700ca427c1099a1acc.jpg  \n",
      " extracting: /content/dataset/train/images/cae099fe41d6aa30033d71e433c33c8d_jpg.rf.e244d328c4a1dc04bdd511daa54a5bcb.jpg  \n",
      " extracting: /content/dataset/train/images/ce54969567273b9b8a275812ff56e16c_jpg.rf.29c743680e34c742cc77893515011b9e.jpg  \n",
      " extracting: /content/dataset/train/images/ce54969567273b9b8a275812ff56e16c_jpg.rf.9dcc1b3107606542dc0633cbc7ff5026.jpg  \n",
      " extracting: /content/dataset/train/images/ce54969567273b9b8a275812ff56e16c_jpg.rf.c314f1d0e3f3e5009805961ff05a7934.jpg  \n",
      " extracting: /content/dataset/train/images/cf2784fa97151d5316b2961b1e62dc45_jpg.rf.5d084fce203d3441c10c50c670717b07.jpg  \n",
      " extracting: /content/dataset/train/images/cf2784fa97151d5316b2961b1e62dc45_jpg.rf.5e86f14e3c821254e4afac25e3ade2b1.jpg  \n",
      " extracting: /content/dataset/train/images/cf2784fa97151d5316b2961b1e62dc45_jpg.rf.fe672984de7dabfff5b9cde323862f11.jpg  \n",
      " extracting: /content/dataset/train/images/d079f4e77b2445abceca7534356db743_jpg.rf.15980e0041c274dd182fc8a6bdd25047.jpg  \n",
      " extracting: /content/dataset/train/images/d079f4e77b2445abceca7534356db743_jpg.rf.86f033e983acf1e547451e03dee0e582.jpg  \n",
      " extracting: /content/dataset/train/images/d079f4e77b2445abceca7534356db743_jpg.rf.e7fc6fdfea0d14dc4c82a6068b9e4159.jpg  \n",
      " extracting: /content/dataset/train/images/d0cc2420bce5b14dfd39e55dc3737e57_jpg.rf.798223ce68149c49db97b6936b162fea.jpg  \n",
      " extracting: /content/dataset/train/images/d0cc2420bce5b14dfd39e55dc3737e57_jpg.rf.88c1e9b2ecc41404c643afeae66588e3.jpg  \n",
      " extracting: /content/dataset/train/images/d0cc2420bce5b14dfd39e55dc3737e57_jpg.rf.a1e5deac03ed76b34211a0db4f49de60.jpg  \n",
      " extracting: /content/dataset/train/images/d29148a2233950a7777285281cbfccff_jpg.rf.20e8ed774b4d58497375cf75613ce12f.jpg  \n",
      " extracting: /content/dataset/train/images/d29148a2233950a7777285281cbfccff_jpg.rf.40093760ef1ab3612d0c64743229660a.jpg  \n",
      " extracting: /content/dataset/train/images/d29148a2233950a7777285281cbfccff_jpg.rf.ac8323d05a30dae895f9f6b84d20ea68.jpg  \n",
      " extracting: /content/dataset/train/images/d33c33de41dbe1a95a43212c58fd12b7_jpg.rf.39ad6f496db1c7983d23577c21d6b498.jpg  \n",
      " extracting: /content/dataset/train/images/d33c33de41dbe1a95a43212c58fd12b7_jpg.rf.97eb2e7fe56237be37aa16911f677084.jpg  \n",
      " extracting: /content/dataset/train/images/d33c33de41dbe1a95a43212c58fd12b7_jpg.rf.b8aeaddf76563fcb8e403f431c8f746f.jpg  \n",
      " extracting: /content/dataset/train/images/d3a4e1b8f13ef89f419251f5c5839d0d_jpg.rf.0eac09b57ab66fc36635004e7f2124de.jpg  \n",
      " extracting: /content/dataset/train/images/d3a4e1b8f13ef89f419251f5c5839d0d_jpg.rf.12d1445a2e7628e803d679154eafd783.jpg  \n",
      " extracting: /content/dataset/train/images/d3a4e1b8f13ef89f419251f5c5839d0d_jpg.rf.52991bd24deab85602f52dda5aca25d4.jpg  \n",
      " extracting: /content/dataset/train/images/d415969922564f317be0d1433330626f_jpg.rf.28d3ae6c7470773e33b2e1d8ab45d13b.jpg  \n",
      " extracting: /content/dataset/train/images/d415969922564f317be0d1433330626f_jpg.rf.5bc5eaf797dffc2a83bca91da5ebcd80.jpg  \n",
      " extracting: /content/dataset/train/images/d415969922564f317be0d1433330626f_jpg.rf.ea52055e8d217e2f8c5f785c5b114aea.jpg  \n",
      " extracting: /content/dataset/train/images/d494cb268ad7f9f55587de138edc1dc4_jpg.rf.0b7a384e3d2d7cd15c45edce54fd465a.jpg  \n",
      " extracting: /content/dataset/train/images/d494cb268ad7f9f55587de138edc1dc4_jpg.rf.1225ba2bab92010c41fd82111da127c5.jpg  \n",
      " extracting: /content/dataset/train/images/d494cb268ad7f9f55587de138edc1dc4_jpg.rf.3b871f28d54bdb72507fb3451f231850.jpg  \n",
      " extracting: /content/dataset/train/images/d67b5b9e900409b050dd9bd594f90709_jpg.rf.4ee38829bdf99d869ea4efb62d7b268f.jpg  \n",
      " extracting: /content/dataset/train/images/d67b5b9e900409b050dd9bd594f90709_jpg.rf.c8f40141d74f9737a0979fb96b6f34d2.jpg  \n",
      " extracting: /content/dataset/train/images/d67b5b9e900409b050dd9bd594f90709_jpg.rf.d4b4698f0544628c496bee35512f21e2.jpg  \n",
      " extracting: /content/dataset/train/images/d795f84f39716798482fb2937868ed8a_jpg.rf.3eb9d5c21be9982bc0438b394988ec12.jpg  \n",
      " extracting: /content/dataset/train/images/d795f84f39716798482fb2937868ed8a_jpg.rf.62de48b291ec4dab492ffd28d07e46e2.jpg  \n",
      " extracting: /content/dataset/train/images/d795f84f39716798482fb2937868ed8a_jpg.rf.cad9a430bd9734f8a4d5a7bbefe008db.jpg  \n",
      " extracting: /content/dataset/train/images/d9acc69c5d57623cda22786e309201c9_jpg.rf.163bbc086efbf7cedbb02c4b36c83a28.jpg  \n",
      " extracting: /content/dataset/train/images/d9acc69c5d57623cda22786e309201c9_jpg.rf.5ee63a61ee05ff129fdbccefc3a0162e.jpg  \n",
      " extracting: /content/dataset/train/images/d9acc69c5d57623cda22786e309201c9_jpg.rf.68535cd44500e60be8d5d02bc2ff3c71.jpg  \n",
      " extracting: /content/dataset/train/images/dd6b5c3cb2d7e77f38f1dfeb2bff0431_jpg.rf.9a8ea23dbdf192fee0434dbb0eb0f22c.jpg  \n",
      " extracting: /content/dataset/train/images/dd6b5c3cb2d7e77f38f1dfeb2bff0431_jpg.rf.cc1ce4e567e8abf653acf2434e59ebdf.jpg  \n",
      " extracting: /content/dataset/train/images/dd6b5c3cb2d7e77f38f1dfeb2bff0431_jpg.rf.d5e6c00de132b8eb8ba382332327fb37.jpg  \n",
      " extracting: /content/dataset/train/images/ddad9dc4d945006d66f5349d64498559_jpg.rf.36d31b7cdbbe48577906109fa1edf766.jpg  \n",
      " extracting: /content/dataset/train/images/ddad9dc4d945006d66f5349d64498559_jpg.rf.48e7a4d1dbc55402801f6f3eb2515561.jpg  \n",
      " extracting: /content/dataset/train/images/ddad9dc4d945006d66f5349d64498559_jpg.rf.4a027c535d57e5c9ec84c9180a32c196.jpg  \n",
      " extracting: /content/dataset/train/images/de60ba81aa78387928e4bdc11f3be301_jpg.rf.6681071e793fdbd2f46b2f15c20db879.jpg  \n",
      " extracting: /content/dataset/train/images/de60ba81aa78387928e4bdc11f3be301_jpg.rf.a7cd83b2e02587367bb3305dbda0b78b.jpg  \n",
      " extracting: /content/dataset/train/images/de60ba81aa78387928e4bdc11f3be301_jpg.rf.d5ff9b3d612bf126db5f6959d6bf5cee.jpg  \n",
      " extracting: /content/dataset/train/images/e40003d4bbcdac7196b9502bfe2fb6ed_jpg.rf.b847f770b71b7f853198176ef25b8516.jpg  \n",
      " extracting: /content/dataset/train/images/e40003d4bbcdac7196b9502bfe2fb6ed_jpg.rf.d6bf64a0bd417c7ffc6c45fc60fb02a5.jpg  \n",
      " extracting: /content/dataset/train/images/e40003d4bbcdac7196b9502bfe2fb6ed_jpg.rf.fff02b8d5496821ff5b6def111287362.jpg  \n",
      " extracting: /content/dataset/train/images/e6e3a2ff2c75970490079f00136885ad_jpg.rf.196dbeb361aea01da0d89796ee64e56b.jpg  \n",
      " extracting: /content/dataset/train/images/e6e3a2ff2c75970490079f00136885ad_jpg.rf.a604bf09d249b5f66896ab2dbadd1a85.jpg  \n",
      " extracting: /content/dataset/train/images/e6e3a2ff2c75970490079f00136885ad_jpg.rf.bf5f02039da79608e7ba637b0f18b8dc.jpg  \n",
      " extracting: /content/dataset/train/images/e79deba8fe520409790b601ad61da4ee_jpg.rf.4d07e4475f01148efb81bd6fa74b14ea.jpg  \n",
      " extracting: /content/dataset/train/images/e79deba8fe520409790b601ad61da4ee_jpg.rf.83a6e8ba2d0d752b3ab81886c1c838bf.jpg  \n",
      " extracting: /content/dataset/train/images/e79deba8fe520409790b601ad61da4ee_jpg.rf.c5ace9198f249698fecd9cd44699ad3e.jpg  \n",
      " extracting: /content/dataset/train/images/e8480d7fb9881d8a0e88b7be4d103f6d_jpg.rf.45bdf3534f70d8ac1475f0521b4480b0.jpg  \n",
      " extracting: /content/dataset/train/images/e8480d7fb9881d8a0e88b7be4d103f6d_jpg.rf.928686545c1fc6e46d2b584750b57d37.jpg  \n",
      " extracting: /content/dataset/train/images/e8480d7fb9881d8a0e88b7be4d103f6d_jpg.rf.f5a8297fdaadf713f5aa50520a5aae2f.jpg  \n",
      " extracting: /content/dataset/train/images/ea799d77875c399618c45cd9409f34ee_jpg.rf.20f1e302ce66ba51ba16dd954123378d.jpg  \n",
      " extracting: /content/dataset/train/images/ea799d77875c399618c45cd9409f34ee_jpg.rf.3cbbfad204c76abb175b51ac851c1b6b.jpg  \n",
      " extracting: /content/dataset/train/images/ea799d77875c399618c45cd9409f34ee_jpg.rf.73793ae5eedc9e1a2ec843305741e27c.jpg  \n",
      " extracting: /content/dataset/train/images/eb9e7928e756c3cf9164e7afc08c4653_jpg.rf.268e96829cc026a5763f0182c1e8b842.jpg  \n",
      " extracting: /content/dataset/train/images/eb9e7928e756c3cf9164e7afc08c4653_jpg.rf.746289ad0d0f3f589717876a2b835faa.jpg  \n",
      " extracting: /content/dataset/train/images/eb9e7928e756c3cf9164e7afc08c4653_jpg.rf.7f6a60da5223783cc3525b307708142a.jpg  \n",
      " extracting: /content/dataset/train/images/ec4c30d88ecc70b6a3e76dbd9b17324a_jpg.rf.334f863b8bb588cb413d6f23e5c572e3.jpg  \n",
      " extracting: /content/dataset/train/images/ec4c30d88ecc70b6a3e76dbd9b17324a_jpg.rf.a3a828973a59e98475fa9d4c9b3bc6b0.jpg  \n",
      " extracting: /content/dataset/train/images/ec4c30d88ecc70b6a3e76dbd9b17324a_jpg.rf.aaf770cf8e03c34de0727104563ac2ee.jpg  \n",
      " extracting: /content/dataset/train/images/ec5ab1930d6aa16fff2582b48f82cada_jpg.rf.9ed7a8384c58e621e1bd8d199c9911eb.jpg  \n",
      " extracting: /content/dataset/train/images/ec5ab1930d6aa16fff2582b48f82cada_jpg.rf.a4317db23e4c499293ae36f9fd900360.jpg  \n",
      " extracting: /content/dataset/train/images/ec5ab1930d6aa16fff2582b48f82cada_jpg.rf.aae26a4e7732a2ecb663aca13ca5e2be.jpg  \n",
      " extracting: /content/dataset/train/images/edd285915356686fb53fb52c1ded0e53_jpg.rf.575ba04e0fde0ae4a7556799951ffb28.jpg  \n",
      " extracting: /content/dataset/train/images/edd285915356686fb53fb52c1ded0e53_jpg.rf.c889f2395a10814f1b3bc7c2eff34762.jpg  \n",
      " extracting: /content/dataset/train/images/edd285915356686fb53fb52c1ded0e53_jpg.rf.db25cbd151cf96bddaea8e570c74aa8a.jpg  \n",
      " extracting: /content/dataset/train/images/ef1d425fd5370fbf8b7adea43b755304_jpg.rf.098e333d5b6303fdc9c280fbaf5a79c4.jpg  \n",
      " extracting: /content/dataset/train/images/ef1d425fd5370fbf8b7adea43b755304_jpg.rf.c511c91a1669993209db75e7013631ba.jpg  \n",
      " extracting: /content/dataset/train/images/ef1d425fd5370fbf8b7adea43b755304_jpg.rf.f7787e4a869bce3acd75d98f934e857e.jpg  \n",
      " extracting: /content/dataset/train/images/f02d615907c77dc15f02bd1372e4398f_jpg.rf.30b6af213aeb1691056f9bdf8c568ffc.jpg  \n",
      " extracting: /content/dataset/train/images/f02d615907c77dc15f02bd1372e4398f_jpg.rf.8557a2e6c1a157a570333dd454271cb0.jpg  \n",
      " extracting: /content/dataset/train/images/f02d615907c77dc15f02bd1372e4398f_jpg.rf.ba5c8eb326916870dab8aeef50cd91ec.jpg  \n",
      " extracting: /content/dataset/train/images/f041d3171dfe3137390c85fc5437e447_jpg.rf.3020fee02bc4def16c99bed406ad8671.jpg  \n",
      " extracting: /content/dataset/train/images/f041d3171dfe3137390c85fc5437e447_jpg.rf.594627e68a410fbed5266fde10811a18.jpg  \n",
      " extracting: /content/dataset/train/images/f041d3171dfe3137390c85fc5437e447_jpg.rf.a4744a0326d7d31d016563fd0ab94aea.jpg  \n",
      " extracting: /content/dataset/train/images/f1ea0167087976926d4fe0aa36b961ce_jpg.rf.792c747c6116ade848581cd7c6be27e2.jpg  \n",
      " extracting: /content/dataset/train/images/f1ea0167087976926d4fe0aa36b961ce_jpg.rf.7cfb591bdf3cb30001cfecb3b153724e.jpg  \n",
      " extracting: /content/dataset/train/images/f1ea0167087976926d4fe0aa36b961ce_jpg.rf.afe8570c46a7a9651d7353b8f753e9c7.jpg  \n",
      " extracting: /content/dataset/train/images/f2672cdc28767484b556da3ab6f1003e_jpg.rf.1e58ffa93dd27f57436a6b49d82d98e7.jpg  \n",
      " extracting: /content/dataset/train/images/f2672cdc28767484b556da3ab6f1003e_jpg.rf.3509d0a9193d954d2cef5fc1371760c4.jpg  \n",
      " extracting: /content/dataset/train/images/f2672cdc28767484b556da3ab6f1003e_jpg.rf.eb54d003a3fad58875432fdfef1764bc.jpg  \n",
      " extracting: /content/dataset/train/images/f3302c754c6fd42130014199ee327d10_jpg.rf.5a539486e56c8a43d6c4eb79bf8390cf.jpg  \n",
      " extracting: /content/dataset/train/images/f3302c754c6fd42130014199ee327d10_jpg.rf.ac1176b46e92b65a435b4c64bde17da7.jpg  \n",
      " extracting: /content/dataset/train/images/f3302c754c6fd42130014199ee327d10_jpg.rf.f184e1e646cf33f3fa880c05ab94984c.jpg  \n",
      " extracting: /content/dataset/train/images/f3a5df526393445c6e2d38f66c1f5c27_jpg.rf.30434c68a81ca711cc012fba179621fb.jpg  \n",
      " extracting: /content/dataset/train/images/f3a5df526393445c6e2d38f66c1f5c27_jpg.rf.4318c9a5d50fd309db266f4e848a1202.jpg  \n",
      " extracting: /content/dataset/train/images/f3a5df526393445c6e2d38f66c1f5c27_jpg.rf.7313c3f78aaf7e508f685612f68538c7.jpg  \n",
      " extracting: /content/dataset/train/images/f52e1873b8583f8bf4f7ddf6e9649f07_jpg.rf.2537eb51bebf5c74c4bd317859fdeae6.jpg  \n",
      " extracting: /content/dataset/train/images/f52e1873b8583f8bf4f7ddf6e9649f07_jpg.rf.501bcfa0d1fb2050080a5caa9ce7ee07.jpg  \n",
      " extracting: /content/dataset/train/images/f52e1873b8583f8bf4f7ddf6e9649f07_jpg.rf.f49dc0690959dadeb1524da1a3cb38f7.jpg  \n",
      " extracting: /content/dataset/train/images/f587402be410b424bcbbac06e1dc6162_jpg.rf.23f779c5fef0d59e809103bf5bd3b7a3.jpg  \n",
      " extracting: /content/dataset/train/images/f587402be410b424bcbbac06e1dc6162_jpg.rf.b4179f89a43522928b4423c1bf422e3e.jpg  \n",
      " extracting: /content/dataset/train/images/f587402be410b424bcbbac06e1dc6162_jpg.rf.e827e0b68851bce5ae35b7bc5e7c0c4e.jpg  \n",
      " extracting: /content/dataset/train/images/f9a9a175f26d4b26bca3a5338cc1405e_jpg.rf.1bfc00ef85611686b0566f4ea49a4c9f.jpg  \n",
      " extracting: /content/dataset/train/images/f9a9a175f26d4b26bca3a5338cc1405e_jpg.rf.3260d2b6441db8b3e01beb6e26540341.jpg  \n",
      " extracting: /content/dataset/train/images/f9a9a175f26d4b26bca3a5338cc1405e_jpg.rf.d028744643f733777684eace4ef99cd6.jpg  \n",
      " extracting: /content/dataset/train/images/fa3cf2724c1648a8822b59ac0759475f_jpg.rf.2503a3b4a48386cdce9d069893234e2b.jpg  \n",
      " extracting: /content/dataset/train/images/fa3cf2724c1648a8822b59ac0759475f_jpg.rf.577379a932d9dff33794eba38ee6340d.jpg  \n",
      " extracting: /content/dataset/train/images/fa3cf2724c1648a8822b59ac0759475f_jpg.rf.89df60eac6ac5c0f593914ab045233d0.jpg  \n",
      " extracting: /content/dataset/train/images/fa4e2b9a8cf58f405f69a56c662834f2_jpg.rf.29021f89f2a16c44ecb9f34623bd3a9a.jpg  \n",
      " extracting: /content/dataset/train/images/fa4e2b9a8cf58f405f69a56c662834f2_jpg.rf.97f7416f560f73f366f58f69446c9287.jpg  \n",
      " extracting: /content/dataset/train/images/fa4e2b9a8cf58f405f69a56c662834f2_jpg.rf.d612185e16b2f1e8680764ed00dd4711.jpg  \n",
      " extracting: /content/dataset/train/images/fb586797e8ad818c7e3e3a6411f73d84_jpg.rf.57db9c805851d5fdc9e3a5f28e9717bb.jpg  \n",
      " extracting: /content/dataset/train/images/fb586797e8ad818c7e3e3a6411f73d84_jpg.rf.85d8f5b9e28cd8b994d730f9e135ab6d.jpg  \n",
      " extracting: /content/dataset/train/images/fb586797e8ad818c7e3e3a6411f73d84_jpg.rf.ed5a5085ee7d3245a50079b0e080ab12.jpg  \n",
      " extracting: /content/dataset/train/images/fc9d7bc0453cb3324406401c00224d30_jpg.rf.172aecee627f7179de58fbbc01d619f8.jpg  \n",
      " extracting: /content/dataset/train/images/fc9d7bc0453cb3324406401c00224d30_jpg.rf.d5b9739fe980fcc412eb535b6d177524.jpg  \n",
      " extracting: /content/dataset/train/images/fc9d7bc0453cb3324406401c00224d30_jpg.rf.e9e48a12d9bcbcb2a03df0571e7617b6.jpg  \n",
      "   creating: /content/dataset/train/labels/\n",
      " extracting: /content/dataset/train/labels/00bc0cacffdebe6b11bdeec56f63ee49_jpg.rf.1a1407058a6170f001f2c269411d31d3.txt  \n",
      " extracting: /content/dataset/train/labels/00bc0cacffdebe6b11bdeec56f63ee49_jpg.rf.20e061b75dc554ebe40b33189e320831.txt  \n",
      " extracting: /content/dataset/train/labels/00bc0cacffdebe6b11bdeec56f63ee49_jpg.rf.38c0bb7971151bf4cb185f5498fddcc0.txt  \n",
      " extracting: /content/dataset/train/labels/0115e4df73475b550e5c6f7a88b2474f_jpg.rf.22f030d1bd7a26c987f287d2de4b19c7.txt  \n",
      " extracting: /content/dataset/train/labels/0115e4df73475b550e5c6f7a88b2474f_jpg.rf.254cb905329fee7e2df63d14b15368db.txt  \n",
      " extracting: /content/dataset/train/labels/0115e4df73475b550e5c6f7a88b2474f_jpg.rf.9d4f5de6e48861cf9108e46aee8dbb8f.txt  \n",
      " extracting: /content/dataset/train/labels/02f0931b536dfba10affc3231a3d64fb_jpg.rf.087fbe5ea178dd757f4eb065ae5cf941.txt  \n",
      " extracting: /content/dataset/train/labels/02f0931b536dfba10affc3231a3d64fb_jpg.rf.51d15aa9df1efc29ceca818ecbce37e1.txt  \n",
      " extracting: /content/dataset/train/labels/02f0931b536dfba10affc3231a3d64fb_jpg.rf.d1c527f45625192911705f97416af54b.txt  \n",
      " extracting: /content/dataset/train/labels/0301b7f9ed4d5ba503fda79fc4370c29_jpg.rf.56da1174519560712119d3fc195068cb.txt  \n",
      " extracting: /content/dataset/train/labels/0301b7f9ed4d5ba503fda79fc4370c29_jpg.rf.7871491670bed0423e3beceb3fae8016.txt  \n",
      " extracting: /content/dataset/train/labels/0301b7f9ed4d5ba503fda79fc4370c29_jpg.rf.91a1164b0c74bbe8ab32435e44b990a4.txt  \n",
      " extracting: /content/dataset/train/labels/03886821377011fec599e8fa12d86e89_jpg.rf.44fb00bcea92435e28c1ea1a89595b32.txt  \n",
      " extracting: /content/dataset/train/labels/03886821377011fec599e8fa12d86e89_jpg.rf.7ec3f29be4f3793b35a2c4a9880d831c.txt  \n",
      " extracting: /content/dataset/train/labels/03886821377011fec599e8fa12d86e89_jpg.rf.98865e45954a6f1a7c8cdd2c0be465e2.txt  \n",
      " extracting: /content/dataset/train/labels/03d3ff4582c8125d69c19a72f846bec8_jpg.rf.0abd6e8d01091ac5396f7a9cf390bdc9.txt  \n",
      " extracting: /content/dataset/train/labels/03d3ff4582c8125d69c19a72f846bec8_jpg.rf.7a003146bd5c6847a71accae7e87bf3b.txt  \n",
      " extracting: /content/dataset/train/labels/03d3ff4582c8125d69c19a72f846bec8_jpg.rf.8cfdbdc73a4c6149758151715b2e8b44.txt  \n",
      " extracting: /content/dataset/train/labels/040f2bcba5afce3afafdd5bbf36d2ca5_jpg.rf.41718e1241c9b432c1aef73937e12feb.txt  \n",
      " extracting: /content/dataset/train/labels/040f2bcba5afce3afafdd5bbf36d2ca5_jpg.rf.4b3a8c8430ecaaf5d31ff3b6ff994876.txt  \n",
      " extracting: /content/dataset/train/labels/040f2bcba5afce3afafdd5bbf36d2ca5_jpg.rf.76f9bf46e314e3671d2b9a9fe1eff19f.txt  \n",
      " extracting: /content/dataset/train/labels/04aed88a8d23cf27e47806eb23948495_jpg.rf.0afccd002b73949b13d75032bca2828b.txt  \n",
      " extracting: /content/dataset/train/labels/04aed88a8d23cf27e47806eb23948495_jpg.rf.5b2ede62cd0912672150d67bc6ed8ead.txt  \n",
      " extracting: /content/dataset/train/labels/04aed88a8d23cf27e47806eb23948495_jpg.rf.b2b9c08d458461669627c4976b744f46.txt  \n",
      " extracting: /content/dataset/train/labels/055b79dd8db4c43e1a23be6095aaf624_jpg.rf.0cecb46a274c53aaaf172c0fbe0e6eaa.txt  \n",
      " extracting: /content/dataset/train/labels/055b79dd8db4c43e1a23be6095aaf624_jpg.rf.cd15336671f029c9f3319e08f54705e5.txt  \n",
      " extracting: /content/dataset/train/labels/055b79dd8db4c43e1a23be6095aaf624_jpg.rf.cf511a337b73cbbe392f4830229e03be.txt  \n",
      " extracting: /content/dataset/train/labels/05de676d5078dc0a13796f3f627993ef_jpg.rf.1ae70c9f54b2825eb3a4d0c4e43d7213.txt  \n",
      " extracting: /content/dataset/train/labels/05de676d5078dc0a13796f3f627993ef_jpg.rf.c37fdbdb3b34643c655814729cc944eb.txt  \n",
      " extracting: /content/dataset/train/labels/05de676d5078dc0a13796f3f627993ef_jpg.rf.cc83e123e6905474c14e40a7a06b3fbb.txt  \n",
      " extracting: /content/dataset/train/labels/06770ce99d4866165c0dfb104179c361_jpg.rf.30f74da3f9fb816762fe128339f2b880.txt  \n",
      " extracting: /content/dataset/train/labels/06770ce99d4866165c0dfb104179c361_jpg.rf.4e1731dc330bcc7c45afae38ba2a6b66.txt  \n",
      " extracting: /content/dataset/train/labels/06770ce99d4866165c0dfb104179c361_jpg.rf.6e91bc2ccd7b43b371771f4aa6565d58.txt  \n",
      " extracting: /content/dataset/train/labels/0798bfb058da59d189c1bfadcf814f29_jpg.rf.1e4fca7542b10b91f6436d8b1b3cb08f.txt  \n",
      " extracting: /content/dataset/train/labels/0798bfb058da59d189c1bfadcf814f29_jpg.rf.d15086fbba4dea88618e8da79d0e52fc.txt  \n",
      " extracting: /content/dataset/train/labels/0798bfb058da59d189c1bfadcf814f29_jpg.rf.f416b21fe1523c919632ecb16aace2e2.txt  \n",
      " extracting: /content/dataset/train/labels/0b4ba28f0c759a11750a6430649b52e3_jpg.rf.360b52c8b8fb20ebbe87ca4a63d454a4.txt  \n",
      " extracting: /content/dataset/train/labels/0b4ba28f0c759a11750a6430649b52e3_jpg.rf.79ce979766c7725eac584a892f2af5b1.txt  \n",
      " extracting: /content/dataset/train/labels/0b4ba28f0c759a11750a6430649b52e3_jpg.rf.a385c2a65e0d9faff02ab153556cd00b.txt  \n",
      " extracting: /content/dataset/train/labels/0cf670506bf9e0fe587647cd62caa232_jpg.rf.45dd2d1228e8eeb0d736bc53b3246b7c.txt  \n",
      " extracting: /content/dataset/train/labels/0cf670506bf9e0fe587647cd62caa232_jpg.rf.87a892b7346e822c1255df1993d0cb80.txt  \n",
      " extracting: /content/dataset/train/labels/0cf670506bf9e0fe587647cd62caa232_jpg.rf.e44dd3107c47246d4ec175ac16e91830.txt  \n",
      " extracting: /content/dataset/train/labels/0d9dbf62d5ee42b92bf55197bba4254d_jpg.rf.214eb5f360891da5197e1900013439ec.txt  \n",
      " extracting: /content/dataset/train/labels/0d9dbf62d5ee42b92bf55197bba4254d_jpg.rf.820147842f33369719d3eeca69bb6769.txt  \n",
      " extracting: /content/dataset/train/labels/0d9dbf62d5ee42b92bf55197bba4254d_jpg.rf.b159d61997f9dc9fdf926f76aa9c273f.txt  \n",
      " extracting: /content/dataset/train/labels/104ec0199cb67e1a359b1b0845ee66f3_jpg.rf.04dc1a59935ead8705530bd4583a1222.txt  \n",
      " extracting: /content/dataset/train/labels/104ec0199cb67e1a359b1b0845ee66f3_jpg.rf.13fe6ec9290d49ca950115c142c76d57.txt  \n",
      " extracting: /content/dataset/train/labels/104ec0199cb67e1a359b1b0845ee66f3_jpg.rf.c8750ec52c3ade1aca9de15694cf9eb5.txt  \n",
      " extracting: /content/dataset/train/labels/13106bbc80a01cc413c2ab5052d2ec25_jpg.rf.137d13b354dafa0c28ae4d8136031f6b.txt  \n",
      " extracting: /content/dataset/train/labels/13106bbc80a01cc413c2ab5052d2ec25_jpg.rf.19c72bddcf32faef8dbe854f65ec3e6f.txt  \n",
      " extracting: /content/dataset/train/labels/13106bbc80a01cc413c2ab5052d2ec25_jpg.rf.b232d48e25d062c5d25a5be4e1f81021.txt  \n",
      " extracting: /content/dataset/train/labels/1595777dfa66e954ae23655743e24809_jpg.rf.5dc97daf85a90e102fd9454665288eb5.txt  \n",
      " extracting: /content/dataset/train/labels/1595777dfa66e954ae23655743e24809_jpg.rf.86c2d8bf856a3470877532a75c12a144.txt  \n",
      " extracting: /content/dataset/train/labels/1595777dfa66e954ae23655743e24809_jpg.rf.b60c3a36f35dd1eba3d57d815d930d67.txt  \n",
      " extracting: /content/dataset/train/labels/1728cd731489df8bb8e0396e178fe393_jpg.rf.72e14139be3f1f663f1512324adbe0cd.txt  \n",
      " extracting: /content/dataset/train/labels/1728cd731489df8bb8e0396e178fe393_jpg.rf.7ef76473b0a2962c632997f2fd7570eb.txt  \n",
      " extracting: /content/dataset/train/labels/1728cd731489df8bb8e0396e178fe393_jpg.rf.cf3127987c30548d691295953a2326db.txt  \n",
      " extracting: /content/dataset/train/labels/1877a28e4c5f5c1ea68aca66f4e85d95_jpg.rf.8214b540ec0fb6594f0a37059176df33.txt  \n",
      " extracting: /content/dataset/train/labels/1877a28e4c5f5c1ea68aca66f4e85d95_jpg.rf.9e17aead7bdfecd30e23fcbd0cdf9305.txt  \n",
      " extracting: /content/dataset/train/labels/1877a28e4c5f5c1ea68aca66f4e85d95_jpg.rf.c65abe6a33f5679f8c1e84d9029a77e4.txt  \n",
      " extracting: /content/dataset/train/labels/196829feb704a34a4e471155f14bdd80_jpg.rf.344f88ded341e5b5351c31ddc7e07fdb.txt  \n",
      " extracting: /content/dataset/train/labels/196829feb704a34a4e471155f14bdd80_jpg.rf.6c682963e8e934a976fb4a4373bf05b4.txt  \n",
      " extracting: /content/dataset/train/labels/196829feb704a34a4e471155f14bdd80_jpg.rf.7f5d3545dcb27e896e6f68208ca86dcd.txt  \n",
      " extracting: /content/dataset/train/labels/1a530d578f3f0bf3497bfeff3d953025_jpg.rf.a03681d6dbbeb2e50eac9e1feabbd309.txt  \n",
      " extracting: /content/dataset/train/labels/1a530d578f3f0bf3497bfeff3d953025_jpg.rf.a920532b8b005cc545bc368ad3c8f2ef.txt  \n",
      " extracting: /content/dataset/train/labels/1a530d578f3f0bf3497bfeff3d953025_jpg.rf.b8a3b1a645357b4ab6dc8daa540ba89d.txt  \n",
      " extracting: /content/dataset/train/labels/1a8a4abcba7c4ead35c01f05b9fae8e5_jpg.rf.442f136a399a1f9fe7ebdbfb4ba111a1.txt  \n",
      " extracting: /content/dataset/train/labels/1a8a4abcba7c4ead35c01f05b9fae8e5_jpg.rf.d4317263bf28a3b3e8a9e0f6618e9745.txt  \n",
      " extracting: /content/dataset/train/labels/1a8a4abcba7c4ead35c01f05b9fae8e5_jpg.rf.e7ce7cfefb2970bf066ee8409dafc31f.txt  \n",
      " extracting: /content/dataset/train/labels/1b4ccdf7d5ff45dc6c3885243bde5af2_jpg.rf.26b8553d31c5667b5ac5c7249bf80642.txt  \n",
      " extracting: /content/dataset/train/labels/1b4ccdf7d5ff45dc6c3885243bde5af2_jpg.rf.31d77a84d3d6370bc2aed5ffd3e6f2e8.txt  \n",
      " extracting: /content/dataset/train/labels/1b4ccdf7d5ff45dc6c3885243bde5af2_jpg.rf.92bd5a7bb83cb5d8639db85d02fe7511.txt  \n",
      " extracting: /content/dataset/train/labels/22e74efb18b2d88fba63d25a61bf5f97_jpg.rf.385b3e9a3203fff03fb378e343ccff7b.txt  \n",
      " extracting: /content/dataset/train/labels/22e74efb18b2d88fba63d25a61bf5f97_jpg.rf.a3d860399c54e7d955b2235f44679f53.txt  \n",
      " extracting: /content/dataset/train/labels/22e74efb18b2d88fba63d25a61bf5f97_jpg.rf.e472c82b49f6f6da28b302bda8ecc4d4.txt  \n",
      " extracting: /content/dataset/train/labels/23988893ef7381fece6d1ef32ef5428f_jpg.rf.bde765e553747a196d113f9fec702805.txt  \n",
      " extracting: /content/dataset/train/labels/23988893ef7381fece6d1ef32ef5428f_jpg.rf.c17c56f4463bd4def9641c0218c16471.txt  \n",
      " extracting: /content/dataset/train/labels/23988893ef7381fece6d1ef32ef5428f_jpg.rf.dd1332a601e86a4f219edb4145bdf239.txt  \n",
      " extracting: /content/dataset/train/labels/239c409d5c09b493fed01a70a3cda4bc_jpg.rf.01a3333223abb899709f52303c100d19.txt  \n",
      " extracting: /content/dataset/train/labels/239c409d5c09b493fed01a70a3cda4bc_jpg.rf.0da84dd41081b1d68b3eed86259f4927.txt  \n",
      " extracting: /content/dataset/train/labels/239c409d5c09b493fed01a70a3cda4bc_jpg.rf.8f3596ebdf348f77b1bde7b51557bf0f.txt  \n",
      " extracting: /content/dataset/train/labels/247f9cf35a263dc7dd7886b187fd5480_jpg.rf.21d5039624e6deb14401c708a2ebcdcb.txt  \n",
      " extracting: /content/dataset/train/labels/247f9cf35a263dc7dd7886b187fd5480_jpg.rf.d77746d6c6ff2592f94f08d808a5947d.txt  \n",
      " extracting: /content/dataset/train/labels/247f9cf35a263dc7dd7886b187fd5480_jpg.rf.f0572fa5484481b70ca83d63a3d7e184.txt  \n",
      " extracting: /content/dataset/train/labels/254f92b18b2a81f88b85e7aed3cabc61_jpg.rf.040f2bb097a768c0c16d459430205a70.txt  \n",
      " extracting: /content/dataset/train/labels/254f92b18b2a81f88b85e7aed3cabc61_jpg.rf.4c7568df4f838db750f7d7b54122210b.txt  \n",
      " extracting: /content/dataset/train/labels/254f92b18b2a81f88b85e7aed3cabc61_jpg.rf.a55e3d26992b9f4d43e7f317a078689b.txt  \n",
      " extracting: /content/dataset/train/labels/26d663ab5ffbec49f9dc8e592982cfd4_jpg.rf.0fe973299ff9e73874d9e684cba4e406.txt  \n",
      " extracting: /content/dataset/train/labels/26d663ab5ffbec49f9dc8e592982cfd4_jpg.rf.5e1a9d49ad09f5a7549225a05e1f66a6.txt  \n",
      " extracting: /content/dataset/train/labels/26d663ab5ffbec49f9dc8e592982cfd4_jpg.rf.bb226be189ee3a6399fbbd5080852e5b.txt  \n",
      " extracting: /content/dataset/train/labels/285d7c487a4e20ad832a74acb527b77f_jpg.rf.3dc659a479a4644b5a633a089379b94c.txt  \n",
      " extracting: /content/dataset/train/labels/285d7c487a4e20ad832a74acb527b77f_jpg.rf.5898c8f286182a8e159cb26d009defc3.txt  \n",
      " extracting: /content/dataset/train/labels/285d7c487a4e20ad832a74acb527b77f_jpg.rf.df00faf5828d265a002f42c16f6aab0a.txt  \n",
      " extracting: /content/dataset/train/labels/292b0ddcacad7de06a628980954b6993_jpg.rf.67f9ea5e7adf1465fa4334d3cad42707.txt  \n",
      " extracting: /content/dataset/train/labels/292b0ddcacad7de06a628980954b6993_jpg.rf.f38c3bb31f5e00206f9dd1882d9aa1b1.txt  \n",
      " extracting: /content/dataset/train/labels/292b0ddcacad7de06a628980954b6993_jpg.rf.ffb6b085a9d60c9f2c2e7524963000a4.txt  \n",
      " extracting: /content/dataset/train/labels/2c32afd520cc8bf076dfa5b6e2e1c4c1_jpg.rf.85581a8cd489d624f76364df69817031.txt  \n",
      " extracting: /content/dataset/train/labels/2c32afd520cc8bf076dfa5b6e2e1c4c1_jpg.rf.87c42395d755e8a3dd8c496a501efa69.txt  \n",
      " extracting: /content/dataset/train/labels/2c32afd520cc8bf076dfa5b6e2e1c4c1_jpg.rf.df50bc6bf291f7313cae27c09bb9c8a0.txt  \n",
      " extracting: /content/dataset/train/labels/2ee0fd0963465ba29d8f27c6e605c55d_jpg.rf.744c9a5ed432b0fccbd744ba3fe4b247.txt  \n",
      " extracting: /content/dataset/train/labels/2ee0fd0963465ba29d8f27c6e605c55d_jpg.rf.ab3d6a72f56e3d0a0fb341073880b760.txt  \n",
      " extracting: /content/dataset/train/labels/2ee0fd0963465ba29d8f27c6e605c55d_jpg.rf.b725ad9181e61d96753ab8a50c4b0aa9.txt  \n",
      " extracting: /content/dataset/train/labels/2fe75c34fd54e960146fb8b0ad8b3fd6_jpg.rf.46b8727756f5cbdf9d26a07bf9ee78d7.txt  \n",
      " extracting: /content/dataset/train/labels/2fe75c34fd54e960146fb8b0ad8b3fd6_jpg.rf.5b4da5b9403cb9506ae3e52de96842fc.txt  \n",
      " extracting: /content/dataset/train/labels/2fe75c34fd54e960146fb8b0ad8b3fd6_jpg.rf.693b072eeb2a9b531b0857ce94b0fedc.txt  \n",
      " extracting: /content/dataset/train/labels/300f80826bbb7dc4bf83e148614f2f77_jpg.rf.145cd48465162eac7e40dfeca236f55b.txt  \n",
      " extracting: /content/dataset/train/labels/300f80826bbb7dc4bf83e148614f2f77_jpg.rf.5281cacb5e3bcfc6bc9056ce0acc5e70.txt  \n",
      " extracting: /content/dataset/train/labels/300f80826bbb7dc4bf83e148614f2f77_jpg.rf.9839ccdb0a608ad3c703bc90147df6ca.txt  \n",
      " extracting: /content/dataset/train/labels/3057eba7e9b0221ddbdc96a01f39ab79_jpg.rf.2447ca37ec7de9b84cadcbbe539525e9.txt  \n",
      " extracting: /content/dataset/train/labels/3057eba7e9b0221ddbdc96a01f39ab79_jpg.rf.349a5aaf97f4108589df81010c7c4bde.txt  \n",
      " extracting: /content/dataset/train/labels/3057eba7e9b0221ddbdc96a01f39ab79_jpg.rf.787d84dddfa8b765df03c4b1af8fa18c.txt  \n",
      " extracting: /content/dataset/train/labels/3091c9b25d76e9cbd0af83ced9f354e5_jpg.rf.8df700ac741b6284988ebf22aabf95e9.txt  \n",
      " extracting: /content/dataset/train/labels/3091c9b25d76e9cbd0af83ced9f354e5_jpg.rf.afa51006174811b7734f491d2d6ad2b7.txt  \n",
      " extracting: /content/dataset/train/labels/3091c9b25d76e9cbd0af83ced9f354e5_jpg.rf.bfe4874bf78f4241bf8a602aef15c352.txt  \n",
      " extracting: /content/dataset/train/labels/31419854b103ca6becc4cc394c449e95_jpg.rf.1d33687e2a30c2496be1818a82863686.txt  \n",
      " extracting: /content/dataset/train/labels/31419854b103ca6becc4cc394c449e95_jpg.rf.4fcab5207dfc54387d4589fbc69c7a47.txt  \n",
      " extracting: /content/dataset/train/labels/31419854b103ca6becc4cc394c449e95_jpg.rf.9640ba223176f79f1fc49b0258a4da86.txt  \n",
      " extracting: /content/dataset/train/labels/3161933dffedf8a859d6623a99492c53_jpg.rf.8cff35ee63144dcc204352db8773f590.txt  \n",
      " extracting: /content/dataset/train/labels/3161933dffedf8a859d6623a99492c53_jpg.rf.972fd8a3af30fa01316510fbb84cccc6.txt  \n",
      " extracting: /content/dataset/train/labels/3161933dffedf8a859d6623a99492c53_jpg.rf.b3cca32040dcb031002296f83298f3d1.txt  \n",
      " extracting: /content/dataset/train/labels/3474d785b1b21d68163f56aa00a92bc9_jpg.rf.526eb41b7d4b9055bcd36adc5d65734a.txt  \n",
      " extracting: /content/dataset/train/labels/3474d785b1b21d68163f56aa00a92bc9_jpg.rf.6ae75801d3082ec64235d399987e2f2d.txt  \n",
      " extracting: /content/dataset/train/labels/3474d785b1b21d68163f56aa00a92bc9_jpg.rf.dc30237c228a1ef77d0fa95a2836791e.txt  \n",
      " extracting: /content/dataset/train/labels/34ad1966ae7a17d4502ca141413ed8d2_jpg.rf.33e7286b5e4b1d97dc8521130bfbb381.txt  \n",
      " extracting: /content/dataset/train/labels/34ad1966ae7a17d4502ca141413ed8d2_jpg.rf.b4e802ae4c541fc3c17ccf55d8653abe.txt  \n",
      " extracting: /content/dataset/train/labels/34ad1966ae7a17d4502ca141413ed8d2_jpg.rf.e8667dbbad2ad13b03ae4e809af01fda.txt  \n",
      " extracting: /content/dataset/train/labels/36066ba85572ce99198f1a21c2c8bbff_jpg.rf.0e1fe87ccd50187773a1725f684648e4.txt  \n",
      " extracting: /content/dataset/train/labels/36066ba85572ce99198f1a21c2c8bbff_jpg.rf.7cc3238420fd4fdce4e67d256d487f9f.txt  \n",
      " extracting: /content/dataset/train/labels/36066ba85572ce99198f1a21c2c8bbff_jpg.rf.b2440aa8c27cef761d6f79eb24689ca9.txt  \n",
      " extracting: /content/dataset/train/labels/3730ef213ac6aad431475a9ab28f349a_jpg.rf.077f757828e9ff709c4e1e8b90f2bd52.txt  \n",
      " extracting: /content/dataset/train/labels/3730ef213ac6aad431475a9ab28f349a_jpg.rf.7529be3c45ccff8446d9464f88f8d1ae.txt  \n",
      " extracting: /content/dataset/train/labels/3730ef213ac6aad431475a9ab28f349a_jpg.rf.94811f6e8a9f59622e25c0ccc4b39c91.txt  \n",
      " extracting: /content/dataset/train/labels/3796db002cba7265bd32b0161ddd9127_jpg.rf.41aa0068bba0c15b03cb7a681aa6533c.txt  \n",
      " extracting: /content/dataset/train/labels/3796db002cba7265bd32b0161ddd9127_jpg.rf.7b8109ee9b9e4dc55b72ec056ee8a747.txt  \n",
      " extracting: /content/dataset/train/labels/3796db002cba7265bd32b0161ddd9127_jpg.rf.e6cc5ba486f5c2010b53ccfa048a0c66.txt  \n",
      " extracting: /content/dataset/train/labels/37fe05bcf7d8568a9e55b569afdbccbd_jpg.rf.024d7337fe60aa8e79bdefe7b2a3bb9b.txt  \n",
      " extracting: /content/dataset/train/labels/37fe05bcf7d8568a9e55b569afdbccbd_jpg.rf.3a8156b29c22bf3e8a0a9fb0e019b005.txt  \n",
      " extracting: /content/dataset/train/labels/37fe05bcf7d8568a9e55b569afdbccbd_jpg.rf.9f9e465232a4c7b586422397223786e9.txt  \n",
      " extracting: /content/dataset/train/labels/383c2ed7bbe2d327ab55a871db497c33_jpg.rf.86e4f3f7434d212f1874685d71056f1a.txt  \n",
      " extracting: /content/dataset/train/labels/383c2ed7bbe2d327ab55a871db497c33_jpg.rf.9d983827ab445085bc8eef5da0b96932.txt  \n",
      " extracting: /content/dataset/train/labels/383c2ed7bbe2d327ab55a871db497c33_jpg.rf.bb72df5de81f3e76ee75e36e99566217.txt  \n",
      " extracting: /content/dataset/train/labels/389b4c47568c78c44df11dbb1377ffea_jpg.rf.0185f6bf38d82f7cbf9365edd7b2bfc7.txt  \n",
      " extracting: /content/dataset/train/labels/389b4c47568c78c44df11dbb1377ffea_jpg.rf.4105215a89a9e91f39916aabf7bd3724.txt  \n",
      " extracting: /content/dataset/train/labels/389b4c47568c78c44df11dbb1377ffea_jpg.rf.8ecdacfacb51a1088354bbae4d6a0731.txt  \n",
      " extracting: /content/dataset/train/labels/38f26ee82e38d332b2a831aa47bd363b_jpg.rf.70eebaf376a7a948c757715dad519b41.txt  \n",
      " extracting: /content/dataset/train/labels/38f26ee82e38d332b2a831aa47bd363b_jpg.rf.8e046f6c557a95effc7ca1d7e69c2dee.txt  \n",
      " extracting: /content/dataset/train/labels/38f26ee82e38d332b2a831aa47bd363b_jpg.rf.9531ac0c4855e848bb2d188218efe2ed.txt  \n",
      " extracting: /content/dataset/train/labels/3914be0cea4aa8a6bbd1081ec3b034a7_jpg.rf.95fd9107c63ea71989cd7fddd5d9e033.txt  \n",
      " extracting: /content/dataset/train/labels/3914be0cea4aa8a6bbd1081ec3b034a7_jpg.rf.a2edb468c84f94882c8d1ed4b983d810.txt  \n",
      " extracting: /content/dataset/train/labels/3914be0cea4aa8a6bbd1081ec3b034a7_jpg.rf.dc33766dd5985aee3962019edd74dd7a.txt  \n",
      " extracting: /content/dataset/train/labels/3bab0eaaeb63a2ac9ae4942df4006a25_jpg.rf.8fd1c7b01ae630cdb96546469e0c742d.txt  \n",
      " extracting: /content/dataset/train/labels/3bab0eaaeb63a2ac9ae4942df4006a25_jpg.rf.b78947d5207c15119ee81058a1b75c1e.txt  \n",
      " extracting: /content/dataset/train/labels/3bab0eaaeb63a2ac9ae4942df4006a25_jpg.rf.d137ab448f3c219896325f1e464c9cdc.txt  \n",
      " extracting: /content/dataset/train/labels/3e8fb24addda1a0945bd6b7777bc4018_jpg.rf.57548fe2320bf43321fcf4372bfe6e2f.txt  \n",
      " extracting: /content/dataset/train/labels/3e8fb24addda1a0945bd6b7777bc4018_jpg.rf.bc9daf0bd452e0c7dfd9167761e02135.txt  \n",
      " extracting: /content/dataset/train/labels/3e8fb24addda1a0945bd6b7777bc4018_jpg.rf.f842c9757bdb85fddeddce5fddd65bc0.txt  \n",
      " extracting: /content/dataset/train/labels/446e75de1ffefc2115e79696bcf0e357_jpg.rf.378829d017d56bcfbe81248206ba928d.txt  \n",
      " extracting: /content/dataset/train/labels/446e75de1ffefc2115e79696bcf0e357_jpg.rf.c74c5023e09478494c8b41aa67f070fe.txt  \n",
      " extracting: /content/dataset/train/labels/446e75de1ffefc2115e79696bcf0e357_jpg.rf.fc5ddb0686d3ecafa3b5a0c5ae084777.txt  \n",
      " extracting: /content/dataset/train/labels/4667110b61b16e786673ed6126ccc35d_jpg.rf.3dc2ee18962afee7c0f61083d17ed411.txt  \n",
      " extracting: /content/dataset/train/labels/4667110b61b16e786673ed6126ccc35d_jpg.rf.a4f83fe2f7c74d0fde01c1fcb729af7c.txt  \n",
      " extracting: /content/dataset/train/labels/4667110b61b16e786673ed6126ccc35d_jpg.rf.b58c56605fbe3e496fa3a357f3dce9b7.txt  \n",
      " extracting: /content/dataset/train/labels/479459fe5c8213a84fd55ba82f2670b1_jpg.rf.a4c7681de134fd46a3463e388f1e48ec.txt  \n",
      " extracting: /content/dataset/train/labels/479459fe5c8213a84fd55ba82f2670b1_jpg.rf.aed5813593dffed834ffe36cd1a2e976.txt  \n",
      " extracting: /content/dataset/train/labels/479459fe5c8213a84fd55ba82f2670b1_jpg.rf.d7c8eb7af0feef6985de36ee54a50f84.txt  \n",
      " extracting: /content/dataset/train/labels/47e842dd95735a11cf92c0ddf1161193_jpg.rf.550ba2f2bb261d19394fa2973ec4480a.txt  \n",
      " extracting: /content/dataset/train/labels/47e842dd95735a11cf92c0ddf1161193_jpg.rf.60c38d132c7d19cb8454be79650d53a5.txt  \n",
      " extracting: /content/dataset/train/labels/47e842dd95735a11cf92c0ddf1161193_jpg.rf.a08d492a1f68458ff0d6eb299c6a8478.txt  \n",
      " extracting: /content/dataset/train/labels/4807629b8df9c7eb4366b7feccd72e6a_jpg.rf.3a08163076ee5b06be9828b63ec69139.txt  \n",
      " extracting: /content/dataset/train/labels/4807629b8df9c7eb4366b7feccd72e6a_jpg.rf.478258d366ce8053d7b5400071103a8b.txt  \n",
      " extracting: /content/dataset/train/labels/4807629b8df9c7eb4366b7feccd72e6a_jpg.rf.52cd2115863114b29306879f88bb2650.txt  \n",
      " extracting: /content/dataset/train/labels/4894f034a55eaa9252cd261a62b11d27_jpg.rf.bcd60bd54187dbd564c6d84e8a4d3cb9.txt  \n",
      " extracting: /content/dataset/train/labels/4894f034a55eaa9252cd261a62b11d27_jpg.rf.e153d650cc91ee8985dbc0f9b5050e98.txt  \n",
      " extracting: /content/dataset/train/labels/4894f034a55eaa9252cd261a62b11d27_jpg.rf.ec15ec6e91a0367ded74d29495beadca.txt  \n",
      " extracting: /content/dataset/train/labels/48d3c59a99b2b5a5b9f1eb7d5ba63b60_jpg.rf.03a5018519fa45d9439d5716a03d3d02.txt  \n",
      " extracting: /content/dataset/train/labels/48d3c59a99b2b5a5b9f1eb7d5ba63b60_jpg.rf.303fc026ea7df3c5cafd1f551ed75390.txt  \n",
      " extracting: /content/dataset/train/labels/48d3c59a99b2b5a5b9f1eb7d5ba63b60_jpg.rf.d798956fd75f2a961a741523c14d932b.txt  \n",
      " extracting: /content/dataset/train/labels/48e115dcbf1b3a67ca47a75a92da3f33_jpg.rf.213e4eb4f61d74e9b61d8c7032da1766.txt  \n",
      " extracting: /content/dataset/train/labels/48e115dcbf1b3a67ca47a75a92da3f33_jpg.rf.5b14a17bd1d17edb532b6b6db9c35077.txt  \n",
      " extracting: /content/dataset/train/labels/48e115dcbf1b3a67ca47a75a92da3f33_jpg.rf.957bf6dd4345aa7c771e116ba8273385.txt  \n",
      " extracting: /content/dataset/train/labels/4939035108d04ee672570a7cc937e270_jpg.rf.0bb1cc45c05e40db8106b53800168de6.txt  \n",
      " extracting: /content/dataset/train/labels/4939035108d04ee672570a7cc937e270_jpg.rf.665362625fea5d5db13389cfa7a51e28.txt  \n",
      " extracting: /content/dataset/train/labels/4939035108d04ee672570a7cc937e270_jpg.rf.c676ffd8b63ca7b82aeb3348c032c768.txt  \n",
      " extracting: /content/dataset/train/labels/49c2afbbe5726160b289f7c0c62cdace_jpg.rf.18b76575c39d8cf45f9a9a8b6c6b6646.txt  \n",
      " extracting: /content/dataset/train/labels/49c2afbbe5726160b289f7c0c62cdace_jpg.rf.518f9a645071b5dfd9104711c09c2b49.txt  \n",
      " extracting: /content/dataset/train/labels/49c2afbbe5726160b289f7c0c62cdace_jpg.rf.c09e87097759a1f3c86cfc83a677ee7d.txt  \n",
      " extracting: /content/dataset/train/labels/49d365236ee4fb6bd982b0f00bff007e_jpg.rf.526a1568df59ddce6050cf2bce92f260.txt  \n",
      " extracting: /content/dataset/train/labels/49d365236ee4fb6bd982b0f00bff007e_jpg.rf.64f40e96e43baa404c6341ccd672ca08.txt  \n",
      " extracting: /content/dataset/train/labels/49d365236ee4fb6bd982b0f00bff007e_jpg.rf.da164da26c512372f70e3090200361a9.txt  \n",
      " extracting: /content/dataset/train/labels/49f78dc9aaeadd0c76ed2def75c358f3_jpg.rf.8df70d46b69b46482c5a2bab67b045b2.txt  \n",
      " extracting: /content/dataset/train/labels/49f78dc9aaeadd0c76ed2def75c358f3_jpg.rf.c79a51cf35ad3e236c3ea41e5a659b31.txt  \n",
      " extracting: /content/dataset/train/labels/49f78dc9aaeadd0c76ed2def75c358f3_jpg.rf.f80f03233e3dea74dbb92e5f2340f29a.txt  \n",
      " extracting: /content/dataset/train/labels/4ae38537a74c5ed10d5223f8066659fc_jpg.rf.2a3fc30eafd01a0c64b484b6082ded39.txt  \n",
      " extracting: /content/dataset/train/labels/4ae38537a74c5ed10d5223f8066659fc_jpg.rf.b01826258e0bba0f3ad3f79f161ca106.txt  \n",
      " extracting: /content/dataset/train/labels/4ae38537a74c5ed10d5223f8066659fc_jpg.rf.c07420cc60cdf3ede129a75dec9678e6.txt  \n",
      " extracting: /content/dataset/train/labels/4bf38c062fa7b5796d15ba90d6c3a456_jpg.rf.54d7350f0b18e8ec51cc8b9c351f6dce.txt  \n",
      " extracting: /content/dataset/train/labels/4bf38c062fa7b5796d15ba90d6c3a456_jpg.rf.5dc82d8843d5593359743fb73bd57edd.txt  \n",
      " extracting: /content/dataset/train/labels/4bf38c062fa7b5796d15ba90d6c3a456_jpg.rf.91410d81d86b82171fe7b271b94a4f58.txt  \n",
      " extracting: /content/dataset/train/labels/4d6b667ecbd41ebd603b38848366d9d0_jpg.rf.316c7f9af0955c14bc8303c62d5f0cd6.txt  \n",
      " extracting: /content/dataset/train/labels/4d6b667ecbd41ebd603b38848366d9d0_jpg.rf.4e30bb8f1b1048c822c448c40663b90d.txt  \n",
      " extracting: /content/dataset/train/labels/4d6b667ecbd41ebd603b38848366d9d0_jpg.rf.7cc24cb0d6e9d83179bc05d30f21bb49.txt  \n",
      " extracting: /content/dataset/train/labels/4d7820ad9fb4fe69d5168e1d7317dd02_jpg.rf.64764ea1b78a8aec014ead34271137f7.txt  \n",
      " extracting: /content/dataset/train/labels/4d7820ad9fb4fe69d5168e1d7317dd02_jpg.rf.8cb302097c3cd4d1488ba6ed0b6c0abf.txt  \n",
      " extracting: /content/dataset/train/labels/4d7820ad9fb4fe69d5168e1d7317dd02_jpg.rf.fe26c65d9b961251ae7dc598e45679b8.txt  \n",
      " extracting: /content/dataset/train/labels/4de23afff63bc169b4ebe547a9c9b692_jpg.rf.958dc90b7cb5eeb2bdc66b0356537d03.txt  \n",
      " extracting: /content/dataset/train/labels/4de23afff63bc169b4ebe547a9c9b692_jpg.rf.b16d4e221a3c932898f7efac57ab331f.txt  \n",
      " extracting: /content/dataset/train/labels/4de23afff63bc169b4ebe547a9c9b692_jpg.rf.d5caca6c6352c358873e2bcbe08dcb3e.txt  \n",
      " extracting: /content/dataset/train/labels/4eb630d4dd38528dacf72355caf5c06d_jpg.rf.542d02f24b1238b2b8ddf7e63669c6f1.txt  \n",
      " extracting: /content/dataset/train/labels/4eb630d4dd38528dacf72355caf5c06d_jpg.rf.aa4d36c64699330596d6503653e43b00.txt  \n",
      " extracting: /content/dataset/train/labels/4eb630d4dd38528dacf72355caf5c06d_jpg.rf.d291d9ff254a5001b29ef8ce2d722509.txt  \n",
      " extracting: /content/dataset/train/labels/53de0674524ae6d77bdfff48136dec2a_jpg.rf.108f3dd477ce61cd4f9251ab967b9ed5.txt  \n",
      " extracting: /content/dataset/train/labels/53de0674524ae6d77bdfff48136dec2a_jpg.rf.418e577139ae88cec5118571c10db894.txt  \n",
      " extracting: /content/dataset/train/labels/53de0674524ae6d77bdfff48136dec2a_jpg.rf.bd9646f1a26121fe3ab5d9ee21242c82.txt  \n",
      " extracting: /content/dataset/train/labels/54a90aab8c73562975cc560d51a9d2d1_jpg.rf.3de5a183732df4464edd9264ff210593.txt  \n",
      " extracting: /content/dataset/train/labels/54a90aab8c73562975cc560d51a9d2d1_jpg.rf.6d2f9f9d7b95d619880e632d994d535f.txt  \n",
      " extracting: /content/dataset/train/labels/54a90aab8c73562975cc560d51a9d2d1_jpg.rf.f081bba0a3c5e5e14c0b6bd94992465f.txt  \n",
      " extracting: /content/dataset/train/labels/5758322233deed7ae7adc23536db2a4f_jpg.rf.07a3d3e2244da0cdeddc6bf88e0d86a1.txt  \n",
      " extracting: /content/dataset/train/labels/5758322233deed7ae7adc23536db2a4f_jpg.rf.469940331ca0c0fbabd2eaad8348ed71.txt  \n",
      " extracting: /content/dataset/train/labels/5758322233deed7ae7adc23536db2a4f_jpg.rf.b16cd14d6af50949e7efe4fffdf0a1d1.txt  \n",
      " extracting: /content/dataset/train/labels/5825608dccde6544eef91822136079d0_jpg.rf.7978595f8c77d14fd89ab7a6f37a165d.txt  \n",
      " extracting: /content/dataset/train/labels/5825608dccde6544eef91822136079d0_jpg.rf.8eb618cb2ddaa495dce8b3c21edb5a03.txt  \n",
      " extracting: /content/dataset/train/labels/5825608dccde6544eef91822136079d0_jpg.rf.dc066eb4cb44e69c2e98df8a874f613e.txt  \n",
      " extracting: /content/dataset/train/labels/59727dce26aaa6100078810b61404069_jpg.rf.133f5f4c2d66f3c1cb83e25323606c51.txt  \n",
      " extracting: /content/dataset/train/labels/59727dce26aaa6100078810b61404069_jpg.rf.7921f54d55b72950940731ff0736852a.txt  \n",
      " extracting: /content/dataset/train/labels/59727dce26aaa6100078810b61404069_jpg.rf.86632bfcf9c96df565417f9cb5e54245.txt  \n",
      " extracting: /content/dataset/train/labels/5a8433ec79c881f84ef19a07dc73665d_jpg.rf.00544a8110f323e0d7721b3acf2a9e1e.txt  \n",
      " extracting: /content/dataset/train/labels/5a8433ec79c881f84ef19a07dc73665d_jpg.rf.4f609e90d2f6cf6dfdc09b85b8540822.txt  \n",
      " extracting: /content/dataset/train/labels/5a8433ec79c881f84ef19a07dc73665d_jpg.rf.ff374a0e164f5d51813ebbdb38ae9167.txt  \n",
      " extracting: /content/dataset/train/labels/5cecd3b3946aac5c713a51e0bd4617c9_jpg.rf.95fed532326e22f1bc20ee6f4768fb46.txt  \n",
      " extracting: /content/dataset/train/labels/5cecd3b3946aac5c713a51e0bd4617c9_jpg.rf.b6acbacc6e21614897ae17bfc1610149.txt  \n",
      " extracting: /content/dataset/train/labels/5cecd3b3946aac5c713a51e0bd4617c9_jpg.rf.e3e350b59dff7927d46041502756c8f3.txt  \n",
      " extracting: /content/dataset/train/labels/5e71cb8d41c333a18e799ef0004b040c_jpg.rf.05d2a8f977945663a18db2cc223250d3.txt  \n",
      " extracting: /content/dataset/train/labels/5e71cb8d41c333a18e799ef0004b040c_jpg.rf.3b081eddaeaa4d9e1da3f8990354d2b8.txt  \n",
      " extracting: /content/dataset/train/labels/5e71cb8d41c333a18e799ef0004b040c_jpg.rf.8a014b0d0195c6cc3a046974a1fec787.txt  \n",
      " extracting: /content/dataset/train/labels/614811e933a680fd6535ac8bf06bf530_jpg.rf.283f06fa4884ea55a91410d9ca4f937c.txt  \n",
      " extracting: /content/dataset/train/labels/614811e933a680fd6535ac8bf06bf530_jpg.rf.a3ef46761353d060a2693bb7ada2ab7e.txt  \n",
      " extracting: /content/dataset/train/labels/614811e933a680fd6535ac8bf06bf530_jpg.rf.fb18ccc88d4752a62d47a3260f9e0cf9.txt  \n",
      " extracting: /content/dataset/train/labels/614aadadb4a7f5b475b027b8e11398ee_jpg.rf.01b40c037e8cf1ff49c740244753af5a.txt  \n",
      " extracting: /content/dataset/train/labels/614aadadb4a7f5b475b027b8e11398ee_jpg.rf.04c134d966574ad5fdcacfb8ab619fd6.txt  \n",
      " extracting: /content/dataset/train/labels/614aadadb4a7f5b475b027b8e11398ee_jpg.rf.9c328189083b33832b90aa43f1de101d.txt  \n",
      " extracting: /content/dataset/train/labels/61567b97353acc18ba9e8aac0f111326_jpg.rf.5765711e8acd7531ab0b7c5df47febf7.txt  \n",
      " extracting: /content/dataset/train/labels/61567b97353acc18ba9e8aac0f111326_jpg.rf.94cec1f562c9e5d3eb3b3544eecc72a0.txt  \n",
      " extracting: /content/dataset/train/labels/61567b97353acc18ba9e8aac0f111326_jpg.rf.9744632c3305a0e7db1b8035a4cd3f5f.txt  \n",
      " extracting: /content/dataset/train/labels/6179b463c8f503445e213b706d2a4de5_jpg.rf.60047d46835605a44d1373c2fbc9d86a.txt  \n",
      " extracting: /content/dataset/train/labels/6179b463c8f503445e213b706d2a4de5_jpg.rf.6dad401212f974d778d11ec908ef1845.txt  \n",
      " extracting: /content/dataset/train/labels/6179b463c8f503445e213b706d2a4de5_jpg.rf.8d422c23f907d10ba6ce02a34fc3e32e.txt  \n",
      " extracting: /content/dataset/train/labels/6403b91d63799cb9b5531c47b195d088_jpg.rf.5cc9e50f7632e7938bead4a10e5fff77.txt  \n",
      " extracting: /content/dataset/train/labels/6403b91d63799cb9b5531c47b195d088_jpg.rf.c98b6f1a55887b0abf43a46704ffce4a.txt  \n",
      " extracting: /content/dataset/train/labels/6403b91d63799cb9b5531c47b195d088_jpg.rf.f88dea07bfc6c748c9b2bbdb9142935b.txt  \n",
      " extracting: /content/dataset/train/labels/6589f4cfb37439d7d276f0d70f7ee1f0_jpg.rf.5e07c88452d0555565cf271ea458a66e.txt  \n",
      " extracting: /content/dataset/train/labels/6589f4cfb37439d7d276f0d70f7ee1f0_jpg.rf.7cd0c647da853363af83fd4223c78dee.txt  \n",
      " extracting: /content/dataset/train/labels/6589f4cfb37439d7d276f0d70f7ee1f0_jpg.rf.fb12b9c28e07eb3813f431bca229ef56.txt  \n",
      " extracting: /content/dataset/train/labels/65ba27557c78850168b1df70a3ce4ff7_jpg.rf.1431d99ebaf30d4ecb2764af7d18a452.txt  \n",
      " extracting: /content/dataset/train/labels/65ba27557c78850168b1df70a3ce4ff7_jpg.rf.30a3ce572eb4c0a6cdbc01380dd7e390.txt  \n",
      " extracting: /content/dataset/train/labels/65ba27557c78850168b1df70a3ce4ff7_jpg.rf.81006b590b068c8c93153e7f18a20c1f.txt  \n",
      " extracting: /content/dataset/train/labels/66f3c2c7c10a9263de9c6e056ba5c1b9_jpg.rf.14a1fa7ff39bebb52c565e529d7c4d21.txt  \n",
      " extracting: /content/dataset/train/labels/66f3c2c7c10a9263de9c6e056ba5c1b9_jpg.rf.b4bc9d32ccb677ebb9789a4b99869931.txt  \n",
      " extracting: /content/dataset/train/labels/66f3c2c7c10a9263de9c6e056ba5c1b9_jpg.rf.fd49e15d41262253b45c5bab05240902.txt  \n",
      " extracting: /content/dataset/train/labels/673bcd0d44f495fbe9dd88d5cacfceb3_jpg.rf.06788087ab120edd9cfeb3dde2ec559f.txt  \n",
      " extracting: /content/dataset/train/labels/673bcd0d44f495fbe9dd88d5cacfceb3_jpg.rf.3b647f8c3bb9f3fc64a0d0edf806f691.txt  \n",
      " extracting: /content/dataset/train/labels/673bcd0d44f495fbe9dd88d5cacfceb3_jpg.rf.c3db2d6f80603a8fdd150776e4a74da0.txt  \n",
      " extracting: /content/dataset/train/labels/675619f2c8078824cfd182cec2eeba95_jpg.rf.0130e3c26b1bf275bf240894ba73ed7c.txt  \n",
      " extracting: /content/dataset/train/labels/675619f2c8078824cfd182cec2eeba95_jpg.rf.13e6aede17ac36e46af40237b2af1717.txt  \n",
      " extracting: /content/dataset/train/labels/675619f2c8078824cfd182cec2eeba95_jpg.rf.5a41f34953687f23f2a1a38a223eb333.txt  \n",
      " extracting: /content/dataset/train/labels/699edbacbfee5e6d4d6d2189bc88990a_jpg.rf.05759b66a63504389df87f76ea3e1bb3.txt  \n",
      " extracting: /content/dataset/train/labels/699edbacbfee5e6d4d6d2189bc88990a_jpg.rf.57b3e5ffba66e0e4c1e7ecb65a422249.txt  \n",
      " extracting: /content/dataset/train/labels/699edbacbfee5e6d4d6d2189bc88990a_jpg.rf.ecdf9c3d5f17c0c43930335adcd9ffef.txt  \n",
      " extracting: /content/dataset/train/labels/6ba74e310dd824af891d057d674cedb9_jpg.rf.08dafde0b81de46e57122cc80a5cdc80.txt  \n",
      " extracting: /content/dataset/train/labels/6ba74e310dd824af891d057d674cedb9_jpg.rf.1a5dc9d3dcc29d0b47f898d0d5c06868.txt  \n",
      " extracting: /content/dataset/train/labels/6ba74e310dd824af891d057d674cedb9_jpg.rf.2538782d08f7ce2bebeb479450f67a8b.txt  \n",
      " extracting: /content/dataset/train/labels/6bb6f7cb96bf37230681d12ff7882f61_jpg.rf.0735069f44fbf300bb0824ee46630bd4.txt  \n",
      " extracting: /content/dataset/train/labels/6bb6f7cb96bf37230681d12ff7882f61_jpg.rf.391d72bf1073621fe3eac397ae4e34d9.txt  \n",
      " extracting: /content/dataset/train/labels/6bb6f7cb96bf37230681d12ff7882f61_jpg.rf.77cbc9c645b41068d312e144d05d3792.txt  \n",
      " extracting: /content/dataset/train/labels/6f0a888f9e5aed9516e336fd04723ce1_jpg.rf.190df401c6ca3dfa7bec7c5704ad4727.txt  \n",
      " extracting: /content/dataset/train/labels/6f0a888f9e5aed9516e336fd04723ce1_jpg.rf.8151961a5cf2cebf38ce030f7eec1b68.txt  \n",
      " extracting: /content/dataset/train/labels/6f0a888f9e5aed9516e336fd04723ce1_jpg.rf.96cb5b0fd28087f53914ec4b992a849c.txt  \n",
      " extracting: /content/dataset/train/labels/6f0de9b594de9f9b92c6a20daa51a28a_jpg.rf.8f172ec0ccc12d54f9e13be42c61f072.txt  \n",
      " extracting: /content/dataset/train/labels/6f0de9b594de9f9b92c6a20daa51a28a_jpg.rf.9716020a6b1eeb6980969dc359031f66.txt  \n",
      " extracting: /content/dataset/train/labels/6f0de9b594de9f9b92c6a20daa51a28a_jpg.rf.d10980ee6f2a7a600d16ff48d980a15c.txt  \n",
      " extracting: /content/dataset/train/labels/759a86e63667ca033255c4ab438dd392_jpg.rf.0caf155d6d5d35c723fb6b362c8c1493.txt  \n",
      " extracting: /content/dataset/train/labels/759a86e63667ca033255c4ab438dd392_jpg.rf.a5cd6d950994168a0bef9e5be6a8d5c2.txt  \n",
      " extracting: /content/dataset/train/labels/759a86e63667ca033255c4ab438dd392_jpg.rf.aec0831369eb571dbe73a6342206a8bc.txt  \n",
      " extracting: /content/dataset/train/labels/76d01bada90581f55f1ae64c062cafcf_jpg.rf.7104e065b387e61376bafda059671616.txt  \n",
      " extracting: /content/dataset/train/labels/76d01bada90581f55f1ae64c062cafcf_jpg.rf.f2bd2d4d062181b36c9a9159de7090ae.txt  \n",
      " extracting: /content/dataset/train/labels/76d01bada90581f55f1ae64c062cafcf_jpg.rf.f3d7a25fb4f47eb56b7affa5673c14f7.txt  \n",
      " extracting: /content/dataset/train/labels/76dbe2ccf986a2a0d399d3d8a47279ad_jpg.rf.26886d4d35f2aefff108d7aaf1cb37db.txt  \n",
      " extracting: /content/dataset/train/labels/76dbe2ccf986a2a0d399d3d8a47279ad_jpg.rf.b1ca3d77f5a92e76eb13e448042398fb.txt  \n",
      " extracting: /content/dataset/train/labels/76dbe2ccf986a2a0d399d3d8a47279ad_jpg.rf.b422f9fa12f7008b3ed897977e7d4948.txt  \n",
      " extracting: /content/dataset/train/labels/76e118acf05a8ebe06957f8882cc06aa_jpg.rf.4d490b0b2c2371c0a5d3c41b258631d4.txt  \n",
      " extracting: /content/dataset/train/labels/76e118acf05a8ebe06957f8882cc06aa_jpg.rf.e5dba6cdbb0e4b9636bb1a7b2eefdd5c.txt  \n",
      " extracting: /content/dataset/train/labels/76e118acf05a8ebe06957f8882cc06aa_jpg.rf.ebc8f2857885aa9442f7817ea798f5ba.txt  \n",
      " extracting: /content/dataset/train/labels/79e744a68d6e6f83be0a9e8761ea66a4_jpg.rf.1c2b3f87f6a51fb881178db2db0b228c.txt  \n",
      " extracting: /content/dataset/train/labels/79e744a68d6e6f83be0a9e8761ea66a4_jpg.rf.92eb07a6d24d7f998cedd49a676bb621.txt  \n",
      " extracting: /content/dataset/train/labels/79e744a68d6e6f83be0a9e8761ea66a4_jpg.rf.a7b671ff5bbf39d29460db7e874fe65e.txt  \n",
      " extracting: /content/dataset/train/labels/7df16cd59fb40e0691948cc805e4801b_jpg.rf.286df02ab2343ae37cddc443b06feccd.txt  \n",
      " extracting: /content/dataset/train/labels/7df16cd59fb40e0691948cc805e4801b_jpg.rf.69645d63d7ad1dcadfcb6fef8d88cbae.txt  \n",
      " extracting: /content/dataset/train/labels/7df16cd59fb40e0691948cc805e4801b_jpg.rf.8c289f8d3498de860c1c990873892987.txt  \n",
      " extracting: /content/dataset/train/labels/7ee8d13861bdc45e40a7cfe190a8d8a6_jpg.rf.a8231ed0a104c2558156dc1efa5deaa4.txt  \n",
      " extracting: /content/dataset/train/labels/7ee8d13861bdc45e40a7cfe190a8d8a6_jpg.rf.a866a35bb9ecd0567a6123b53152565f.txt  \n",
      " extracting: /content/dataset/train/labels/7ee8d13861bdc45e40a7cfe190a8d8a6_jpg.rf.d2b41f1d0bdb7f0bf1055dfa6902e7fd.txt  \n",
      " extracting: /content/dataset/train/labels/81f5c542ffe0f9eae4df59d29acbcced_jpg.rf.0a5ee623a389c32b7ede54f7b9d1bd20.txt  \n",
      " extracting: /content/dataset/train/labels/81f5c542ffe0f9eae4df59d29acbcced_jpg.rf.61fced727ced7c4956b023b20c423500.txt  \n",
      " extracting: /content/dataset/train/labels/81f5c542ffe0f9eae4df59d29acbcced_jpg.rf.91a87f1144d3374bcc23d457e1499b50.txt  \n",
      " extracting: /content/dataset/train/labels/859e7157c6d544236a67463c08169b6e_jpg.rf.4021cc08bfe2940ac1246a952028554f.txt  \n",
      " extracting: /content/dataset/train/labels/859e7157c6d544236a67463c08169b6e_jpg.rf.4136782db50a3ab23736edbd04956068.txt  \n",
      " extracting: /content/dataset/train/labels/859e7157c6d544236a67463c08169b6e_jpg.rf.ab489bf688838056d6bd5f713ada144a.txt  \n",
      " extracting: /content/dataset/train/labels/8678864272a0a04c4c65ca96324105b4_jpg.rf.156a4b6b892a8823a481394ab0acdde2.txt  \n",
      " extracting: /content/dataset/train/labels/8678864272a0a04c4c65ca96324105b4_jpg.rf.1bbe62626b8565d608b4ca8a66697d0a.txt  \n",
      " extracting: /content/dataset/train/labels/8678864272a0a04c4c65ca96324105b4_jpg.rf.f14a6dc74582fe3e7649095c22d353ac.txt  \n",
      " extracting: /content/dataset/train/labels/871597c145446cf58c1c2dd7db988864_jpg.rf.33a0386e35eceaf1f5ecca1169b3fe9f.txt  \n",
      " extracting: /content/dataset/train/labels/871597c145446cf58c1c2dd7db988864_jpg.rf.418632a00632006cb8d4b1c72f9d7777.txt  \n",
      " extracting: /content/dataset/train/labels/871597c145446cf58c1c2dd7db988864_jpg.rf.752f5219f9020f0070ef1aaa764901ed.txt  \n",
      " extracting: /content/dataset/train/labels/889c420fb266b8d0e817306110042bda_jpg.rf.2b64d4f77790efe5b99a89dbc008d2fa.txt  \n",
      " extracting: /content/dataset/train/labels/889c420fb266b8d0e817306110042bda_jpg.rf.8b7244d128b2eaa4e64c6bc4a1649911.txt  \n",
      " extracting: /content/dataset/train/labels/889c420fb266b8d0e817306110042bda_jpg.rf.e94a6dd83fdb1bba12f4a84b1388fa86.txt  \n",
      " extracting: /content/dataset/train/labels/8967433350d3b3043902603430fccaab_jpg.rf.144e0920a0999b5329faa86297b2511b.txt  \n",
      " extracting: /content/dataset/train/labels/8967433350d3b3043902603430fccaab_jpg.rf.58236ac06d7679220b6db7050d8b783d.txt  \n",
      " extracting: /content/dataset/train/labels/8967433350d3b3043902603430fccaab_jpg.rf.ed0a29dbaaa3cfed939b63f420cbe09e.txt  \n",
      " extracting: /content/dataset/train/labels/8bb72e70f0560095885586deba37a524_jpg.rf.21a0d0568779e89d7ad0a4d38262c25c.txt  \n",
      " extracting: /content/dataset/train/labels/8bb72e70f0560095885586deba37a524_jpg.rf.4998a4bf9c84c615a27d9247d6079f97.txt  \n",
      " extracting: /content/dataset/train/labels/8bb72e70f0560095885586deba37a524_jpg.rf.b13dbc1ad8ed27fb0ad5edf06e990a22.txt  \n",
      " extracting: /content/dataset/train/labels/8d6f722eadc015a393bd490f9b7a85e6_jpg.rf.599d92c366a926edbc15b3afd1d2317a.txt  \n",
      " extracting: /content/dataset/train/labels/8d6f722eadc015a393bd490f9b7a85e6_jpg.rf.c7ef5eb61f666dd9651b0f2a23cf3f60.txt  \n",
      " extracting: /content/dataset/train/labels/8d6f722eadc015a393bd490f9b7a85e6_jpg.rf.d54265714db43ff80c5b3616cc762935.txt  \n",
      " extracting: /content/dataset/train/labels/8d796de64b9eed1ffd5ebe550d4ca807_jpg.rf.47e02933a0e4907473f52cb156d27a03.txt  \n",
      " extracting: /content/dataset/train/labels/8d796de64b9eed1ffd5ebe550d4ca807_jpg.rf.4b299e7e3a7aff419e2a7693d52f5890.txt  \n",
      " extracting: /content/dataset/train/labels/8d796de64b9eed1ffd5ebe550d4ca807_jpg.rf.7c37da2bd123ae11af92e6c4bfb37518.txt  \n",
      " extracting: /content/dataset/train/labels/8dd12470c30e3b265e8933a6fee7ad28_jpg.rf.11ee9892a34c2b196cfa0cb55ecaaf73.txt  \n",
      " extracting: /content/dataset/train/labels/8dd12470c30e3b265e8933a6fee7ad28_jpg.rf.83f5aa113ef37318fe16494fc6d836b0.txt  \n",
      " extracting: /content/dataset/train/labels/8dd12470c30e3b265e8933a6fee7ad28_jpg.rf.e9434facbc330f439a3f33d614e18cb8.txt  \n",
      " extracting: /content/dataset/train/labels/8de03901c64a80070048ead3fb0d32bd_jpg.rf.3bdcf5223918218765c685e65d8efd1e.txt  \n",
      " extracting: /content/dataset/train/labels/8de03901c64a80070048ead3fb0d32bd_jpg.rf.84141f105064b57f9714500f7927f2a4.txt  \n",
      " extracting: /content/dataset/train/labels/8de03901c64a80070048ead3fb0d32bd_jpg.rf.e4be065937a901b047ab7894c2fff35a.txt  \n",
      " extracting: /content/dataset/train/labels/8f84f1945fd993facc3368d13345f333_jpg.rf.0b7d4817639d4820d53a3a92bff52578.txt  \n",
      " extracting: /content/dataset/train/labels/8f84f1945fd993facc3368d13345f333_jpg.rf.2dd383bee798d213527485d1ca3243e9.txt  \n",
      " extracting: /content/dataset/train/labels/8f84f1945fd993facc3368d13345f333_jpg.rf.506d20c9cd61cb9f88aa962af2e924f7.txt  \n",
      " extracting: /content/dataset/train/labels/8ff64b3f770bfe96bdffc629efd16460_jpg.rf.09ed33a05bcda0d77e71b945d1e0475a.txt  \n",
      " extracting: /content/dataset/train/labels/8ff64b3f770bfe96bdffc629efd16460_jpg.rf.7b4792b9f562b28d55342586be82fe91.txt  \n",
      " extracting: /content/dataset/train/labels/8ff64b3f770bfe96bdffc629efd16460_jpg.rf.9dfbcd5dcdd10632e499e2305b970292.txt  \n",
      " extracting: /content/dataset/train/labels/9146a6989dac08f1769e677064ebfb49_jpg.rf.2b88a96ff66c491128cf8c3f934d845d.txt  \n",
      " extracting: /content/dataset/train/labels/9146a6989dac08f1769e677064ebfb49_jpg.rf.f479d3177bde0b8beb172fcd798971f2.txt  \n",
      " extracting: /content/dataset/train/labels/9146a6989dac08f1769e677064ebfb49_jpg.rf.fa759e8f569722a7d3a9cea8eb790cbb.txt  \n",
      " extracting: /content/dataset/train/labels/92992ff9c823e0420bf17e71db9ef4ef_jpg.rf.2e44da4eff077a078f5186fb461f5c2e.txt  \n",
      " extracting: /content/dataset/train/labels/92992ff9c823e0420bf17e71db9ef4ef_jpg.rf.927b7a8d0224a92439c39e05b5b8f7f0.txt  \n",
      " extracting: /content/dataset/train/labels/92992ff9c823e0420bf17e71db9ef4ef_jpg.rf.b3fc57a580cfbb9c3847712a48fa46a9.txt  \n",
      " extracting: /content/dataset/train/labels/93557fc861304f7753089c244bc1e33e_jpg.rf.2eb582969dccb15da9e2a7436c58e214.txt  \n",
      " extracting: /content/dataset/train/labels/93557fc861304f7753089c244bc1e33e_jpg.rf.81179eea89bb8b659cece59aefb29a3f.txt  \n",
      " extracting: /content/dataset/train/labels/93557fc861304f7753089c244bc1e33e_jpg.rf.b322a75dd276455b652411e28eae9d28.txt  \n",
      " extracting: /content/dataset/train/labels/969daa72bd7804ea1212e191820249b0_jpg.rf.416287a296a7712c4a7e15dfebe71ba6.txt  \n",
      " extracting: /content/dataset/train/labels/969daa72bd7804ea1212e191820249b0_jpg.rf.ba89164a5a6707326ca30fa4d44c0414.txt  \n",
      " extracting: /content/dataset/train/labels/969daa72bd7804ea1212e191820249b0_jpg.rf.d8d404aa7f784c9d9a80dd9a567b62f8.txt  \n",
      " extracting: /content/dataset/train/labels/97aeb1f9b745a929e9ac0848acb53a1a_jpg.rf.3284f8666d6a9be6075774c73ec06ac4.txt  \n",
      " extracting: /content/dataset/train/labels/97aeb1f9b745a929e9ac0848acb53a1a_jpg.rf.940a166aa673e2d31ccd5d2e2f21b3b2.txt  \n",
      " extracting: /content/dataset/train/labels/97aeb1f9b745a929e9ac0848acb53a1a_jpg.rf.e56d342ac870ddbd53d31ee88c69f1be.txt  \n",
      " extracting: /content/dataset/train/labels/9962a4d44388b9008aa0f466e4f4052c_jpg.rf.271e62fd6244a808feddc27148f4f5ab.txt  \n",
      " extracting: /content/dataset/train/labels/9962a4d44388b9008aa0f466e4f4052c_jpg.rf.5335c3722d3fe9b709488d492cd5c49f.txt  \n",
      " extracting: /content/dataset/train/labels/9962a4d44388b9008aa0f466e4f4052c_jpg.rf.e631892cbc08c42fce1df2203b2a0320.txt  \n",
      " extracting: /content/dataset/train/labels/998222d9c93f1640829d4f0032dbf3e8_jpg.rf.96e7371e40c0f8f62167e9f459e7d457.txt  \n",
      " extracting: /content/dataset/train/labels/998222d9c93f1640829d4f0032dbf3e8_jpg.rf.e6970890732ecad792fc36f8d5644d5f.txt  \n",
      " extracting: /content/dataset/train/labels/998222d9c93f1640829d4f0032dbf3e8_jpg.rf.f8871eeb54a25358a97555c29fecadf4.txt  \n",
      " extracting: /content/dataset/train/labels/99ee6574b2a7afc0bb06269bbcf49a4c_jpg.rf.72f0a52418f5c4883a0d240e47d10f63.txt  \n",
      " extracting: /content/dataset/train/labels/99ee6574b2a7afc0bb06269bbcf49a4c_jpg.rf.b544a6e335dc26f90bd9bcd10bc2cd2b.txt  \n",
      " extracting: /content/dataset/train/labels/99ee6574b2a7afc0bb06269bbcf49a4c_jpg.rf.be8193d6def80fbf6e353335fa2d7169.txt  \n",
      " extracting: /content/dataset/train/labels/9a6b61a6d3b3e3ecddc201b097aa02d1_jpg.rf.56770b3733424cb8ed9bf50d15ff31ca.txt  \n",
      " extracting: /content/dataset/train/labels/9a6b61a6d3b3e3ecddc201b097aa02d1_jpg.rf.b316792e863318d8477f61831379c096.txt  \n",
      " extracting: /content/dataset/train/labels/9a6b61a6d3b3e3ecddc201b097aa02d1_jpg.rf.bb7f7ec0dc21ee5750a7f9a8924c0c84.txt  \n",
      " extracting: /content/dataset/train/labels/9c153a9c9798dab948d4260eb109b315_jpg.rf.173225adc244d19c0342031fd17b26af.txt  \n",
      " extracting: /content/dataset/train/labels/9c153a9c9798dab948d4260eb109b315_jpg.rf.70d24c98a13f6263522fb9228d4438ca.txt  \n",
      " extracting: /content/dataset/train/labels/9c153a9c9798dab948d4260eb109b315_jpg.rf.c2e67b9c11e120380ba6e552636ea3f8.txt  \n",
      " extracting: /content/dataset/train/labels/9c5fb0c3cfd7b334a247cd87c139e8e6_jpg.rf.325734823f668518210b618ac6d105e4.txt  \n",
      " extracting: /content/dataset/train/labels/9c5fb0c3cfd7b334a247cd87c139e8e6_jpg.rf.904c4ab6f7ac3d6c2ab134394b00e632.txt  \n",
      " extracting: /content/dataset/train/labels/9c5fb0c3cfd7b334a247cd87c139e8e6_jpg.rf.d1b91f7c6433bd582e4e4859d618aaa6.txt  \n",
      " extracting: /content/dataset/train/labels/9d776e74e90c4f8092b060dd7567e2f8_jpg.rf.23bd3ffda19846a2c63afa0af7313f1c.txt  \n",
      " extracting: /content/dataset/train/labels/9d776e74e90c4f8092b060dd7567e2f8_jpg.rf.660c681198650e419a8e8102c9353655.txt  \n",
      " extracting: /content/dataset/train/labels/9d776e74e90c4f8092b060dd7567e2f8_jpg.rf.e56c4f14986b14ecae9d9693766bbb09.txt  \n",
      " extracting: /content/dataset/train/labels/9e943906fba1ec89edfacb2dd7976504_jpg.rf.46907d92bd6aa9bf8f5f8ee5490f8186.txt  \n",
      " extracting: /content/dataset/train/labels/9e943906fba1ec89edfacb2dd7976504_jpg.rf.6e9e4b1b2d5fb537ddde22c5fbbff591.txt  \n",
      " extracting: /content/dataset/train/labels/9e943906fba1ec89edfacb2dd7976504_jpg.rf.eb41f79339eb1eb855a136c400b4a71f.txt  \n",
      " extracting: /content/dataset/train/labels/9fc54a45feb5b01db8f6828d181fb075_jpg.rf.95558424f2db7361bbdb93e8e51e0581.txt  \n",
      " extracting: /content/dataset/train/labels/9fc54a45feb5b01db8f6828d181fb075_jpg.rf.9c25b91d55b315043a095051fe813a9c.txt  \n",
      " extracting: /content/dataset/train/labels/9fc54a45feb5b01db8f6828d181fb075_jpg.rf.dad9895160ce142893f2d50985161176.txt  \n",
      " extracting: /content/dataset/train/labels/IMG_0166_JPG.rf.1b943996d63e88f793c9225b051e88aa.txt  \n",
      " extracting: /content/dataset/train/labels/IMG_0166_JPG.rf.5496677843330113f25e1d96d9e5501c.txt  \n",
      " extracting: /content/dataset/train/labels/IMG_0166_JPG.rf.866e83ca31acd30da2673fcb7e2abbfe.txt  \n",
      " extracting: /content/dataset/train/labels/IMG_0167_JPG.rf.51e844ec48d744ea0d541c3978e68c8f.txt  \n",
      " extracting: /content/dataset/train/labels/IMG_0167_JPG.rf.5ef94865f654a98f644c83ec15c0c7f0.txt  \n",
      " extracting: /content/dataset/train/labels/IMG_0167_JPG.rf.700e471552dde4992d80e528387e102f.txt  \n",
      " extracting: /content/dataset/train/labels/IMG_0291_JPG.rf.0c3ecbe3fa43d54ee4fbee9f4be3c957.txt  \n",
      " extracting: /content/dataset/train/labels/IMG_0291_JPG.rf.d2ba6353082aa25c15708824c08dfb27.txt  \n",
      " extracting: /content/dataset/train/labels/IMG_0291_JPG.rf.df9096730aa1a08ad2999bcd27d3ce48.txt  \n",
      " extracting: /content/dataset/train/labels/IMG_0292_JPG.rf.430049672fd781b9df9e34badf1b48a8.txt  \n",
      " extracting: /content/dataset/train/labels/IMG_0292_JPG.rf.5eba9597d38f1d22018bb5d619ef742e.txt  \n",
      " extracting: /content/dataset/train/labels/IMG_0292_JPG.rf.baaccc7cf58cb3b0c9d1bc3f1ce32a3d.txt  \n",
      " extracting: /content/dataset/train/labels/IMG_0294_JPG.rf.517f9201b72a4266d46b2954a0f80c14.txt  \n",
      " extracting: /content/dataset/train/labels/IMG_0294_JPG.rf.bd8d20acd3d837e056c6714500e83270.txt  \n",
      " extracting: /content/dataset/train/labels/IMG_0294_JPG.rf.cb349f708d70f8f46097636ec55f5419.txt  \n",
      " extracting: /content/dataset/train/labels/IMG_0295_JPG.rf.282c3259eadee31b6cfd1548f0aa4e6d.txt  \n",
      " extracting: /content/dataset/train/labels/IMG_0295_JPG.rf.32f999d96696f80ebe62ade6437b2fe2.txt  \n",
      " extracting: /content/dataset/train/labels/IMG_0295_JPG.rf.939fab6c2495e85e1b177306373fbe6e.txt  \n",
      " extracting: /content/dataset/train/labels/IMG_0296_JPG.rf.530c25c318deab34b53cadb7918fa500.txt  \n",
      " extracting: /content/dataset/train/labels/IMG_0296_JPG.rf.e8332a65a587b3f337f25bca237988af.txt  \n",
      " extracting: /content/dataset/train/labels/IMG_0296_JPG.rf.fe6246bc705bb866f527a6ae2efb1b99.txt  \n",
      " extracting: /content/dataset/train/labels/IMG_0297_JPG.rf.47e3984909ef5581659ae1a350978094.txt  \n",
      " extracting: /content/dataset/train/labels/IMG_0297_JPG.rf.5e635cca1323148499732eaf858ba2b2.txt  \n",
      " extracting: /content/dataset/train/labels/IMG_0297_JPG.rf.a66ff62117c20eb55204281f042b32c7.txt  \n",
      " extracting: /content/dataset/train/labels/IMG_0298_JPG.rf.5b5e7dd4118e128457567019a928e264.txt  \n",
      " extracting: /content/dataset/train/labels/IMG_0298_JPG.rf.6d6ac51367b303c05c261e7e8b11de67.txt  \n",
      " extracting: /content/dataset/train/labels/IMG_0298_JPG.rf.c72da1b09a38ec0adab3af9bb3abc0c1.txt  \n",
      " extracting: /content/dataset/train/labels/IMG_0299_JPG.rf.4d6c7558e7fd08da45a6fabde3296e5b.txt  \n",
      " extracting: /content/dataset/train/labels/IMG_0299_JPG.rf.9f796e9ea3695af07f61b110f53ee45f.txt  \n",
      " extracting: /content/dataset/train/labels/IMG_0299_JPG.rf.ae4ab20b4db16431416f89b8d9582906.txt  \n",
      " extracting: /content/dataset/train/labels/IMG_0317_JPG.rf.00207d2fe8c0a0f20715333d49d22b4f.txt  \n",
      " extracting: /content/dataset/train/labels/IMG_0317_JPG.rf.b4f86e6c57fca84c485b3bbcde731959.txt  \n",
      " extracting: /content/dataset/train/labels/IMG_0317_JPG.rf.c4575757a6e19ad9fb88d28b1a15193e.txt  \n",
      " extracting: /content/dataset/train/labels/IMG_0318_JPG.rf.60de6e8f2c9365770ed11379dfd1cb55.txt  \n",
      " extracting: /content/dataset/train/labels/IMG_0318_JPG.rf.8d091ab4bbe2cd70b92ad64592315ac8.txt  \n",
      " extracting: /content/dataset/train/labels/IMG_0318_JPG.rf.f752cb565b0c634895506816ba026b7e.txt  \n",
      " extracting: /content/dataset/train/labels/a20eb4bb3cea2e394cfcf9ed969b628e_jpg.rf.44943c777028499045c1f45216838729.txt  \n",
      " extracting: /content/dataset/train/labels/a20eb4bb3cea2e394cfcf9ed969b628e_jpg.rf.7e25c324029c6bddd1375645580f3009.txt  \n",
      " extracting: /content/dataset/train/labels/a20eb4bb3cea2e394cfcf9ed969b628e_jpg.rf.8e7941154e8218bc5c60a42ec75cfbf3.txt  \n",
      " extracting: /content/dataset/train/labels/a4028b2361ce7ead654a86b07ac39d52_jpg.rf.55bd810c2826cd5fbda470f36df47735.txt  \n",
      " extracting: /content/dataset/train/labels/a4028b2361ce7ead654a86b07ac39d52_jpg.rf.687ddaa40b48884e559d3606486fa7e8.txt  \n",
      " extracting: /content/dataset/train/labels/a4028b2361ce7ead654a86b07ac39d52_jpg.rf.f18fa4c1dce2f0387c451354d1e535c0.txt  \n",
      " extracting: /content/dataset/train/labels/a4ebf4c268d80c4fe329331ea981b3a1_jpg.rf.12e469ca411a793fab88746c49f8f790.txt  \n",
      " extracting: /content/dataset/train/labels/a4ebf4c268d80c4fe329331ea981b3a1_jpg.rf.31a38518592003e6e81426d0090bd58a.txt  \n",
      " extracting: /content/dataset/train/labels/a4ebf4c268d80c4fe329331ea981b3a1_jpg.rf.f2ae1ea570213bb9acdec41a1a6bcd09.txt  \n",
      " extracting: /content/dataset/train/labels/a5c65b40e0be3480c0ecfacaab399a87_jpg.rf.6147a8d031e8344d640e447c4ba2dbb9.txt  \n",
      " extracting: /content/dataset/train/labels/a5c65b40e0be3480c0ecfacaab399a87_jpg.rf.647ac6c3b9611f89b1a7a757f7051b9f.txt  \n",
      " extracting: /content/dataset/train/labels/a5c65b40e0be3480c0ecfacaab399a87_jpg.rf.d1364905ffdbf3466eff747cf5948b36.txt  \n",
      " extracting: /content/dataset/train/labels/a8847f8fe8eaaa1c97bf83027a901760_jpg.rf.69b91785d4aea8f4199f9c847b918428.txt  \n",
      " extracting: /content/dataset/train/labels/a8847f8fe8eaaa1c97bf83027a901760_jpg.rf.6df2ccc6498e99df8337ffb8ab9c488a.txt  \n",
      " extracting: /content/dataset/train/labels/a8847f8fe8eaaa1c97bf83027a901760_jpg.rf.cb0f3b1463e92615083e75629be7c4ee.txt  \n",
      " extracting: /content/dataset/train/labels/a932287da44b9dfacd0d16a5c1d27923_jpg.rf.76d1125d6c63d8f0206bfcbd6dc6df99.txt  \n",
      " extracting: /content/dataset/train/labels/a932287da44b9dfacd0d16a5c1d27923_jpg.rf.d75b9b5fea5a4c7e5b066d3caae98f9b.txt  \n",
      " extracting: /content/dataset/train/labels/a932287da44b9dfacd0d16a5c1d27923_jpg.rf.e6af160c98e230c8130c17ccd6787efa.txt  \n",
      " extracting: /content/dataset/train/labels/a9768de3fceeeae2618f362870fb9a88_jpg.rf.07e7239539431dfa4ad1282152ccad21.txt  \n",
      " extracting: /content/dataset/train/labels/a9768de3fceeeae2618f362870fb9a88_jpg.rf.444b950f0b329aa6e7ed17a86383606d.txt  \n",
      " extracting: /content/dataset/train/labels/a9768de3fceeeae2618f362870fb9a88_jpg.rf.ef561195bb5bb73478b957d2958db087.txt  \n",
      " extracting: /content/dataset/train/labels/a9987cf6cc5c6545818ec294d4a5bb9b_jpg.rf.562eed600b4725f0697896672ae6ddb2.txt  \n",
      " extracting: /content/dataset/train/labels/a9987cf6cc5c6545818ec294d4a5bb9b_jpg.rf.7d8b64ebafca42e4a7e4594d41700858.txt  \n",
      " extracting: /content/dataset/train/labels/a9987cf6cc5c6545818ec294d4a5bb9b_jpg.rf.ecb9987509a91f5df7b6dd308fb5edb8.txt  \n",
      " extracting: /content/dataset/train/labels/b0f3d66c8be13f5f6aa25b67a06bdcfa_jpg.rf.2400a74d8ca898058bbfa7a4b2fad3ed.txt  \n",
      " extracting: /content/dataset/train/labels/b0f3d66c8be13f5f6aa25b67a06bdcfa_jpg.rf.be26c1b3f90ad3ce201f81d39ce2c7a3.txt  \n",
      " extracting: /content/dataset/train/labels/b0f3d66c8be13f5f6aa25b67a06bdcfa_jpg.rf.e2479f30377a357d8c2d24488c666a98.txt  \n",
      " extracting: /content/dataset/train/labels/b3b002461f1c6b432e22964549767e5f_jpg.rf.89c6cd251768bebd0f1f27ffa57a4350.txt  \n",
      " extracting: /content/dataset/train/labels/b3b002461f1c6b432e22964549767e5f_jpg.rf.a0d7beba87e87043554e0885b9b86897.txt  \n",
      " extracting: /content/dataset/train/labels/b3b002461f1c6b432e22964549767e5f_jpg.rf.b2ec1cf3b8d3d761e56314df208ff584.txt  \n",
      " extracting: /content/dataset/train/labels/b5102d7f9740eee7754ed268becb2163_jpg.rf.1753afe30d3a07555d21ff985d2b38e9.txt  \n",
      " extracting: /content/dataset/train/labels/b5102d7f9740eee7754ed268becb2163_jpg.rf.91e588905afe5d7d801eda5ca9dcd21e.txt  \n",
      " extracting: /content/dataset/train/labels/b5102d7f9740eee7754ed268becb2163_jpg.rf.b40f1fbd9b2855b7fa5234eb32c8bb15.txt  \n",
      " extracting: /content/dataset/train/labels/b5bcde459ca36f0d1f3c20e751336672_jpg.rf.22bea80464ccb6e4d31ab5c10d11c0f9.txt  \n",
      " extracting: /content/dataset/train/labels/b5bcde459ca36f0d1f3c20e751336672_jpg.rf.aaa30a1910b6b485f2feb1daeaac3bde.txt  \n",
      " extracting: /content/dataset/train/labels/b5bcde459ca36f0d1f3c20e751336672_jpg.rf.bcad4ddc397a9e93e8f5049dc7d2ac20.txt  \n",
      " extracting: /content/dataset/train/labels/b79ae5b70de58089ead6e32b235e30d3_jpg.rf.70249336c8f66aeb7cd2c808d7e0a255.txt  \n",
      " extracting: /content/dataset/train/labels/b79ae5b70de58089ead6e32b235e30d3_jpg.rf.df8a88cab326fc33376d82c562d0b45f.txt  \n",
      " extracting: /content/dataset/train/labels/b79ae5b70de58089ead6e32b235e30d3_jpg.rf.e843446cbb3275d85d46432364a2d867.txt  \n",
      " extracting: /content/dataset/train/labels/b7a8c7de4fe1382d69f58ac97e819b5c_jpg.rf.3c92a450faed773b5607e082e798c7fa.txt  \n",
      " extracting: /content/dataset/train/labels/b7a8c7de4fe1382d69f58ac97e819b5c_jpg.rf.a896caf123ecc925575d9922df742758.txt  \n",
      " extracting: /content/dataset/train/labels/b7a8c7de4fe1382d69f58ac97e819b5c_jpg.rf.d9033064a02df12bad0b60bda98b1ff6.txt  \n",
      " extracting: /content/dataset/train/labels/bb54af2f0b83b174aecc29328c8fa001_jpg.rf.6023d601e15572d6990554f644bb1bfe.txt  \n",
      " extracting: /content/dataset/train/labels/bb54af2f0b83b174aecc29328c8fa001_jpg.rf.905a8ad083e59c277bca2ebd076a9ad1.txt  \n",
      " extracting: /content/dataset/train/labels/bb54af2f0b83b174aecc29328c8fa001_jpg.rf.a95d3e7492be3741322db734980e4372.txt  \n",
      " extracting: /content/dataset/train/labels/bc5decab88861286dcf78a367b4377cb_jpg.rf.118253b02b72c34a332d2bd78746c795.txt  \n",
      " extracting: /content/dataset/train/labels/bc5decab88861286dcf78a367b4377cb_jpg.rf.88da334f69a7c36333bc65576f4ffdfe.txt  \n",
      " extracting: /content/dataset/train/labels/bc5decab88861286dcf78a367b4377cb_jpg.rf.a4fe058da39ab9ff0b210ff464124bb2.txt  \n",
      " extracting: /content/dataset/train/labels/beb11566e59775b61f0ca369952067cc_jpg.rf.56493b995a4c4ae16d241c7e1120a53e.txt  \n",
      " extracting: /content/dataset/train/labels/beb11566e59775b61f0ca369952067cc_jpg.rf.5d2e0331a1ac2070a72fc4c12a036f53.txt  \n",
      " extracting: /content/dataset/train/labels/beb11566e59775b61f0ca369952067cc_jpg.rf.f912967037a2c28db9c37a7564017dd4.txt  \n",
      " extracting: /content/dataset/train/labels/c0d68e012bb93c14bc333fc1d5e52621_jpg.rf.1644855d8e7c4e07a615e02cdd6eb550.txt  \n",
      " extracting: /content/dataset/train/labels/c0d68e012bb93c14bc333fc1d5e52621_jpg.rf.7a3c7ca8c5ccc4d7b307f188bbfb0c85.txt  \n",
      " extracting: /content/dataset/train/labels/c0d68e012bb93c14bc333fc1d5e52621_jpg.rf.fea60abd21071433619d9002cac1d6c5.txt  \n",
      " extracting: /content/dataset/train/labels/c3e9e81ba1540aae7961a4d8d96600ba_jpg.rf.159b3ae18cb81620929e5e4847ab9ed8.txt  \n",
      " extracting: /content/dataset/train/labels/c3e9e81ba1540aae7961a4d8d96600ba_jpg.rf.32f7438c342e397838be8189c204446f.txt  \n",
      " extracting: /content/dataset/train/labels/c3e9e81ba1540aae7961a4d8d96600ba_jpg.rf.d0ef355e121a971f315ab22160109b11.txt  \n",
      " extracting: /content/dataset/train/labels/c46bf04050a2a9323dfe563e8813602f_jpg.rf.2bce3ad335a7be28858cd00cb3f40567.txt  \n",
      " extracting: /content/dataset/train/labels/c46bf04050a2a9323dfe563e8813602f_jpg.rf.3c67770c7bc1ae2f34811acc4fea44c1.txt  \n",
      " extracting: /content/dataset/train/labels/c46bf04050a2a9323dfe563e8813602f_jpg.rf.ff5a4cfb28be5ab4636539e081efb107.txt  \n",
      " extracting: /content/dataset/train/labels/c733616ab773817dd1a356dbbdf2ee33_jpg.rf.8bc96d3c3f94c91defbbb399aeb94bd0.txt  \n",
      " extracting: /content/dataset/train/labels/c733616ab773817dd1a356dbbdf2ee33_jpg.rf.8c2d39cca659bfec090ee10dd8062ef5.txt  \n",
      " extracting: /content/dataset/train/labels/c733616ab773817dd1a356dbbdf2ee33_jpg.rf.f0637765e389d17285e20d9e98d707bf.txt  \n",
      " extracting: /content/dataset/train/labels/c76c79e40bd9839a05237934cfa89ca3_jpg.rf.1bc63c348e985893973dea8fa15569ad.txt  \n",
      " extracting: /content/dataset/train/labels/c76c79e40bd9839a05237934cfa89ca3_jpg.rf.9a8aff67f0474c909c78cb647d887169.txt  \n",
      " extracting: /content/dataset/train/labels/c76c79e40bd9839a05237934cfa89ca3_jpg.rf.dee57a5076074452c76467e0c19d0ae3.txt  \n",
      " extracting: /content/dataset/train/labels/c7890b749d14d3488066cbdfac4620fd_jpg.rf.1efa9f080f6e933d2f5831041808e244.txt  \n",
      " extracting: /content/dataset/train/labels/c7890b749d14d3488066cbdfac4620fd_jpg.rf.257e75b14b6cfba7dfa565acc4e09aee.txt  \n",
      " extracting: /content/dataset/train/labels/c7890b749d14d3488066cbdfac4620fd_jpg.rf.76f2ad22e2a1c25bc8df3e234a2875e4.txt  \n",
      " extracting: /content/dataset/train/labels/ca869123d8a0cbcc6e54f4a445e5a78a_jpg.rf.1b0eec370b291dd2002d949abe4d9786.txt  \n",
      " extracting: /content/dataset/train/labels/ca869123d8a0cbcc6e54f4a445e5a78a_jpg.rf.5a9d4bcaf2ccf730c794bb7d57d77524.txt  \n",
      " extracting: /content/dataset/train/labels/ca869123d8a0cbcc6e54f4a445e5a78a_jpg.rf.cb3d9d5a5fd961cfb91b7cb00efeab83.txt  \n",
      " extracting: /content/dataset/train/labels/cae099fe41d6aa30033d71e433c33c8d_jpg.rf.2c5556b5ec9b5e12bef8a8135dbd3db6.txt  \n",
      " extracting: /content/dataset/train/labels/cae099fe41d6aa30033d71e433c33c8d_jpg.rf.4a845b5a7d4639700ca427c1099a1acc.txt  \n",
      " extracting: /content/dataset/train/labels/cae099fe41d6aa30033d71e433c33c8d_jpg.rf.e244d328c4a1dc04bdd511daa54a5bcb.txt  \n",
      " extracting: /content/dataset/train/labels/ce54969567273b9b8a275812ff56e16c_jpg.rf.29c743680e34c742cc77893515011b9e.txt  \n",
      " extracting: /content/dataset/train/labels/ce54969567273b9b8a275812ff56e16c_jpg.rf.9dcc1b3107606542dc0633cbc7ff5026.txt  \n",
      " extracting: /content/dataset/train/labels/ce54969567273b9b8a275812ff56e16c_jpg.rf.c314f1d0e3f3e5009805961ff05a7934.txt  \n",
      " extracting: /content/dataset/train/labels/cf2784fa97151d5316b2961b1e62dc45_jpg.rf.5d084fce203d3441c10c50c670717b07.txt  \n",
      " extracting: /content/dataset/train/labels/cf2784fa97151d5316b2961b1e62dc45_jpg.rf.5e86f14e3c821254e4afac25e3ade2b1.txt  \n",
      " extracting: /content/dataset/train/labels/cf2784fa97151d5316b2961b1e62dc45_jpg.rf.fe672984de7dabfff5b9cde323862f11.txt  \n",
      " extracting: /content/dataset/train/labels/d079f4e77b2445abceca7534356db743_jpg.rf.15980e0041c274dd182fc8a6bdd25047.txt  \n",
      " extracting: /content/dataset/train/labels/d079f4e77b2445abceca7534356db743_jpg.rf.86f033e983acf1e547451e03dee0e582.txt  \n",
      " extracting: /content/dataset/train/labels/d079f4e77b2445abceca7534356db743_jpg.rf.e7fc6fdfea0d14dc4c82a6068b9e4159.txt  \n",
      " extracting: /content/dataset/train/labels/d0cc2420bce5b14dfd39e55dc3737e57_jpg.rf.798223ce68149c49db97b6936b162fea.txt  \n",
      " extracting: /content/dataset/train/labels/d0cc2420bce5b14dfd39e55dc3737e57_jpg.rf.88c1e9b2ecc41404c643afeae66588e3.txt  \n",
      " extracting: /content/dataset/train/labels/d0cc2420bce5b14dfd39e55dc3737e57_jpg.rf.a1e5deac03ed76b34211a0db4f49de60.txt  \n",
      " extracting: /content/dataset/train/labels/d29148a2233950a7777285281cbfccff_jpg.rf.20e8ed774b4d58497375cf75613ce12f.txt  \n",
      " extracting: /content/dataset/train/labels/d29148a2233950a7777285281cbfccff_jpg.rf.40093760ef1ab3612d0c64743229660a.txt  \n",
      " extracting: /content/dataset/train/labels/d29148a2233950a7777285281cbfccff_jpg.rf.ac8323d05a30dae895f9f6b84d20ea68.txt  \n",
      " extracting: /content/dataset/train/labels/d33c33de41dbe1a95a43212c58fd12b7_jpg.rf.39ad6f496db1c7983d23577c21d6b498.txt  \n",
      " extracting: /content/dataset/train/labels/d33c33de41dbe1a95a43212c58fd12b7_jpg.rf.97eb2e7fe56237be37aa16911f677084.txt  \n",
      " extracting: /content/dataset/train/labels/d33c33de41dbe1a95a43212c58fd12b7_jpg.rf.b8aeaddf76563fcb8e403f431c8f746f.txt  \n",
      " extracting: /content/dataset/train/labels/d3a4e1b8f13ef89f419251f5c5839d0d_jpg.rf.0eac09b57ab66fc36635004e7f2124de.txt  \n",
      " extracting: /content/dataset/train/labels/d3a4e1b8f13ef89f419251f5c5839d0d_jpg.rf.12d1445a2e7628e803d679154eafd783.txt  \n",
      " extracting: /content/dataset/train/labels/d3a4e1b8f13ef89f419251f5c5839d0d_jpg.rf.52991bd24deab85602f52dda5aca25d4.txt  \n",
      " extracting: /content/dataset/train/labels/d415969922564f317be0d1433330626f_jpg.rf.28d3ae6c7470773e33b2e1d8ab45d13b.txt  \n",
      " extracting: /content/dataset/train/labels/d415969922564f317be0d1433330626f_jpg.rf.5bc5eaf797dffc2a83bca91da5ebcd80.txt  \n",
      " extracting: /content/dataset/train/labels/d415969922564f317be0d1433330626f_jpg.rf.ea52055e8d217e2f8c5f785c5b114aea.txt  \n",
      " extracting: /content/dataset/train/labels/d494cb268ad7f9f55587de138edc1dc4_jpg.rf.0b7a384e3d2d7cd15c45edce54fd465a.txt  \n",
      " extracting: /content/dataset/train/labels/d494cb268ad7f9f55587de138edc1dc4_jpg.rf.1225ba2bab92010c41fd82111da127c5.txt  \n",
      " extracting: /content/dataset/train/labels/d494cb268ad7f9f55587de138edc1dc4_jpg.rf.3b871f28d54bdb72507fb3451f231850.txt  \n",
      " extracting: /content/dataset/train/labels/d67b5b9e900409b050dd9bd594f90709_jpg.rf.4ee38829bdf99d869ea4efb62d7b268f.txt  \n",
      " extracting: /content/dataset/train/labels/d67b5b9e900409b050dd9bd594f90709_jpg.rf.c8f40141d74f9737a0979fb96b6f34d2.txt  \n",
      " extracting: /content/dataset/train/labels/d67b5b9e900409b050dd9bd594f90709_jpg.rf.d4b4698f0544628c496bee35512f21e2.txt  \n",
      " extracting: /content/dataset/train/labels/d795f84f39716798482fb2937868ed8a_jpg.rf.3eb9d5c21be9982bc0438b394988ec12.txt  \n",
      " extracting: /content/dataset/train/labels/d795f84f39716798482fb2937868ed8a_jpg.rf.62de48b291ec4dab492ffd28d07e46e2.txt  \n",
      " extracting: /content/dataset/train/labels/d795f84f39716798482fb2937868ed8a_jpg.rf.cad9a430bd9734f8a4d5a7bbefe008db.txt  \n",
      " extracting: /content/dataset/train/labels/d9acc69c5d57623cda22786e309201c9_jpg.rf.163bbc086efbf7cedbb02c4b36c83a28.txt  \n",
      " extracting: /content/dataset/train/labels/d9acc69c5d57623cda22786e309201c9_jpg.rf.5ee63a61ee05ff129fdbccefc3a0162e.txt  \n",
      " extracting: /content/dataset/train/labels/d9acc69c5d57623cda22786e309201c9_jpg.rf.68535cd44500e60be8d5d02bc2ff3c71.txt  \n",
      " extracting: /content/dataset/train/labels/dd6b5c3cb2d7e77f38f1dfeb2bff0431_jpg.rf.9a8ea23dbdf192fee0434dbb0eb0f22c.txt  \n",
      " extracting: /content/dataset/train/labels/dd6b5c3cb2d7e77f38f1dfeb2bff0431_jpg.rf.cc1ce4e567e8abf653acf2434e59ebdf.txt  \n",
      " extracting: /content/dataset/train/labels/dd6b5c3cb2d7e77f38f1dfeb2bff0431_jpg.rf.d5e6c00de132b8eb8ba382332327fb37.txt  \n",
      " extracting: /content/dataset/train/labels/ddad9dc4d945006d66f5349d64498559_jpg.rf.36d31b7cdbbe48577906109fa1edf766.txt  \n",
      " extracting: /content/dataset/train/labels/ddad9dc4d945006d66f5349d64498559_jpg.rf.48e7a4d1dbc55402801f6f3eb2515561.txt  \n",
      " extracting: /content/dataset/train/labels/ddad9dc4d945006d66f5349d64498559_jpg.rf.4a027c535d57e5c9ec84c9180a32c196.txt  \n",
      " extracting: /content/dataset/train/labels/de60ba81aa78387928e4bdc11f3be301_jpg.rf.6681071e793fdbd2f46b2f15c20db879.txt  \n",
      " extracting: /content/dataset/train/labels/de60ba81aa78387928e4bdc11f3be301_jpg.rf.a7cd83b2e02587367bb3305dbda0b78b.txt  \n",
      " extracting: /content/dataset/train/labels/de60ba81aa78387928e4bdc11f3be301_jpg.rf.d5ff9b3d612bf126db5f6959d6bf5cee.txt  \n",
      " extracting: /content/dataset/train/labels/e40003d4bbcdac7196b9502bfe2fb6ed_jpg.rf.b847f770b71b7f853198176ef25b8516.txt  \n",
      " extracting: /content/dataset/train/labels/e40003d4bbcdac7196b9502bfe2fb6ed_jpg.rf.d6bf64a0bd417c7ffc6c45fc60fb02a5.txt  \n",
      " extracting: /content/dataset/train/labels/e40003d4bbcdac7196b9502bfe2fb6ed_jpg.rf.fff02b8d5496821ff5b6def111287362.txt  \n",
      " extracting: /content/dataset/train/labels/e6e3a2ff2c75970490079f00136885ad_jpg.rf.196dbeb361aea01da0d89796ee64e56b.txt  \n",
      " extracting: /content/dataset/train/labels/e6e3a2ff2c75970490079f00136885ad_jpg.rf.a604bf09d249b5f66896ab2dbadd1a85.txt  \n",
      " extracting: /content/dataset/train/labels/e6e3a2ff2c75970490079f00136885ad_jpg.rf.bf5f02039da79608e7ba637b0f18b8dc.txt  \n",
      " extracting: /content/dataset/train/labels/e79deba8fe520409790b601ad61da4ee_jpg.rf.4d07e4475f01148efb81bd6fa74b14ea.txt  \n",
      " extracting: /content/dataset/train/labels/e79deba8fe520409790b601ad61da4ee_jpg.rf.83a6e8ba2d0d752b3ab81886c1c838bf.txt  \n",
      " extracting: /content/dataset/train/labels/e79deba8fe520409790b601ad61da4ee_jpg.rf.c5ace9198f249698fecd9cd44699ad3e.txt  \n",
      " extracting: /content/dataset/train/labels/e8480d7fb9881d8a0e88b7be4d103f6d_jpg.rf.45bdf3534f70d8ac1475f0521b4480b0.txt  \n",
      " extracting: /content/dataset/train/labels/e8480d7fb9881d8a0e88b7be4d103f6d_jpg.rf.928686545c1fc6e46d2b584750b57d37.txt  \n",
      " extracting: /content/dataset/train/labels/e8480d7fb9881d8a0e88b7be4d103f6d_jpg.rf.f5a8297fdaadf713f5aa50520a5aae2f.txt  \n",
      " extracting: /content/dataset/train/labels/ea799d77875c399618c45cd9409f34ee_jpg.rf.20f1e302ce66ba51ba16dd954123378d.txt  \n",
      " extracting: /content/dataset/train/labels/ea799d77875c399618c45cd9409f34ee_jpg.rf.3cbbfad204c76abb175b51ac851c1b6b.txt  \n",
      " extracting: /content/dataset/train/labels/ea799d77875c399618c45cd9409f34ee_jpg.rf.73793ae5eedc9e1a2ec843305741e27c.txt  \n",
      " extracting: /content/dataset/train/labels/eb9e7928e756c3cf9164e7afc08c4653_jpg.rf.268e96829cc026a5763f0182c1e8b842.txt  \n",
      " extracting: /content/dataset/train/labels/eb9e7928e756c3cf9164e7afc08c4653_jpg.rf.746289ad0d0f3f589717876a2b835faa.txt  \n",
      " extracting: /content/dataset/train/labels/eb9e7928e756c3cf9164e7afc08c4653_jpg.rf.7f6a60da5223783cc3525b307708142a.txt  \n",
      " extracting: /content/dataset/train/labels/ec4c30d88ecc70b6a3e76dbd9b17324a_jpg.rf.334f863b8bb588cb413d6f23e5c572e3.txt  \n",
      " extracting: /content/dataset/train/labels/ec4c30d88ecc70b6a3e76dbd9b17324a_jpg.rf.a3a828973a59e98475fa9d4c9b3bc6b0.txt  \n",
      " extracting: /content/dataset/train/labels/ec4c30d88ecc70b6a3e76dbd9b17324a_jpg.rf.aaf770cf8e03c34de0727104563ac2ee.txt  \n",
      " extracting: /content/dataset/train/labels/ec5ab1930d6aa16fff2582b48f82cada_jpg.rf.9ed7a8384c58e621e1bd8d199c9911eb.txt  \n",
      " extracting: /content/dataset/train/labels/ec5ab1930d6aa16fff2582b48f82cada_jpg.rf.a4317db23e4c499293ae36f9fd900360.txt  \n",
      " extracting: /content/dataset/train/labels/ec5ab1930d6aa16fff2582b48f82cada_jpg.rf.aae26a4e7732a2ecb663aca13ca5e2be.txt  \n",
      " extracting: /content/dataset/train/labels/edd285915356686fb53fb52c1ded0e53_jpg.rf.575ba04e0fde0ae4a7556799951ffb28.txt  \n",
      " extracting: /content/dataset/train/labels/edd285915356686fb53fb52c1ded0e53_jpg.rf.c889f2395a10814f1b3bc7c2eff34762.txt  \n",
      " extracting: /content/dataset/train/labels/edd285915356686fb53fb52c1ded0e53_jpg.rf.db25cbd151cf96bddaea8e570c74aa8a.txt  \n",
      " extracting: /content/dataset/train/labels/ef1d425fd5370fbf8b7adea43b755304_jpg.rf.098e333d5b6303fdc9c280fbaf5a79c4.txt  \n",
      " extracting: /content/dataset/train/labels/ef1d425fd5370fbf8b7adea43b755304_jpg.rf.c511c91a1669993209db75e7013631ba.txt  \n",
      " extracting: /content/dataset/train/labels/ef1d425fd5370fbf8b7adea43b755304_jpg.rf.f7787e4a869bce3acd75d98f934e857e.txt  \n",
      " extracting: /content/dataset/train/labels/f02d615907c77dc15f02bd1372e4398f_jpg.rf.30b6af213aeb1691056f9bdf8c568ffc.txt  \n",
      " extracting: /content/dataset/train/labels/f02d615907c77dc15f02bd1372e4398f_jpg.rf.8557a2e6c1a157a570333dd454271cb0.txt  \n",
      " extracting: /content/dataset/train/labels/f02d615907c77dc15f02bd1372e4398f_jpg.rf.ba5c8eb326916870dab8aeef50cd91ec.txt  \n",
      " extracting: /content/dataset/train/labels/f041d3171dfe3137390c85fc5437e447_jpg.rf.3020fee02bc4def16c99bed406ad8671.txt  \n",
      " extracting: /content/dataset/train/labels/f041d3171dfe3137390c85fc5437e447_jpg.rf.594627e68a410fbed5266fde10811a18.txt  \n",
      " extracting: /content/dataset/train/labels/f041d3171dfe3137390c85fc5437e447_jpg.rf.a4744a0326d7d31d016563fd0ab94aea.txt  \n",
      " extracting: /content/dataset/train/labels/f1ea0167087976926d4fe0aa36b961ce_jpg.rf.792c747c6116ade848581cd7c6be27e2.txt  \n",
      " extracting: /content/dataset/train/labels/f1ea0167087976926d4fe0aa36b961ce_jpg.rf.7cfb591bdf3cb30001cfecb3b153724e.txt  \n",
      " extracting: /content/dataset/train/labels/f1ea0167087976926d4fe0aa36b961ce_jpg.rf.afe8570c46a7a9651d7353b8f753e9c7.txt  \n",
      " extracting: /content/dataset/train/labels/f2672cdc28767484b556da3ab6f1003e_jpg.rf.1e58ffa93dd27f57436a6b49d82d98e7.txt  \n",
      " extracting: /content/dataset/train/labels/f2672cdc28767484b556da3ab6f1003e_jpg.rf.3509d0a9193d954d2cef5fc1371760c4.txt  \n",
      " extracting: /content/dataset/train/labels/f2672cdc28767484b556da3ab6f1003e_jpg.rf.eb54d003a3fad58875432fdfef1764bc.txt  \n",
      " extracting: /content/dataset/train/labels/f3302c754c6fd42130014199ee327d10_jpg.rf.5a539486e56c8a43d6c4eb79bf8390cf.txt  \n",
      " extracting: /content/dataset/train/labels/f3302c754c6fd42130014199ee327d10_jpg.rf.ac1176b46e92b65a435b4c64bde17da7.txt  \n",
      " extracting: /content/dataset/train/labels/f3302c754c6fd42130014199ee327d10_jpg.rf.f184e1e646cf33f3fa880c05ab94984c.txt  \n",
      " extracting: /content/dataset/train/labels/f3a5df526393445c6e2d38f66c1f5c27_jpg.rf.30434c68a81ca711cc012fba179621fb.txt  \n",
      " extracting: /content/dataset/train/labels/f3a5df526393445c6e2d38f66c1f5c27_jpg.rf.4318c9a5d50fd309db266f4e848a1202.txt  \n",
      " extracting: /content/dataset/train/labels/f3a5df526393445c6e2d38f66c1f5c27_jpg.rf.7313c3f78aaf7e508f685612f68538c7.txt  \n",
      " extracting: /content/dataset/train/labels/f52e1873b8583f8bf4f7ddf6e9649f07_jpg.rf.2537eb51bebf5c74c4bd317859fdeae6.txt  \n",
      " extracting: /content/dataset/train/labels/f52e1873b8583f8bf4f7ddf6e9649f07_jpg.rf.501bcfa0d1fb2050080a5caa9ce7ee07.txt  \n",
      " extracting: /content/dataset/train/labels/f52e1873b8583f8bf4f7ddf6e9649f07_jpg.rf.f49dc0690959dadeb1524da1a3cb38f7.txt  \n",
      " extracting: /content/dataset/train/labels/f587402be410b424bcbbac06e1dc6162_jpg.rf.23f779c5fef0d59e809103bf5bd3b7a3.txt  \n",
      " extracting: /content/dataset/train/labels/f587402be410b424bcbbac06e1dc6162_jpg.rf.b4179f89a43522928b4423c1bf422e3e.txt  \n",
      " extracting: /content/dataset/train/labels/f587402be410b424bcbbac06e1dc6162_jpg.rf.e827e0b68851bce5ae35b7bc5e7c0c4e.txt  \n",
      " extracting: /content/dataset/train/labels/f9a9a175f26d4b26bca3a5338cc1405e_jpg.rf.1bfc00ef85611686b0566f4ea49a4c9f.txt  \n",
      " extracting: /content/dataset/train/labels/f9a9a175f26d4b26bca3a5338cc1405e_jpg.rf.3260d2b6441db8b3e01beb6e26540341.txt  \n",
      " extracting: /content/dataset/train/labels/f9a9a175f26d4b26bca3a5338cc1405e_jpg.rf.d028744643f733777684eace4ef99cd6.txt  \n",
      " extracting: /content/dataset/train/labels/fa3cf2724c1648a8822b59ac0759475f_jpg.rf.2503a3b4a48386cdce9d069893234e2b.txt  \n",
      " extracting: /content/dataset/train/labels/fa3cf2724c1648a8822b59ac0759475f_jpg.rf.577379a932d9dff33794eba38ee6340d.txt  \n",
      " extracting: /content/dataset/train/labels/fa3cf2724c1648a8822b59ac0759475f_jpg.rf.89df60eac6ac5c0f593914ab045233d0.txt  \n",
      " extracting: /content/dataset/train/labels/fa4e2b9a8cf58f405f69a56c662834f2_jpg.rf.29021f89f2a16c44ecb9f34623bd3a9a.txt  \n",
      " extracting: /content/dataset/train/labels/fa4e2b9a8cf58f405f69a56c662834f2_jpg.rf.97f7416f560f73f366f58f69446c9287.txt  \n",
      " extracting: /content/dataset/train/labels/fa4e2b9a8cf58f405f69a56c662834f2_jpg.rf.d612185e16b2f1e8680764ed00dd4711.txt  \n",
      " extracting: /content/dataset/train/labels/fb586797e8ad818c7e3e3a6411f73d84_jpg.rf.57db9c805851d5fdc9e3a5f28e9717bb.txt  \n",
      " extracting: /content/dataset/train/labels/fb586797e8ad818c7e3e3a6411f73d84_jpg.rf.85d8f5b9e28cd8b994d730f9e135ab6d.txt  \n",
      " extracting: /content/dataset/train/labels/fb586797e8ad818c7e3e3a6411f73d84_jpg.rf.ed5a5085ee7d3245a50079b0e080ab12.txt  \n",
      " extracting: /content/dataset/train/labels/fc9d7bc0453cb3324406401c00224d30_jpg.rf.172aecee627f7179de58fbbc01d619f8.txt  \n",
      " extracting: /content/dataset/train/labels/fc9d7bc0453cb3324406401c00224d30_jpg.rf.d5b9739fe980fcc412eb535b6d177524.txt  \n",
      " extracting: /content/dataset/train/labels/fc9d7bc0453cb3324406401c00224d30_jpg.rf.e9e48a12d9bcbcb2a03df0571e7617b6.txt  \n",
      "   creating: /content/dataset/valid/\n",
      "   creating: /content/dataset/valid/images/\n",
      " extracting: /content/dataset/valid/images/05ad7223827a29a8283f6c4b2490f52f_jpg.rf.7c134acea5ef5e18aa75defc069dc1ee.jpg  \n",
      " extracting: /content/dataset/valid/images/0b2252c93c53e1b2e61d485b22328e2e_jpg.rf.0a885b88adc72caa71b0aa0ec20b863e.jpg  \n",
      " extracting: /content/dataset/valid/images/0c09b79cff39932c59ecc745dd827906_jpg.rf.dd62f1f1d28dd2209e0cfe61288f6438.jpg  \n",
      " extracting: /content/dataset/valid/images/0d9afc3d23392c3958f53d7fe71fd2f1_jpg.rf.ca639b6fd216ff59ed8fd5572c13985f.jpg  \n",
      " extracting: /content/dataset/valid/images/15cc23c777b00d0e123f9df468f2852b_jpg.rf.ec883ea8696547433314cdd8f2c177bf.jpg  \n",
      " extracting: /content/dataset/valid/images/18742c87a03866e042c5659ba04d1180_jpg.rf.ec846d30e3eebb02abb8056342b9de32.jpg  \n",
      " extracting: /content/dataset/valid/images/1b7c1c9570e900f75eb974f99cbb3c60_jpg.rf.ec7b31959243b9f7a54b7c3ea89dbce6.jpg  \n",
      " extracting: /content/dataset/valid/images/1be2a621f309c7482e9a79ad5b23ecbe_jpg.rf.e4117f6396582d8058dbd15974e30b04.jpg  \n",
      " extracting: /content/dataset/valid/images/26fa37995fa5b18ec40e0a94e6d91104_jpg.rf.2e6b063142cfe7cbcc21b0a236e5699f.jpg  \n",
      " extracting: /content/dataset/valid/images/302e7c10664be32b4fc000452149027c_jpg.rf.9e3b8da2de02c1fe13ae9b9bf0d28d00.jpg  \n",
      " extracting: /content/dataset/valid/images/31b83afa654d5dd874c3f0111126ab7f_jpg.rf.3b3c671f839cb2dd6a6a21e3f5c5c195.jpg  \n",
      " extracting: /content/dataset/valid/images/3312e3bb60e338e9c1a614f0f8960dd8_jpg.rf.f85b2ac2635f38532147b8c2c8888562.jpg  \n",
      " extracting: /content/dataset/valid/images/33b66ede234715fb46db40b33c4e26c1_jpg.rf.d931a220452e1914ad5a8cf80bdd5b9a.jpg  \n",
      " extracting: /content/dataset/valid/images/3aafc2d38807dddd1b43a54cb70f500d_jpg.rf.ed2b0d06c11e2ecfad6a696932579d82.jpg  \n",
      " extracting: /content/dataset/valid/images/3baf85c957b9d28a16c0b65cb2ef0d29_jpg.rf.712429bc0be682ad0038cbc6beb3fd30.jpg  \n",
      " extracting: /content/dataset/valid/images/3e0c67f38992fe16dfc163f7f5336263_jpg.rf.4a1c5c9f4cfd6b460d9af2d4c7a870bb.jpg  \n",
      " extracting: /content/dataset/valid/images/424d6506342fa2471e71586675ed092c_jpg.rf.bc9f3f76f36c5ba58869c652f918bd12.jpg  \n",
      " extracting: /content/dataset/valid/images/495019998442ddf85b59e387d4916cd3_jpg.rf.3d9dd252951539310c6d9e3db7d3a058.jpg  \n",
      " extracting: /content/dataset/valid/images/4b8f93069270a9f7bb523518a5088b9e_jpg.rf.7d0d7a337008fbfde0ab2c55715e7782.jpg  \n",
      " extracting: /content/dataset/valid/images/55be99616328f83dcbfe8c18e1387c0e_jpg.rf.bb349a21b80bcc7480f4d405a6a3e212.jpg  \n",
      " extracting: /content/dataset/valid/images/578029c06939a788cd5606ad17b49fb9_jpg.rf.4e9ef7a78c1923865c9bdd316a04a31e.jpg  \n",
      " extracting: /content/dataset/valid/images/57d1d1fb35ed875f9e770660bb03b6d7_jpg.rf.35a16500fc22fb8c6e59b86172462258.jpg  \n",
      " extracting: /content/dataset/valid/images/5c19d3260762f5daa632d952bc0074d6_jpg.rf.250c45a5fed7c606ee8fe28810a219a2.jpg  \n",
      " extracting: /content/dataset/valid/images/64061fd2e0e35bdf9ac4681eddf5fa2a_jpg.rf.507d0638d0f0eabeb8c7227bb0041d0c.jpg  \n",
      " extracting: /content/dataset/valid/images/6859628a422c1b72be8b074841cd943e_jpg.rf.968f3643f5879a632d14b7707ee9ae3a.jpg  \n",
      " extracting: /content/dataset/valid/images/6a41b6c8201604216ad196f842c6a2c6_jpg.rf.60a06c4ff4af59f4f5f269361528d41d.jpg  \n",
      " extracting: /content/dataset/valid/images/6e2dd4604b3a51d9be11b8809ed03803_jpg.rf.f1371efe107cc6d72c36f2b5d4702d66.jpg  \n",
      " extracting: /content/dataset/valid/images/73e6a751c50604d017541c11b28d8417_jpg.rf.cdbbf1901e916db82ec096334e0306f9.jpg  \n",
      " extracting: /content/dataset/valid/images/793c79d55c8a252b7a954d074b1d6498_jpg.rf.7ce67d4997eb368ce3bfea9242c64c22.jpg  \n",
      " extracting: /content/dataset/valid/images/7e862b85e33cd247ed66447d129e5fb4_jpg.rf.7d29881ed3ccce2f9e308e2aa3b20671.jpg  \n",
      " extracting: /content/dataset/valid/images/7e97f49e613a59a70b833e4c0b2c1c04_jpg.rf.4521f7f4426d59e3817609ee10e78393.jpg  \n",
      " extracting: /content/dataset/valid/images/86afe95de5471af5cef08e6ae4d9acbb_jpg.rf.7fab5dee0bfa346e21a5d46fa4735718.jpg  \n",
      " extracting: /content/dataset/valid/images/8ec14357f5f18fb98db86e0283623150_jpg.rf.e596c4a36a89232f3732dc54b8248b78.jpg  \n",
      " extracting: /content/dataset/valid/images/9453c2097cb4ccc676e273939894b3da_jpg.rf.e4bb464448488954193bf6be4f4735bb.jpg  \n",
      " extracting: /content/dataset/valid/images/97ed198b00b5491747d3b425df8e7096_jpg.rf.8a8bce7ab7eabebb86cfb86bd4046c6e.jpg  \n",
      " extracting: /content/dataset/valid/images/IMG_0293_JPG.rf.e208f5cdf5e993c552be7f96e86c4890.jpg  \n",
      " extracting: /content/dataset/valid/images/IMG_0310_JPG.rf.fa4dfa05ea9b136a2afc53556d90adb9.jpg  \n",
      " extracting: /content/dataset/valid/images/IMG_0311_JPG.rf.60bdeddd1d81863f576805705dee0049.jpg  \n",
      " extracting: /content/dataset/valid/images/IMG_0319_JPG.rf.d526046fd4cf10ed7b549a10fa4424eb.jpg  \n",
      " extracting: /content/dataset/valid/images/IMG_0320_JPG.rf.2a69b00c4e2299736c81954089818448.jpg  \n",
      " extracting: /content/dataset/valid/images/abd65798d9952a27e087710eb8bddf32_jpg.rf.4c9ed4ea8f55c6b3b1b007060029a15f.jpg  \n",
      " extracting: /content/dataset/valid/images/aec1aa6773dbbe004554f405cdef2bea_jpg.rf.2775fd3d7d8d1dfacea70de121d91437.jpg  \n",
      " extracting: /content/dataset/valid/images/bb0de9761d16eee258ae09d8de32002c_jpg.rf.f97067be0b27db05f0ac03d9d8cb1185.jpg  \n",
      " extracting: /content/dataset/valid/images/c1f800417bc42263d141b5ed785e7707_jpg.rf.f06111d09b042ba2d50e1ec17282bcf4.jpg  \n",
      " extracting: /content/dataset/valid/images/c20ca9283ea51ac7707905894a7da703_jpg.rf.f54294c5288d49c907732317c5702df8.jpg  \n",
      " extracting: /content/dataset/valid/images/c5172afbdad90854b3d0f21a923c0c69_jpg.rf.386387aecfb48c3a8a6650741541186e.jpg  \n",
      " extracting: /content/dataset/valid/images/ca6484c259f286c5bdf1afefc868b753_jpg.rf.eea24b286861e0da208ff0b8eb49e1c9.jpg  \n",
      " extracting: /content/dataset/valid/images/d114edc5cb4cae0ceb2f152afd15f57d_jpg.rf.fa2760e7c7663ed523265248c14b35ea.jpg  \n",
      " extracting: /content/dataset/valid/images/d3b9309d00a2b671407b918ea867a935_jpg.rf.5e1400d76ea181788b7defd2f5d64254.jpg  \n",
      " extracting: /content/dataset/valid/images/d4f7caf01359b9a757c930140f746fad_jpg.rf.888c6dd3e17e20ce9ed6ec4023fec3c0.jpg  \n",
      " extracting: /content/dataset/valid/images/d6e283a49b0395a6d5867c9e98e32045_jpg.rf.78b022c1aa0a30727326b7962789a9aa.jpg  \n",
      " extracting: /content/dataset/valid/images/d9ef98145d7d35393c75a51331a20e2c_jpg.rf.44441521d89767a579e4c3f3ab44d4a8.jpg  \n",
      " extracting: /content/dataset/valid/images/e1616dc9962fed075576ac4ea3553f51_jpg.rf.23145974270bfe4d2f07d2a73ead9923.jpg  \n",
      " extracting: /content/dataset/valid/images/e53bf8a0e692a4ccd5f1dc2bc19e7751_jpg.rf.a8b866893eddbe54b209aa055984e2e6.jpg  \n",
      " extracting: /content/dataset/valid/images/e7edc4f1b8d3cc1069b96d0358e066c9_jpg.rf.6583bdfbb3f6a620fe8776c0d853b09d.jpg  \n",
      " extracting: /content/dataset/valid/images/ec418cafd39d7c5a69cc0642a08b2a08_jpg.rf.5839dd7f1ccc537af7096a6b0bd49c56.jpg  \n",
      " extracting: /content/dataset/valid/images/eca42980852e6c5db10ee84aac23f9c6_jpg.rf.db5f4506ccda27fa11dd4ff5a08c584f.jpg  \n",
      " extracting: /content/dataset/valid/images/fb7d97265a22bb1c1f908dadc6f9e7dc_jpg.rf.c13e9b9b285eb421655b59cef73afe1d.jpg  \n",
      "   creating: /content/dataset/valid/labels/\n",
      " extracting: /content/dataset/valid/labels/05ad7223827a29a8283f6c4b2490f52f_jpg.rf.7c134acea5ef5e18aa75defc069dc1ee.txt  \n",
      " extracting: /content/dataset/valid/labels/0b2252c93c53e1b2e61d485b22328e2e_jpg.rf.0a885b88adc72caa71b0aa0ec20b863e.txt  \n",
      " extracting: /content/dataset/valid/labels/0c09b79cff39932c59ecc745dd827906_jpg.rf.dd62f1f1d28dd2209e0cfe61288f6438.txt  \n",
      " extracting: /content/dataset/valid/labels/0d9afc3d23392c3958f53d7fe71fd2f1_jpg.rf.ca639b6fd216ff59ed8fd5572c13985f.txt  \n",
      " extracting: /content/dataset/valid/labels/15cc23c777b00d0e123f9df468f2852b_jpg.rf.ec883ea8696547433314cdd8f2c177bf.txt  \n",
      " extracting: /content/dataset/valid/labels/18742c87a03866e042c5659ba04d1180_jpg.rf.ec846d30e3eebb02abb8056342b9de32.txt  \n",
      " extracting: /content/dataset/valid/labels/1b7c1c9570e900f75eb974f99cbb3c60_jpg.rf.ec7b31959243b9f7a54b7c3ea89dbce6.txt  \n",
      " extracting: /content/dataset/valid/labels/1be2a621f309c7482e9a79ad5b23ecbe_jpg.rf.e4117f6396582d8058dbd15974e30b04.txt  \n",
      " extracting: /content/dataset/valid/labels/26fa37995fa5b18ec40e0a94e6d91104_jpg.rf.2e6b063142cfe7cbcc21b0a236e5699f.txt  \n",
      " extracting: /content/dataset/valid/labels/302e7c10664be32b4fc000452149027c_jpg.rf.9e3b8da2de02c1fe13ae9b9bf0d28d00.txt  \n",
      " extracting: /content/dataset/valid/labels/31b83afa654d5dd874c3f0111126ab7f_jpg.rf.3b3c671f839cb2dd6a6a21e3f5c5c195.txt  \n",
      " extracting: /content/dataset/valid/labels/3312e3bb60e338e9c1a614f0f8960dd8_jpg.rf.f85b2ac2635f38532147b8c2c8888562.txt  \n",
      " extracting: /content/dataset/valid/labels/33b66ede234715fb46db40b33c4e26c1_jpg.rf.d931a220452e1914ad5a8cf80bdd5b9a.txt  \n",
      " extracting: /content/dataset/valid/labels/3aafc2d38807dddd1b43a54cb70f500d_jpg.rf.ed2b0d06c11e2ecfad6a696932579d82.txt  \n",
      " extracting: /content/dataset/valid/labels/3baf85c957b9d28a16c0b65cb2ef0d29_jpg.rf.712429bc0be682ad0038cbc6beb3fd30.txt  \n",
      " extracting: /content/dataset/valid/labels/3e0c67f38992fe16dfc163f7f5336263_jpg.rf.4a1c5c9f4cfd6b460d9af2d4c7a870bb.txt  \n",
      " extracting: /content/dataset/valid/labels/424d6506342fa2471e71586675ed092c_jpg.rf.bc9f3f76f36c5ba58869c652f918bd12.txt  \n",
      " extracting: /content/dataset/valid/labels/495019998442ddf85b59e387d4916cd3_jpg.rf.3d9dd252951539310c6d9e3db7d3a058.txt  \n",
      " extracting: /content/dataset/valid/labels/4b8f93069270a9f7bb523518a5088b9e_jpg.rf.7d0d7a337008fbfde0ab2c55715e7782.txt  \n",
      " extracting: /content/dataset/valid/labels/55be99616328f83dcbfe8c18e1387c0e_jpg.rf.bb349a21b80bcc7480f4d405a6a3e212.txt  \n",
      " extracting: /content/dataset/valid/labels/578029c06939a788cd5606ad17b49fb9_jpg.rf.4e9ef7a78c1923865c9bdd316a04a31e.txt  \n",
      " extracting: /content/dataset/valid/labels/57d1d1fb35ed875f9e770660bb03b6d7_jpg.rf.35a16500fc22fb8c6e59b86172462258.txt  \n",
      " extracting: /content/dataset/valid/labels/5c19d3260762f5daa632d952bc0074d6_jpg.rf.250c45a5fed7c606ee8fe28810a219a2.txt  \n",
      " extracting: /content/dataset/valid/labels/64061fd2e0e35bdf9ac4681eddf5fa2a_jpg.rf.507d0638d0f0eabeb8c7227bb0041d0c.txt  \n",
      " extracting: /content/dataset/valid/labels/6859628a422c1b72be8b074841cd943e_jpg.rf.968f3643f5879a632d14b7707ee9ae3a.txt  \n",
      " extracting: /content/dataset/valid/labels/6a41b6c8201604216ad196f842c6a2c6_jpg.rf.60a06c4ff4af59f4f5f269361528d41d.txt  \n",
      " extracting: /content/dataset/valid/labels/6e2dd4604b3a51d9be11b8809ed03803_jpg.rf.f1371efe107cc6d72c36f2b5d4702d66.txt  \n",
      " extracting: /content/dataset/valid/labels/73e6a751c50604d017541c11b28d8417_jpg.rf.cdbbf1901e916db82ec096334e0306f9.txt  \n",
      " extracting: /content/dataset/valid/labels/793c79d55c8a252b7a954d074b1d6498_jpg.rf.7ce67d4997eb368ce3bfea9242c64c22.txt  \n",
      " extracting: /content/dataset/valid/labels/7e862b85e33cd247ed66447d129e5fb4_jpg.rf.7d29881ed3ccce2f9e308e2aa3b20671.txt  \n",
      " extracting: /content/dataset/valid/labels/7e97f49e613a59a70b833e4c0b2c1c04_jpg.rf.4521f7f4426d59e3817609ee10e78393.txt  \n",
      " extracting: /content/dataset/valid/labels/86afe95de5471af5cef08e6ae4d9acbb_jpg.rf.7fab5dee0bfa346e21a5d46fa4735718.txt  \n",
      " extracting: /content/dataset/valid/labels/8ec14357f5f18fb98db86e0283623150_jpg.rf.e596c4a36a89232f3732dc54b8248b78.txt  \n",
      " extracting: /content/dataset/valid/labels/9453c2097cb4ccc676e273939894b3da_jpg.rf.e4bb464448488954193bf6be4f4735bb.txt  \n",
      " extracting: /content/dataset/valid/labels/97ed198b00b5491747d3b425df8e7096_jpg.rf.8a8bce7ab7eabebb86cfb86bd4046c6e.txt  \n",
      " extracting: /content/dataset/valid/labels/IMG_0293_JPG.rf.e208f5cdf5e993c552be7f96e86c4890.txt  \n",
      " extracting: /content/dataset/valid/labels/IMG_0310_JPG.rf.fa4dfa05ea9b136a2afc53556d90adb9.txt  \n",
      " extracting: /content/dataset/valid/labels/IMG_0311_JPG.rf.60bdeddd1d81863f576805705dee0049.txt  \n",
      " extracting: /content/dataset/valid/labels/IMG_0319_JPG.rf.d526046fd4cf10ed7b549a10fa4424eb.txt  \n",
      " extracting: /content/dataset/valid/labels/IMG_0320_JPG.rf.2a69b00c4e2299736c81954089818448.txt  \n",
      " extracting: /content/dataset/valid/labels/abd65798d9952a27e087710eb8bddf32_jpg.rf.4c9ed4ea8f55c6b3b1b007060029a15f.txt  \n",
      " extracting: /content/dataset/valid/labels/aec1aa6773dbbe004554f405cdef2bea_jpg.rf.2775fd3d7d8d1dfacea70de121d91437.txt  \n",
      " extracting: /content/dataset/valid/labels/bb0de9761d16eee258ae09d8de32002c_jpg.rf.f97067be0b27db05f0ac03d9d8cb1185.txt  \n",
      " extracting: /content/dataset/valid/labels/c1f800417bc42263d141b5ed785e7707_jpg.rf.f06111d09b042ba2d50e1ec17282bcf4.txt  \n",
      " extracting: /content/dataset/valid/labels/c20ca9283ea51ac7707905894a7da703_jpg.rf.f54294c5288d49c907732317c5702df8.txt  \n",
      " extracting: /content/dataset/valid/labels/c5172afbdad90854b3d0f21a923c0c69_jpg.rf.386387aecfb48c3a8a6650741541186e.txt  \n",
      " extracting: /content/dataset/valid/labels/ca6484c259f286c5bdf1afefc868b753_jpg.rf.eea24b286861e0da208ff0b8eb49e1c9.txt  \n",
      " extracting: /content/dataset/valid/labels/d114edc5cb4cae0ceb2f152afd15f57d_jpg.rf.fa2760e7c7663ed523265248c14b35ea.txt  \n",
      " extracting: /content/dataset/valid/labels/d3b9309d00a2b671407b918ea867a935_jpg.rf.5e1400d76ea181788b7defd2f5d64254.txt  \n",
      " extracting: /content/dataset/valid/labels/d4f7caf01359b9a757c930140f746fad_jpg.rf.888c6dd3e17e20ce9ed6ec4023fec3c0.txt  \n",
      " extracting: /content/dataset/valid/labels/d6e283a49b0395a6d5867c9e98e32045_jpg.rf.78b022c1aa0a30727326b7962789a9aa.txt  \n",
      " extracting: /content/dataset/valid/labels/d9ef98145d7d35393c75a51331a20e2c_jpg.rf.44441521d89767a579e4c3f3ab44d4a8.txt  \n",
      " extracting: /content/dataset/valid/labels/e1616dc9962fed075576ac4ea3553f51_jpg.rf.23145974270bfe4d2f07d2a73ead9923.txt  \n",
      " extracting: /content/dataset/valid/labels/e53bf8a0e692a4ccd5f1dc2bc19e7751_jpg.rf.a8b866893eddbe54b209aa055984e2e6.txt  \n",
      " extracting: /content/dataset/valid/labels/e7edc4f1b8d3cc1069b96d0358e066c9_jpg.rf.6583bdfbb3f6a620fe8776c0d853b09d.txt  \n",
      " extracting: /content/dataset/valid/labels/ec418cafd39d7c5a69cc0642a08b2a08_jpg.rf.5839dd7f1ccc537af7096a6b0bd49c56.txt  \n",
      " extracting: /content/dataset/valid/labels/eca42980852e6c5db10ee84aac23f9c6_jpg.rf.db5f4506ccda27fa11dd4ff5a08c584f.txt  \n",
      " extracting: /content/dataset/valid/labels/fb7d97265a22bb1c1f908dadc6f9e7dc_jpg.rf.c13e9b9b285eb421655b59cef73afe1d.txt  \n"
     ]
    }
   ],
   "source": [
    "!unzip \"/content/Chess Pieces.v24-416x416_aug.yolov8.zip\" -d /content/dataset"
   ]
  },
  {
   "cell_type": "code",
   "execution_count": 6,
   "metadata": {
    "colab": {
     "base_uri": "https://localhost:8080/"
    },
    "id": "QAWSvt45R_iR",
    "outputId": "e94bb3ce-4109-427f-dc4e-dd9499506cee"
   },
   "outputs": [
    {
     "name": "stdout",
     "output_type": "stream",
     "text": [
      "Ultralytics 8.3.49 🚀 Python-3.10.12 torch-2.5.1+cu121 CUDA:0 (Tesla T4, 15102MiB)\n",
      "\u001b[34m\u001b[1mengine/trainer: \u001b[0mtask=detect, mode=train, model=yolov8n.pt, data=/content/dataset/data.yaml, epochs=150, time=None, patience=20, batch=32, imgsz=640, save=True, save_period=-1, cache=False, device=0, workers=8, project=None, name=train3, exist_ok=False, pretrained=True, optimizer=auto, verbose=True, seed=0, deterministic=True, single_cls=False, rect=False, cos_lr=False, close_mosaic=10, resume=False, amp=True, fraction=1.0, profile=False, freeze=None, multi_scale=False, overlap_mask=True, mask_ratio=4, dropout=0.0, val=True, split=val, save_json=False, save_hybrid=False, conf=None, iou=0.7, max_det=300, half=False, dnn=False, plots=True, source=None, vid_stride=1, stream_buffer=False, visualize=False, augment=True, agnostic_nms=False, classes=None, retina_masks=False, embed=None, show=False, save_frames=False, save_txt=False, save_conf=False, save_crop=False, show_labels=True, show_conf=True, show_boxes=True, line_width=None, format=torchscript, keras=False, optimize=False, int8=False, dynamic=False, simplify=True, opset=None, workspace=None, nms=False, lr0=0.001, lrf=0.01, momentum=0.937, weight_decay=0.0005, warmup_epochs=3.0, warmup_momentum=0.8, warmup_bias_lr=0.1, box=7.5, cls=0.5, dfl=1.5, pose=12.0, kobj=1.0, nbs=64, hsv_h=0.015, hsv_s=0.7, hsv_v=0.4, degrees=0.0, translate=0.1, scale=0.5, shear=0.0, perspective=0.0, flipud=0.0, fliplr=0.5, bgr=0.0, mosaic=1.0, mixup=0.0, copy_paste=0.0, copy_paste_mode=flip, auto_augment=randaugment, erasing=0.4, crop_fraction=1.0, cfg=None, tracker=botsort.yaml, save_dir=runs/detect/train3\n",
      "Overriding model.yaml nc=80 with nc=13\n",
      "\n",
      "                   from  n    params  module                                       arguments                     \n",
      "  0                  -1  1       464  ultralytics.nn.modules.conv.Conv             [3, 16, 3, 2]                 \n",
      "  1                  -1  1      4672  ultralytics.nn.modules.conv.Conv             [16, 32, 3, 2]                \n",
      "  2                  -1  1      7360  ultralytics.nn.modules.block.C2f             [32, 32, 1, True]             \n",
      "  3                  -1  1     18560  ultralytics.nn.modules.conv.Conv             [32, 64, 3, 2]                \n",
      "  4                  -1  2     49664  ultralytics.nn.modules.block.C2f             [64, 64, 2, True]             \n",
      "  5                  -1  1     73984  ultralytics.nn.modules.conv.Conv             [64, 128, 3, 2]               \n",
      "  6                  -1  2    197632  ultralytics.nn.modules.block.C2f             [128, 128, 2, True]           \n",
      "  7                  -1  1    295424  ultralytics.nn.modules.conv.Conv             [128, 256, 3, 2]              \n",
      "  8                  -1  1    460288  ultralytics.nn.modules.block.C2f             [256, 256, 1, True]           \n",
      "  9                  -1  1    164608  ultralytics.nn.modules.block.SPPF            [256, 256, 5]                 \n",
      " 10                  -1  1         0  torch.nn.modules.upsampling.Upsample         [None, 2, 'nearest']          \n",
      " 11             [-1, 6]  1         0  ultralytics.nn.modules.conv.Concat           [1]                           \n",
      " 12                  -1  1    148224  ultralytics.nn.modules.block.C2f             [384, 128, 1]                 \n",
      " 13                  -1  1         0  torch.nn.modules.upsampling.Upsample         [None, 2, 'nearest']          \n",
      " 14             [-1, 4]  1         0  ultralytics.nn.modules.conv.Concat           [1]                           \n",
      " 15                  -1  1     37248  ultralytics.nn.modules.block.C2f             [192, 64, 1]                  \n",
      " 16                  -1  1     36992  ultralytics.nn.modules.conv.Conv             [64, 64, 3, 2]                \n",
      " 17            [-1, 12]  1         0  ultralytics.nn.modules.conv.Concat           [1]                           \n",
      " 18                  -1  1    123648  ultralytics.nn.modules.block.C2f             [192, 128, 1]                 \n",
      " 19                  -1  1    147712  ultralytics.nn.modules.conv.Conv             [128, 128, 3, 2]              \n",
      " 20             [-1, 9]  1         0  ultralytics.nn.modules.conv.Concat           [1]                           \n",
      " 21                  -1  1    493056  ultralytics.nn.modules.block.C2f             [384, 256, 1]                 \n",
      " 22        [15, 18, 21]  1    753847  ultralytics.nn.modules.head.Detect           [13, [64, 128, 256]]          \n",
      "Model summary: 225 layers, 3,013,383 parameters, 3,013,367 gradients, 8.2 GFLOPs\n",
      "\n",
      "Transferred 319/355 items from pretrained weights\n",
      "\u001b[34m\u001b[1mTensorBoard: \u001b[0mStart with 'tensorboard --logdir runs/detect/train3', view at http://localhost:6006/\n",
      "Freezing layer 'model.22.dfl.conv.weight'\n",
      "\u001b[34m\u001b[1mAMP: \u001b[0mrunning Automatic Mixed Precision (AMP) checks...\n",
      "\u001b[34m\u001b[1mAMP: \u001b[0mchecks passed ✅\n"
     ]
    },
    {
     "name": "stderr",
     "output_type": "stream",
     "text": [
      "\u001b[34m\u001b[1mtrain: \u001b[0mScanning /content/dataset/train/labels.cache... 606 images, 0 backgrounds, 0 corrupt: 100%|██████████| 606/606 [00:00<?, ?it/s]"
     ]
    },
    {
     "name": "stdout",
     "output_type": "stream",
     "text": [
      "\u001b[34m\u001b[1mtrain: \u001b[0mWARNING ⚠️ /content/dataset/train/images/26d663ab5ffbec49f9dc8e592982cfd4_jpg.rf.0fe973299ff9e73874d9e684cba4e406.jpg: 1 duplicate labels removed\n",
      "\u001b[34m\u001b[1mtrain: \u001b[0mWARNING ⚠️ /content/dataset/train/images/26d663ab5ffbec49f9dc8e592982cfd4_jpg.rf.5e1a9d49ad09f5a7549225a05e1f66a6.jpg: 1 duplicate labels removed\n",
      "\u001b[34m\u001b[1mtrain: \u001b[0mWARNING ⚠️ /content/dataset/train/images/26d663ab5ffbec49f9dc8e592982cfd4_jpg.rf.bb226be189ee3a6399fbbd5080852e5b.jpg: 1 duplicate labels removed\n",
      "\u001b[34m\u001b[1malbumentations: \u001b[0mBlur(p=0.01, blur_limit=(3, 7)), MedianBlur(p=0.01, blur_limit=(3, 7)), ToGray(p=0.01, num_output_channels=3, method='weighted_average'), CLAHE(p=0.01, clip_limit=(1.0, 4.0), tile_grid_size=(8, 8))\n"
     ]
    },
    {
     "name": "stderr",
     "output_type": "stream",
     "text": [
      "\n",
      "\u001b[34m\u001b[1mval: \u001b[0mScanning /content/dataset/valid/labels.cache... 58 images, 0 backgrounds, 0 corrupt: 100%|██████████| 58/58 [00:00<?, ?it/s]\n"
     ]
    },
    {
     "name": "stdout",
     "output_type": "stream",
     "text": [
      "Plotting labels to runs/detect/train3/labels.jpg... \n",
      "\u001b[34m\u001b[1moptimizer:\u001b[0m 'optimizer=auto' found, ignoring 'lr0=0.001' and 'momentum=0.937' and determining best 'optimizer', 'lr0' and 'momentum' automatically... \n",
      "\u001b[34m\u001b[1moptimizer:\u001b[0m AdamW(lr=0.000588, momentum=0.9) with parameter groups 57 weight(decay=0.0), 64 weight(decay=0.0005), 63 bias(decay=0.0)\n",
      "\u001b[34m\u001b[1mTensorBoard: \u001b[0mmodel graph visualization added ✅\n",
      "Image sizes 640 train, 640 val\n",
      "Using 2 dataloader workers\n",
      "Logging results to \u001b[1mruns/detect/train3\u001b[0m\n",
      "Starting training for 150 epochs...\n",
      "\n",
      "      Epoch    GPU_mem   box_loss   cls_loss   dfl_loss  Instances       Size\n"
     ]
    },
    {
     "name": "stderr",
     "output_type": "stream",
     "text": [
      "      1/150      5.78G      1.804      4.281      1.374        410        640: 100%|██████████| 19/19 [00:11<00:00,  1.60it/s]\n",
      "                 Class     Images  Instances      Box(P          R      mAP50  mAP50-95): 100%|██████████| 1/1 [00:01<00:00,  1.51s/it]"
     ]
    },
    {
     "name": "stdout",
     "output_type": "stream",
     "text": [
      "                   all         58        386     0.0204      0.619       0.13     0.0885\n"
     ]
    },
    {
     "name": "stderr",
     "output_type": "stream",
     "text": [
      "\n"
     ]
    },
    {
     "name": "stdout",
     "output_type": "stream",
     "text": [
      "\n",
      "      Epoch    GPU_mem   box_loss   cls_loss   dfl_loss  Instances       Size\n"
     ]
    },
    {
     "name": "stderr",
     "output_type": "stream",
     "text": [
      "      2/150      5.29G      1.371      2.505      1.086        543        640: 100%|██████████| 19/19 [00:14<00:00,  1.31it/s]\n",
      "                 Class     Images  Instances      Box(P          R      mAP50  mAP50-95): 100%|██████████| 1/1 [00:00<00:00,  1.49it/s]"
     ]
    },
    {
     "name": "stdout",
     "output_type": "stream",
     "text": [
      "                   all         58        386     0.0328      0.967      0.326      0.235\n"
     ]
    },
    {
     "name": "stderr",
     "output_type": "stream",
     "text": [
      "\n"
     ]
    },
    {
     "name": "stdout",
     "output_type": "stream",
     "text": [
      "\n",
      "      Epoch    GPU_mem   box_loss   cls_loss   dfl_loss  Instances       Size\n"
     ]
    },
    {
     "name": "stderr",
     "output_type": "stream",
     "text": [
      "      3/150         5G      1.275       1.64       1.06        354        640: 100%|██████████| 19/19 [00:09<00:00,  1.97it/s]\n",
      "                 Class     Images  Instances      Box(P          R      mAP50  mAP50-95): 100%|██████████| 1/1 [00:01<00:00,  1.22s/it]"
     ]
    },
    {
     "name": "stdout",
     "output_type": "stream",
     "text": [
      "                   all         58        386     0.0387      0.944      0.382      0.275\n"
     ]
    },
    {
     "name": "stderr",
     "output_type": "stream",
     "text": [
      "\n"
     ]
    },
    {
     "name": "stdout",
     "output_type": "stream",
     "text": [
      "\n",
      "      Epoch    GPU_mem   box_loss   cls_loss   dfl_loss  Instances       Size\n"
     ]
    },
    {
     "name": "stderr",
     "output_type": "stream",
     "text": [
      "      4/150      4.95G      1.217      1.396      1.033        272        640: 100%|██████████| 19/19 [00:10<00:00,  1.84it/s]\n",
      "                 Class     Images  Instances      Box(P          R      mAP50  mAP50-95): 100%|██████████| 1/1 [00:00<00:00,  1.38it/s]"
     ]
    },
    {
     "name": "stdout",
     "output_type": "stream",
     "text": [
      "                   all         58        386      0.463      0.692      0.604      0.391\n"
     ]
    },
    {
     "name": "stderr",
     "output_type": "stream",
     "text": [
      "\n"
     ]
    },
    {
     "name": "stdout",
     "output_type": "stream",
     "text": [
      "\n",
      "      Epoch    GPU_mem   box_loss   cls_loss   dfl_loss  Instances       Size\n"
     ]
    },
    {
     "name": "stderr",
     "output_type": "stream",
     "text": [
      "      5/150       4.6G      1.158      1.201      1.013        362        640: 100%|██████████| 19/19 [00:12<00:00,  1.50it/s]\n",
      "                 Class     Images  Instances      Box(P          R      mAP50  mAP50-95): 100%|██████████| 1/1 [00:00<00:00,  1.27it/s]"
     ]
    },
    {
     "name": "stdout",
     "output_type": "stream",
     "text": [
      "                   all         58        386      0.904      0.596      0.893      0.613\n"
     ]
    },
    {
     "name": "stderr",
     "output_type": "stream",
     "text": [
      "\n"
     ]
    },
    {
     "name": "stdout",
     "output_type": "stream",
     "text": [
      "\n",
      "      Epoch    GPU_mem   box_loss   cls_loss   dfl_loss  Instances       Size\n"
     ]
    },
    {
     "name": "stderr",
     "output_type": "stream",
     "text": [
      "      6/150      4.87G      1.154      1.075      1.015        372        640: 100%|██████████| 19/19 [00:09<00:00,  2.01it/s]\n",
      "                 Class     Images  Instances      Box(P          R      mAP50  mAP50-95): 100%|██████████| 1/1 [00:01<00:00,  1.04s/it]"
     ]
    },
    {
     "name": "stdout",
     "output_type": "stream",
     "text": [
      "                   all         58        386      0.908      0.715      0.918      0.602\n"
     ]
    },
    {
     "name": "stderr",
     "output_type": "stream",
     "text": [
      "\n"
     ]
    },
    {
     "name": "stdout",
     "output_type": "stream",
     "text": [
      "\n",
      "      Epoch    GPU_mem   box_loss   cls_loss   dfl_loss  Instances       Size\n"
     ]
    },
    {
     "name": "stderr",
     "output_type": "stream",
     "text": [
      "      7/150      4.96G      1.111      1.007      1.008        418        640: 100%|██████████| 19/19 [00:10<00:00,  1.76it/s]\n",
      "                 Class     Images  Instances      Box(P          R      mAP50  mAP50-95): 100%|██████████| 1/1 [00:00<00:00,  1.13it/s]"
     ]
    },
    {
     "name": "stdout",
     "output_type": "stream",
     "text": [
      "                   all         58        386       0.86      0.892      0.952      0.711\n"
     ]
    },
    {
     "name": "stderr",
     "output_type": "stream",
     "text": [
      "\n"
     ]
    },
    {
     "name": "stdout",
     "output_type": "stream",
     "text": [
      "\n",
      "      Epoch    GPU_mem   box_loss   cls_loss   dfl_loss  Instances       Size\n"
     ]
    },
    {
     "name": "stderr",
     "output_type": "stream",
     "text": [
      "      8/150      5.53G      1.072     0.8977     0.9956        413        640: 100%|██████████| 19/19 [00:12<00:00,  1.50it/s]\n",
      "                 Class     Images  Instances      Box(P          R      mAP50  mAP50-95): 100%|██████████| 1/1 [00:00<00:00,  1.21it/s]"
     ]
    },
    {
     "name": "stdout",
     "output_type": "stream",
     "text": [
      "                   all         58        386      0.903      0.913      0.959       0.71\n"
     ]
    },
    {
     "name": "stderr",
     "output_type": "stream",
     "text": [
      "\n"
     ]
    },
    {
     "name": "stdout",
     "output_type": "stream",
     "text": [
      "\n",
      "      Epoch    GPU_mem   box_loss   cls_loss   dfl_loss  Instances       Size\n"
     ]
    },
    {
     "name": "stderr",
     "output_type": "stream",
     "text": [
      "      9/150      4.63G       1.06     0.8514     0.9902        507        640: 100%|██████████| 19/19 [00:08<00:00,  2.16it/s]\n",
      "                 Class     Images  Instances      Box(P          R      mAP50  mAP50-95): 100%|██████████| 1/1 [00:00<00:00,  1.01it/s]"
     ]
    },
    {
     "name": "stdout",
     "output_type": "stream",
     "text": [
      "                   all         58        386      0.925      0.922      0.961      0.646\n"
     ]
    },
    {
     "name": "stderr",
     "output_type": "stream",
     "text": [
      "\n"
     ]
    },
    {
     "name": "stdout",
     "output_type": "stream",
     "text": [
      "\n",
      "      Epoch    GPU_mem   box_loss   cls_loss   dfl_loss  Instances       Size\n"
     ]
    },
    {
     "name": "stderr",
     "output_type": "stream",
     "text": [
      "     10/150      4.98G      1.092     0.8317     0.9961        421        640: 100%|██████████| 19/19 [00:10<00:00,  1.78it/s]\n",
      "                 Class     Images  Instances      Box(P          R      mAP50  mAP50-95): 100%|██████████| 1/1 [00:00<00:00,  1.41it/s]"
     ]
    },
    {
     "name": "stdout",
     "output_type": "stream",
     "text": [
      "                   all         58        386      0.965      0.967      0.985      0.736\n"
     ]
    },
    {
     "name": "stderr",
     "output_type": "stream",
     "text": [
      "\n"
     ]
    },
    {
     "name": "stdout",
     "output_type": "stream",
     "text": [
      "\n",
      "      Epoch    GPU_mem   box_loss   cls_loss   dfl_loss  Instances       Size\n"
     ]
    },
    {
     "name": "stderr",
     "output_type": "stream",
     "text": [
      "     11/150      5.13G      1.018     0.7941     0.9848        447        640: 100%|██████████| 19/19 [00:12<00:00,  1.52it/s]\n",
      "                 Class     Images  Instances      Box(P          R      mAP50  mAP50-95): 100%|██████████| 1/1 [00:00<00:00,  1.09it/s]"
     ]
    },
    {
     "name": "stdout",
     "output_type": "stream",
     "text": [
      "                   all         58        386      0.974      0.984      0.988      0.744\n"
     ]
    },
    {
     "name": "stderr",
     "output_type": "stream",
     "text": [
      "\n"
     ]
    },
    {
     "name": "stdout",
     "output_type": "stream",
     "text": [
      "\n",
      "      Epoch    GPU_mem   box_loss   cls_loss   dfl_loss  Instances       Size\n"
     ]
    },
    {
     "name": "stderr",
     "output_type": "stream",
     "text": [
      "     12/150      4.62G       1.01     0.7607     0.9747        438        640: 100%|██████████| 19/19 [00:08<00:00,  2.16it/s]\n",
      "                 Class     Images  Instances      Box(P          R      mAP50  mAP50-95): 100%|██████████| 1/1 [00:01<00:00,  1.17s/it]"
     ]
    },
    {
     "name": "stdout",
     "output_type": "stream",
     "text": [
      "                   all         58        386      0.944       0.95       0.98      0.647\n"
     ]
    },
    {
     "name": "stderr",
     "output_type": "stream",
     "text": [
      "\n"
     ]
    },
    {
     "name": "stdout",
     "output_type": "stream",
     "text": [
      "\n",
      "      Epoch    GPU_mem   box_loss   cls_loss   dfl_loss  Instances       Size\n"
     ]
    },
    {
     "name": "stderr",
     "output_type": "stream",
     "text": [
      "     13/150      5.02G      1.061     0.7861       0.99        406        640: 100%|██████████| 19/19 [00:10<00:00,  1.75it/s]\n",
      "                 Class     Images  Instances      Box(P          R      mAP50  mAP50-95): 100%|██████████| 1/1 [00:00<00:00,  1.36it/s]"
     ]
    },
    {
     "name": "stdout",
     "output_type": "stream",
     "text": [
      "                   all         58        386       0.94      0.965       0.98      0.758\n"
     ]
    },
    {
     "name": "stderr",
     "output_type": "stream",
     "text": [
      "\n"
     ]
    },
    {
     "name": "stdout",
     "output_type": "stream",
     "text": [
      "\n",
      "      Epoch    GPU_mem   box_loss   cls_loss   dfl_loss  Instances       Size\n"
     ]
    },
    {
     "name": "stderr",
     "output_type": "stream",
     "text": [
      "     14/150      4.96G      1.042     0.7501     0.9842        535        640: 100%|██████████| 19/19 [00:12<00:00,  1.56it/s]\n",
      "                 Class     Images  Instances      Box(P          R      mAP50  mAP50-95): 100%|██████████| 1/1 [00:01<00:00,  1.18s/it]"
     ]
    },
    {
     "name": "stdout",
     "output_type": "stream",
     "text": [
      "                   all         58        386      0.953      0.985      0.988      0.773\n"
     ]
    },
    {
     "name": "stderr",
     "output_type": "stream",
     "text": [
      "\n"
     ]
    },
    {
     "name": "stdout",
     "output_type": "stream",
     "text": [
      "\n",
      "      Epoch    GPU_mem   box_loss   cls_loss   dfl_loss  Instances       Size\n"
     ]
    },
    {
     "name": "stderr",
     "output_type": "stream",
     "text": [
      "     15/150      5.35G     0.9918     0.7075      0.972        540        640: 100%|██████████| 19/19 [00:08<00:00,  2.17it/s]\n",
      "                 Class     Images  Instances      Box(P          R      mAP50  mAP50-95): 100%|██████████| 1/1 [00:00<00:00,  1.01it/s]"
     ]
    },
    {
     "name": "stdout",
     "output_type": "stream",
     "text": [
      "                   all         58        386      0.943      0.973      0.985      0.757\n"
     ]
    },
    {
     "name": "stderr",
     "output_type": "stream",
     "text": [
      "\n"
     ]
    },
    {
     "name": "stdout",
     "output_type": "stream",
     "text": [
      "\n",
      "      Epoch    GPU_mem   box_loss   cls_loss   dfl_loss  Instances       Size\n"
     ]
    },
    {
     "name": "stderr",
     "output_type": "stream",
     "text": [
      "     16/150      5.08G     0.9788     0.7006     0.9669        484        640: 100%|██████████| 19/19 [00:11<00:00,  1.68it/s]\n",
      "                 Class     Images  Instances      Box(P          R      mAP50  mAP50-95): 100%|██████████| 1/1 [00:00<00:00,  1.76it/s]"
     ]
    },
    {
     "name": "stdout",
     "output_type": "stream",
     "text": [
      "                   all         58        386      0.973      0.967      0.986      0.758\n"
     ]
    },
    {
     "name": "stderr",
     "output_type": "stream",
     "text": [
      "\n"
     ]
    },
    {
     "name": "stdout",
     "output_type": "stream",
     "text": [
      "\n",
      "      Epoch    GPU_mem   box_loss   cls_loss   dfl_loss  Instances       Size\n"
     ]
    },
    {
     "name": "stderr",
     "output_type": "stream",
     "text": [
      "     17/150      5.52G     0.9624      0.698     0.9644        577        640: 100%|██████████| 19/19 [00:11<00:00,  1.68it/s]\n",
      "                 Class     Images  Instances      Box(P          R      mAP50  mAP50-95): 100%|██████████| 1/1 [00:00<00:00,  1.38it/s]"
     ]
    },
    {
     "name": "stdout",
     "output_type": "stream",
     "text": [
      "                   all         58        386      0.952      0.976      0.988      0.763\n"
     ]
    },
    {
     "name": "stderr",
     "output_type": "stream",
     "text": [
      "\n"
     ]
    },
    {
     "name": "stdout",
     "output_type": "stream",
     "text": [
      "\n",
      "      Epoch    GPU_mem   box_loss   cls_loss   dfl_loss  Instances       Size\n"
     ]
    },
    {
     "name": "stderr",
     "output_type": "stream",
     "text": [
      "     18/150      5.04G     0.9427      0.675     0.9639        475        640: 100%|██████████| 19/19 [00:09<00:00,  2.09it/s]\n",
      "                 Class     Images  Instances      Box(P          R      mAP50  mAP50-95): 100%|██████████| 1/1 [00:01<00:00,  1.03s/it]"
     ]
    },
    {
     "name": "stdout",
     "output_type": "stream",
     "text": [
      "                   all         58        386      0.978      0.988      0.989      0.754\n"
     ]
    },
    {
     "name": "stderr",
     "output_type": "stream",
     "text": [
      "\n"
     ]
    },
    {
     "name": "stdout",
     "output_type": "stream",
     "text": [
      "\n",
      "      Epoch    GPU_mem   box_loss   cls_loss   dfl_loss  Instances       Size\n"
     ]
    },
    {
     "name": "stderr",
     "output_type": "stream",
     "text": [
      "     19/150      4.87G     0.9645     0.6769     0.9684        421        640: 100%|██████████| 19/19 [00:10<00:00,  1.79it/s]\n",
      "                 Class     Images  Instances      Box(P          R      mAP50  mAP50-95): 100%|██████████| 1/1 [00:00<00:00,  1.32it/s]"
     ]
    },
    {
     "name": "stdout",
     "output_type": "stream",
     "text": [
      "                   all         58        386      0.979      0.982      0.988      0.787\n"
     ]
    },
    {
     "name": "stderr",
     "output_type": "stream",
     "text": [
      "\n"
     ]
    },
    {
     "name": "stdout",
     "output_type": "stream",
     "text": [
      "\n",
      "      Epoch    GPU_mem   box_loss   cls_loss   dfl_loss  Instances       Size\n"
     ]
    },
    {
     "name": "stderr",
     "output_type": "stream",
     "text": [
      "     20/150      4.78G     0.9523     0.6684     0.9728        423        640: 100%|██████████| 19/19 [00:12<00:00,  1.56it/s]\n",
      "                 Class     Images  Instances      Box(P          R      mAP50  mAP50-95): 100%|██████████| 1/1 [00:00<00:00,  1.32it/s]"
     ]
    },
    {
     "name": "stdout",
     "output_type": "stream",
     "text": [
      "                   all         58        386      0.973      0.983      0.989      0.769\n"
     ]
    },
    {
     "name": "stderr",
     "output_type": "stream",
     "text": [
      "\n"
     ]
    },
    {
     "name": "stdout",
     "output_type": "stream",
     "text": [
      "\n",
      "      Epoch    GPU_mem   box_loss   cls_loss   dfl_loss  Instances       Size\n"
     ]
    },
    {
     "name": "stderr",
     "output_type": "stream",
     "text": [
      "     21/150      4.93G     0.9411     0.6473     0.9655        444        640: 100%|██████████| 19/19 [00:08<00:00,  2.20it/s]\n",
      "                 Class     Images  Instances      Box(P          R      mAP50  mAP50-95): 100%|██████████| 1/1 [00:01<00:00,  1.19s/it]"
     ]
    },
    {
     "name": "stdout",
     "output_type": "stream",
     "text": [
      "                   all         58        386      0.979      0.989      0.988      0.756\n"
     ]
    },
    {
     "name": "stderr",
     "output_type": "stream",
     "text": [
      "\n"
     ]
    },
    {
     "name": "stdout",
     "output_type": "stream",
     "text": [
      "\n",
      "      Epoch    GPU_mem   box_loss   cls_loss   dfl_loss  Instances       Size\n"
     ]
    },
    {
     "name": "stderr",
     "output_type": "stream",
     "text": [
      "     22/150      5.52G     0.9432     0.6458     0.9691        497        640: 100%|██████████| 19/19 [00:10<00:00,  1.75it/s]\n",
      "                 Class     Images  Instances      Box(P          R      mAP50  mAP50-95): 100%|██████████| 1/1 [00:00<00:00,  1.35it/s]"
     ]
    },
    {
     "name": "stdout",
     "output_type": "stream",
     "text": [
      "                   all         58        386      0.967      0.983       0.99      0.773\n"
     ]
    },
    {
     "name": "stderr",
     "output_type": "stream",
     "text": [
      "\n"
     ]
    },
    {
     "name": "stdout",
     "output_type": "stream",
     "text": [
      "\n",
      "      Epoch    GPU_mem   box_loss   cls_loss   dfl_loss  Instances       Size\n"
     ]
    },
    {
     "name": "stderr",
     "output_type": "stream",
     "text": [
      "     23/150      5.55G     0.9353     0.6425     0.9605        498        640: 100%|██████████| 19/19 [00:12<00:00,  1.47it/s]\n",
      "                 Class     Images  Instances      Box(P          R      mAP50  mAP50-95): 100%|██████████| 1/1 [00:00<00:00,  1.43it/s]"
     ]
    },
    {
     "name": "stdout",
     "output_type": "stream",
     "text": [
      "                   all         58        386      0.974      0.984      0.991      0.795\n"
     ]
    },
    {
     "name": "stderr",
     "output_type": "stream",
     "text": [
      "\n"
     ]
    },
    {
     "name": "stdout",
     "output_type": "stream",
     "text": [
      "\n",
      "      Epoch    GPU_mem   box_loss   cls_loss   dfl_loss  Instances       Size\n"
     ]
    },
    {
     "name": "stderr",
     "output_type": "stream",
     "text": [
      "     24/150      5.34G     0.9347       0.64     0.9688        398        640: 100%|██████████| 19/19 [00:10<00:00,  1.84it/s]\n",
      "                 Class     Images  Instances      Box(P          R      mAP50  mAP50-95): 100%|██████████| 1/1 [00:01<00:00,  1.15s/it]"
     ]
    },
    {
     "name": "stdout",
     "output_type": "stream",
     "text": [
      "                   all         58        386      0.978      0.982      0.988      0.759\n"
     ]
    },
    {
     "name": "stderr",
     "output_type": "stream",
     "text": [
      "\n"
     ]
    },
    {
     "name": "stdout",
     "output_type": "stream",
     "text": [
      "\n",
      "      Epoch    GPU_mem   box_loss   cls_loss   dfl_loss  Instances       Size\n"
     ]
    },
    {
     "name": "stderr",
     "output_type": "stream",
     "text": [
      "     25/150      5.43G      0.912     0.6127     0.9584        335        640: 100%|██████████| 19/19 [00:11<00:00,  1.70it/s]\n",
      "                 Class     Images  Instances      Box(P          R      mAP50  mAP50-95): 100%|██████████| 1/1 [00:00<00:00,  1.99it/s]"
     ]
    },
    {
     "name": "stdout",
     "output_type": "stream",
     "text": [
      "                   all         58        386      0.984      0.988       0.99      0.773\n"
     ]
    },
    {
     "name": "stderr",
     "output_type": "stream",
     "text": [
      "\n"
     ]
    },
    {
     "name": "stdout",
     "output_type": "stream",
     "text": [
      "\n",
      "      Epoch    GPU_mem   box_loss   cls_loss   dfl_loss  Instances       Size\n"
     ]
    },
    {
     "name": "stderr",
     "output_type": "stream",
     "text": [
      "     26/150      5.39G     0.9143     0.6397     0.9561        399        640: 100%|██████████| 19/19 [00:11<00:00,  1.60it/s]\n",
      "                 Class     Images  Instances      Box(P          R      mAP50  mAP50-95): 100%|██████████| 1/1 [00:01<00:00,  1.18s/it]"
     ]
    },
    {
     "name": "stdout",
     "output_type": "stream",
     "text": [
      "                   all         58        386      0.973      0.983      0.989      0.773\n"
     ]
    },
    {
     "name": "stderr",
     "output_type": "stream",
     "text": [
      "\n"
     ]
    },
    {
     "name": "stdout",
     "output_type": "stream",
     "text": [
      "\n",
      "      Epoch    GPU_mem   box_loss   cls_loss   dfl_loss  Instances       Size\n"
     ]
    },
    {
     "name": "stderr",
     "output_type": "stream",
     "text": [
      "     27/150      4.75G     0.8991     0.6179     0.9517        427        640: 100%|██████████| 19/19 [00:08<00:00,  2.20it/s]\n",
      "                 Class     Images  Instances      Box(P          R      mAP50  mAP50-95): 100%|██████████| 1/1 [00:01<00:00,  1.02s/it]"
     ]
    },
    {
     "name": "stdout",
     "output_type": "stream",
     "text": [
      "                   all         58        386      0.976      0.976      0.989      0.784\n"
     ]
    },
    {
     "name": "stderr",
     "output_type": "stream",
     "text": [
      "\n"
     ]
    },
    {
     "name": "stdout",
     "output_type": "stream",
     "text": [
      "\n",
      "      Epoch    GPU_mem   box_loss   cls_loss   dfl_loss  Instances       Size\n"
     ]
    },
    {
     "name": "stderr",
     "output_type": "stream",
     "text": [
      "     28/150       4.9G     0.9094     0.5937     0.9532        497        640: 100%|██████████| 19/19 [00:10<00:00,  1.77it/s]\n",
      "                 Class     Images  Instances      Box(P          R      mAP50  mAP50-95): 100%|██████████| 1/1 [00:00<00:00,  1.51it/s]"
     ]
    },
    {
     "name": "stdout",
     "output_type": "stream",
     "text": [
      "                   all         58        386      0.968      0.991      0.989      0.777\n"
     ]
    },
    {
     "name": "stderr",
     "output_type": "stream",
     "text": [
      "\n"
     ]
    },
    {
     "name": "stdout",
     "output_type": "stream",
     "text": [
      "\n",
      "      Epoch    GPU_mem   box_loss   cls_loss   dfl_loss  Instances       Size\n"
     ]
    },
    {
     "name": "stderr",
     "output_type": "stream",
     "text": [
      "     29/150      4.74G     0.8767     0.5791     0.9453        356        640: 100%|██████████| 19/19 [00:12<00:00,  1.54it/s]\n",
      "                 Class     Images  Instances      Box(P          R      mAP50  mAP50-95): 100%|██████████| 1/1 [00:00<00:00,  1.19it/s]"
     ]
    },
    {
     "name": "stdout",
     "output_type": "stream",
     "text": [
      "                   all         58        386      0.969      0.981      0.989      0.765\n"
     ]
    },
    {
     "name": "stderr",
     "output_type": "stream",
     "text": [
      "\n"
     ]
    },
    {
     "name": "stdout",
     "output_type": "stream",
     "text": [
      "\n",
      "      Epoch    GPU_mem   box_loss   cls_loss   dfl_loss  Instances       Size\n"
     ]
    },
    {
     "name": "stderr",
     "output_type": "stream",
     "text": [
      "     30/150      5.34G     0.8926     0.5747     0.9529        322        640: 100%|██████████| 19/19 [00:08<00:00,  2.22it/s]\n",
      "                 Class     Images  Instances      Box(P          R      mAP50  mAP50-95): 100%|██████████| 1/1 [00:01<00:00,  1.02s/it]"
     ]
    },
    {
     "name": "stdout",
     "output_type": "stream",
     "text": [
      "                   all         58        386      0.976      0.986      0.989       0.78\n"
     ]
    },
    {
     "name": "stderr",
     "output_type": "stream",
     "text": [
      "\n"
     ]
    },
    {
     "name": "stdout",
     "output_type": "stream",
     "text": [
      "\n",
      "      Epoch    GPU_mem   box_loss   cls_loss   dfl_loss  Instances       Size\n"
     ]
    },
    {
     "name": "stderr",
     "output_type": "stream",
     "text": [
      "     31/150      5.62G     0.8793     0.5707     0.9426        498        640: 100%|██████████| 19/19 [00:12<00:00,  1.58it/s]\n",
      "                 Class     Images  Instances      Box(P          R      mAP50  mAP50-95): 100%|██████████| 1/1 [00:00<00:00,  1.74it/s]"
     ]
    },
    {
     "name": "stdout",
     "output_type": "stream",
     "text": [
      "                   all         58        386       0.97      0.991      0.986      0.776\n"
     ]
    },
    {
     "name": "stderr",
     "output_type": "stream",
     "text": [
      "\n"
     ]
    },
    {
     "name": "stdout",
     "output_type": "stream",
     "text": [
      "\n",
      "      Epoch    GPU_mem   box_loss   cls_loss   dfl_loss  Instances       Size\n"
     ]
    },
    {
     "name": "stderr",
     "output_type": "stream",
     "text": [
      "     32/150      5.12G     0.8795     0.5588     0.9429        407        640: 100%|██████████| 19/19 [00:11<00:00,  1.66it/s]\n",
      "                 Class     Images  Instances      Box(P          R      mAP50  mAP50-95): 100%|██████████| 1/1 [00:01<00:00,  1.23s/it]"
     ]
    },
    {
     "name": "stdout",
     "output_type": "stream",
     "text": [
      "                   all         58        386      0.969      0.987      0.985      0.787\n"
     ]
    },
    {
     "name": "stderr",
     "output_type": "stream",
     "text": [
      "\n"
     ]
    },
    {
     "name": "stdout",
     "output_type": "stream",
     "text": [
      "\n",
      "      Epoch    GPU_mem   box_loss   cls_loss   dfl_loss  Instances       Size\n"
     ]
    },
    {
     "name": "stderr",
     "output_type": "stream",
     "text": [
      "     33/150      4.93G     0.8955     0.5581     0.9519        336        640: 100%|██████████| 19/19 [00:08<00:00,  2.25it/s]\n",
      "                 Class     Images  Instances      Box(P          R      mAP50  mAP50-95): 100%|██████████| 1/1 [00:00<00:00,  1.41it/s]"
     ]
    },
    {
     "name": "stdout",
     "output_type": "stream",
     "text": [
      "                   all         58        386      0.985       0.99      0.987      0.773\n"
     ]
    },
    {
     "name": "stderr",
     "output_type": "stream",
     "text": [
      "\n"
     ]
    },
    {
     "name": "stdout",
     "output_type": "stream",
     "text": [
      "\n",
      "      Epoch    GPU_mem   box_loss   cls_loss   dfl_loss  Instances       Size\n"
     ]
    },
    {
     "name": "stderr",
     "output_type": "stream",
     "text": [
      "     34/150      5.45G     0.8627     0.5514      0.939        457        640: 100%|██████████| 19/19 [00:11<00:00,  1.67it/s]\n",
      "                 Class     Images  Instances      Box(P          R      mAP50  mAP50-95): 100%|██████████| 1/1 [00:00<00:00,  1.71it/s]"
     ]
    },
    {
     "name": "stdout",
     "output_type": "stream",
     "text": [
      "                   all         58        386      0.974       0.99      0.986      0.786\n"
     ]
    },
    {
     "name": "stderr",
     "output_type": "stream",
     "text": [
      "\n"
     ]
    },
    {
     "name": "stdout",
     "output_type": "stream",
     "text": [
      "\n",
      "      Epoch    GPU_mem   box_loss   cls_loss   dfl_loss  Instances       Size\n"
     ]
    },
    {
     "name": "stderr",
     "output_type": "stream",
     "text": [
      "     35/150      4.88G      0.888     0.5658     0.9439        534        640: 100%|██████████| 19/19 [00:10<00:00,  1.73it/s]\n",
      "                 Class     Images  Instances      Box(P          R      mAP50  mAP50-95): 100%|██████████| 1/1 [00:01<00:00,  1.13s/it]"
     ]
    },
    {
     "name": "stdout",
     "output_type": "stream",
     "text": [
      "                   all         58        386      0.967      0.992      0.986      0.751\n"
     ]
    },
    {
     "name": "stderr",
     "output_type": "stream",
     "text": [
      "\n"
     ]
    },
    {
     "name": "stdout",
     "output_type": "stream",
     "text": [
      "\n",
      "      Epoch    GPU_mem   box_loss   cls_loss   dfl_loss  Instances       Size\n"
     ]
    },
    {
     "name": "stderr",
     "output_type": "stream",
     "text": [
      "     36/150      4.71G     0.8725     0.5531     0.9474        293        640: 100%|██████████| 19/19 [00:08<00:00,  2.24it/s]\n",
      "                 Class     Images  Instances      Box(P          R      mAP50  mAP50-95): 100%|██████████| 1/1 [00:00<00:00,  1.16it/s]"
     ]
    },
    {
     "name": "stdout",
     "output_type": "stream",
     "text": [
      "                   all         58        386      0.984      0.988      0.986      0.786\n"
     ]
    },
    {
     "name": "stderr",
     "output_type": "stream",
     "text": [
      "\n"
     ]
    },
    {
     "name": "stdout",
     "output_type": "stream",
     "text": [
      "\n",
      "      Epoch    GPU_mem   box_loss   cls_loss   dfl_loss  Instances       Size\n"
     ]
    },
    {
     "name": "stderr",
     "output_type": "stream",
     "text": [
      "     37/150      5.38G      0.847     0.5408     0.9379        556        640: 100%|██████████| 19/19 [00:11<00:00,  1.59it/s]\n",
      "                 Class     Images  Instances      Box(P          R      mAP50  mAP50-95): 100%|██████████| 1/1 [00:00<00:00,  1.24it/s]"
     ]
    },
    {
     "name": "stdout",
     "output_type": "stream",
     "text": [
      "                   all         58        386      0.973      0.983      0.988      0.779\n"
     ]
    },
    {
     "name": "stderr",
     "output_type": "stream",
     "text": [
      "\n"
     ]
    },
    {
     "name": "stdout",
     "output_type": "stream",
     "text": [
      "\n",
      "      Epoch    GPU_mem   box_loss   cls_loss   dfl_loss  Instances       Size\n"
     ]
    },
    {
     "name": "stderr",
     "output_type": "stream",
     "text": [
      "     38/150      5.34G     0.8637     0.5417     0.9412        407        640: 100%|██████████| 19/19 [00:10<00:00,  1.75it/s]\n",
      "                 Class     Images  Instances      Box(P          R      mAP50  mAP50-95): 100%|██████████| 1/1 [00:01<00:00,  1.20s/it]"
     ]
    },
    {
     "name": "stdout",
     "output_type": "stream",
     "text": [
      "                   all         58        386       0.98      0.982      0.986       0.76\n"
     ]
    },
    {
     "name": "stderr",
     "output_type": "stream",
     "text": [
      "\n"
     ]
    },
    {
     "name": "stdout",
     "output_type": "stream",
     "text": [
      "\n",
      "      Epoch    GPU_mem   box_loss   cls_loss   dfl_loss  Instances       Size\n"
     ]
    },
    {
     "name": "stderr",
     "output_type": "stream",
     "text": [
      "     39/150      5.04G     0.8499     0.5357     0.9397        479        640: 100%|██████████| 19/19 [00:08<00:00,  2.20it/s]\n",
      "                 Class     Images  Instances      Box(P          R      mAP50  mAP50-95): 100%|██████████| 1/1 [00:00<00:00,  1.28it/s]"
     ]
    },
    {
     "name": "stdout",
     "output_type": "stream",
     "text": [
      "                   all         58        386      0.986       0.99       0.99      0.776\n"
     ]
    },
    {
     "name": "stderr",
     "output_type": "stream",
     "text": [
      "\n"
     ]
    },
    {
     "name": "stdout",
     "output_type": "stream",
     "text": [
      "\n",
      "      Epoch    GPU_mem   box_loss   cls_loss   dfl_loss  Instances       Size\n"
     ]
    },
    {
     "name": "stderr",
     "output_type": "stream",
     "text": [
      "     40/150      5.24G      0.856       0.53     0.9454        464        640: 100%|██████████| 19/19 [00:12<00:00,  1.57it/s]\n",
      "                 Class     Images  Instances      Box(P          R      mAP50  mAP50-95): 100%|██████████| 1/1 [00:00<00:00,  1.50it/s]"
     ]
    },
    {
     "name": "stdout",
     "output_type": "stream",
     "text": [
      "                   all         58        386      0.982       0.99      0.988      0.782\n"
     ]
    },
    {
     "name": "stderr",
     "output_type": "stream",
     "text": [
      "\n"
     ]
    },
    {
     "name": "stdout",
     "output_type": "stream",
     "text": [
      "\n",
      "      Epoch    GPU_mem   box_loss   cls_loss   dfl_loss  Instances       Size\n"
     ]
    },
    {
     "name": "stderr",
     "output_type": "stream",
     "text": [
      "     41/150      5.11G      0.858     0.5218      0.947        426        640: 100%|██████████| 19/19 [00:11<00:00,  1.68it/s]\n",
      "                 Class     Images  Instances      Box(P          R      mAP50  mAP50-95): 100%|██████████| 1/1 [00:01<00:00,  1.03s/it]"
     ]
    },
    {
     "name": "stdout",
     "output_type": "stream",
     "text": [
      "                   all         58        386      0.975      0.988      0.989      0.781\n"
     ]
    },
    {
     "name": "stderr",
     "output_type": "stream",
     "text": [
      "\n"
     ]
    },
    {
     "name": "stdout",
     "output_type": "stream",
     "text": [
      "\n",
      "      Epoch    GPU_mem   box_loss   cls_loss   dfl_loss  Instances       Size\n"
     ]
    },
    {
     "name": "stderr",
     "output_type": "stream",
     "text": [
      "     42/150      4.93G     0.8455     0.5192     0.9407        358        640: 100%|██████████| 19/19 [00:08<00:00,  2.20it/s]\n",
      "                 Class     Images  Instances      Box(P          R      mAP50  mAP50-95): 100%|██████████| 1/1 [00:00<00:00,  1.31it/s]"
     ]
    },
    {
     "name": "stdout",
     "output_type": "stream",
     "text": [
      "                   all         58        386       0.98      0.984      0.989      0.781\n"
     ]
    },
    {
     "name": "stderr",
     "output_type": "stream",
     "text": [
      "\n"
     ]
    },
    {
     "name": "stdout",
     "output_type": "stream",
     "text": [
      "\n",
      "      Epoch    GPU_mem   box_loss   cls_loss   dfl_loss  Instances       Size\n"
     ]
    },
    {
     "name": "stderr",
     "output_type": "stream",
     "text": [
      "     43/150      5.27G     0.8346     0.5146       0.94        406        640: 100%|██████████| 19/19 [00:11<00:00,  1.61it/s]\n",
      "                 Class     Images  Instances      Box(P          R      mAP50  mAP50-95): 100%|██████████| 1/1 [00:00<00:00,  1.39it/s]"
     ]
    },
    {
     "name": "stdout",
     "output_type": "stream",
     "text": [
      "                   all         58        386      0.976      0.989      0.985      0.779\n",
      "\u001b[34m\u001b[1mEarlyStopping: \u001b[0mTraining stopped early as no improvement observed in last 20 epochs. Best results observed at epoch 23, best model saved as best.pt.\n",
      "To update EarlyStopping(patience=20) pass a new patience value, i.e. `patience=300` or use `patience=0` to disable EarlyStopping.\n"
     ]
    },
    {
     "name": "stderr",
     "output_type": "stream",
     "text": [
      "\n"
     ]
    },
    {
     "name": "stdout",
     "output_type": "stream",
     "text": [
      "\n",
      "43 epochs completed in 0.163 hours.\n",
      "Optimizer stripped from runs/detect/train3/weights/last.pt, 6.3MB\n",
      "Optimizer stripped from runs/detect/train3/weights/best.pt, 6.3MB\n",
      "\n",
      "Validating runs/detect/train3/weights/best.pt...\n",
      "Ultralytics 8.3.49 🚀 Python-3.10.12 torch-2.5.1+cu121 CUDA:0 (Tesla T4, 15102MiB)\n",
      "Model summary (fused): 168 layers, 3,008,183 parameters, 0 gradients, 8.1 GFLOPs\n"
     ]
    },
    {
     "name": "stderr",
     "output_type": "stream",
     "text": [
      "                 Class     Images  Instances      Box(P          R      mAP50  mAP50-95): 100%|██████████| 1/1 [00:00<00:00,  1.47it/s]\n"
     ]
    },
    {
     "name": "stdout",
     "output_type": "stream",
     "text": [
      "                   all         58        386      0.973      0.988      0.992      0.788\n",
      "          black-bishop         13         22          1      0.912      0.992      0.727\n",
      "            black-king         29         29      0.985          1      0.995      0.826\n",
      "          black-knight         26         30      0.926          1      0.995      0.812\n",
      "            black-pawn         25         77      0.994          1      0.995      0.776\n",
      "           black-queen         11         11      0.948          1      0.995      0.828\n",
      "            black-rook         24         28      0.988          1      0.995      0.789\n",
      "          white-bishop         17         22      0.916      0.994      0.983      0.726\n",
      "            white-king         29         29      0.997          1      0.995      0.819\n",
      "          white-knight         17         19       0.95      0.998      0.993      0.774\n",
      "            white-pawn         26         77       0.99          1      0.995      0.782\n",
      "           white-queen         16         16          1      0.995      0.995      0.799\n",
      "            white-rook         18         26      0.983      0.962      0.979      0.794\n",
      "Speed: 0.2ms preprocess, 6.5ms inference, 0.0ms loss, 1.2ms postprocess per image\n",
      "Results saved to \u001b[1mruns/detect/train3\u001b[0m\n"
     ]
    }
   ],
   "source": [
    "# Initialize YOLOv8 model\n",
    "model = YOLO('yolov8n.pt')  \n",
    "\n",
    "results = model.train(\n",
    "    data=\"/content/dataset/data.yaml\",\n",
    "    epochs=150,  \n",
    "    imgsz=640,  \n",
    "    batch=32,  \n",
    "    lr0=1e-3,  \n",
    "    augment=True,  \n",
    "    patience=20,  \n",
    "    device=0  # Use GPU - CoLab\n",
    ")\n"
   ]
  },
  {
   "cell_type": "code",
   "execution_count": null,
   "metadata": {
    "id": "V5vRnbN8Uh1k"
   },
   "outputs": [],
   "source": []
  }
 ],
 "metadata": {
  "accelerator": "GPU",
  "colab": {
   "gpuType": "T4",
   "provenance": []
  },
  "kernelspec": {
   "display_name": "Python [conda env:base] *",
   "language": "python",
   "name": "conda-base-py"
  },
  "language_info": {
   "codemirror_mode": {
    "name": "ipython",
    "version": 3
   },
   "file_extension": ".py",
   "mimetype": "text/x-python",
   "name": "python",
   "nbconvert_exporter": "python",
   "pygments_lexer": "ipython3",
   "version": "3.12.7"
  }
 },
 "nbformat": 4,
 "nbformat_minor": 4
}
