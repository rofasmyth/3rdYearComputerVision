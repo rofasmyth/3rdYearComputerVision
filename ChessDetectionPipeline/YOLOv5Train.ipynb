{
 "cells": [
  {
   "cell_type": "code",
   "execution_count": 1,
   "id": "c2d0444c-02ce-43e8-8486-aa61bf3cc2a4",
   "metadata": {},
   "outputs": [
    {
     "name": "stdout",
     "output_type": "stream",
     "text": [
      "C:\\Users\\L00176857\\OneDrive - Atlantic TU\\Y1\\Documents\\ChessNotation\\yolov5\n"
     ]
    },
    {
     "name": "stderr",
     "output_type": "stream",
     "text": [
      "Cloning into 'yolov5'...\n"
     ]
    },
    {
     "name": "stdout",
     "output_type": "stream",
     "text": [
      "Defaulting to user installation because normal site-packages is not writeable\n",
      "Requirement already satisfied: gitpython>=3.1.30 in c:\\programdata\\anaconda3\\lib\\site-packages (from -r requirements.txt (line 5)) (3.1.37)\n",
      "Requirement already satisfied: matplotlib>=3.3 in c:\\programdata\\anaconda3\\lib\\site-packages (from -r requirements.txt (line 6)) (3.8.0)\n",
      "Requirement already satisfied: numpy>=1.23.5 in c:\\programdata\\anaconda3\\lib\\site-packages (from -r requirements.txt (line 7)) (1.26.4)\n",
      "Requirement already satisfied: opencv-python>=4.1.1 in c:\\users\\l00176857\\appdata\\roaming\\python\\python311\\site-packages (from -r requirements.txt (line 8)) (4.10.0.84)\n",
      "Collecting pillow>=10.3.0 (from -r requirements.txt (line 9))\n",
      "  Downloading pillow-11.0.0-cp311-cp311-win_amd64.whl.metadata (9.3 kB)\n",
      "Requirement already satisfied: psutil in c:\\programdata\\anaconda3\\lib\\site-packages (from -r requirements.txt (line 10)) (5.9.0)\n",
      "Requirement already satisfied: PyYAML>=5.3.1 in c:\\programdata\\anaconda3\\lib\\site-packages (from -r requirements.txt (line 11)) (6.0.1)\n",
      "Collecting requests>=2.32.2 (from -r requirements.txt (line 12))\n",
      "  Downloading requests-2.32.3-py3-none-any.whl.metadata (4.6 kB)\n",
      "Requirement already satisfied: scipy>=1.4.1 in c:\\programdata\\anaconda3\\lib\\site-packages (from -r requirements.txt (line 13)) (1.11.4)\n",
      "Collecting thop>=0.1.1 (from -r requirements.txt (line 14))\n",
      "  Downloading thop-0.1.1.post2209072238-py3-none-any.whl.metadata (2.7 kB)\n",
      "Collecting torch>=1.8.0 (from -r requirements.txt (line 15))\n",
      "  Downloading torch-2.5.1-cp311-cp311-win_amd64.whl.metadata (28 kB)\n",
      "Collecting torchvision>=0.9.0 (from -r requirements.txt (line 16))\n",
      "  Downloading torchvision-0.20.1-cp311-cp311-win_amd64.whl.metadata (6.2 kB)\n",
      "Collecting tqdm>=4.66.3 (from -r requirements.txt (line 17))\n",
      "  Downloading tqdm-4.67.1-py3-none-any.whl.metadata (57 kB)\n",
      "     ---------------------------------------- 0.0/57.7 kB ? eta -:--:--\n",
      "     ---------------------------------------- 57.7/57.7 kB 3.2 MB/s eta 0:00:00\n",
      "Collecting ultralytics>=8.2.34 (from -r requirements.txt (line 18))\n",
      "  Downloading ultralytics-8.3.48-py3-none-any.whl.metadata (35 kB)\n",
      "Requirement already satisfied: pandas>=1.1.4 in c:\\programdata\\anaconda3\\lib\\site-packages (from -r requirements.txt (line 27)) (2.1.4)\n",
      "Requirement already satisfied: seaborn>=0.11.0 in c:\\programdata\\anaconda3\\lib\\site-packages (from -r requirements.txt (line 28)) (0.12.2)\n",
      "Collecting setuptools>=70.0.0 (from -r requirements.txt (line 42))\n",
      "  Downloading setuptools-75.6.0-py3-none-any.whl.metadata (6.7 kB)\n",
      "Requirement already satisfied: gitdb<5,>=4.0.1 in c:\\programdata\\anaconda3\\lib\\site-packages (from gitpython>=3.1.30->-r requirements.txt (line 5)) (4.0.7)\n",
      "Requirement already satisfied: contourpy>=1.0.1 in c:\\programdata\\anaconda3\\lib\\site-packages (from matplotlib>=3.3->-r requirements.txt (line 6)) (1.2.0)\n",
      "Requirement already satisfied: cycler>=0.10 in c:\\programdata\\anaconda3\\lib\\site-packages (from matplotlib>=3.3->-r requirements.txt (line 6)) (0.11.0)\n",
      "Requirement already satisfied: fonttools>=4.22.0 in c:\\programdata\\anaconda3\\lib\\site-packages (from matplotlib>=3.3->-r requirements.txt (line 6)) (4.25.0)\n",
      "Requirement already satisfied: kiwisolver>=1.0.1 in c:\\programdata\\anaconda3\\lib\\site-packages (from matplotlib>=3.3->-r requirements.txt (line 6)) (1.4.4)\n",
      "Requirement already satisfied: packaging>=20.0 in c:\\programdata\\anaconda3\\lib\\site-packages (from matplotlib>=3.3->-r requirements.txt (line 6)) (23.1)\n",
      "Requirement already satisfied: pyparsing>=2.3.1 in c:\\programdata\\anaconda3\\lib\\site-packages (from matplotlib>=3.3->-r requirements.txt (line 6)) (3.0.9)\n",
      "Requirement already satisfied: python-dateutil>=2.7 in c:\\programdata\\anaconda3\\lib\\site-packages (from matplotlib>=3.3->-r requirements.txt (line 6)) (2.8.2)\n",
      "Requirement already satisfied: charset-normalizer<4,>=2 in c:\\programdata\\anaconda3\\lib\\site-packages (from requests>=2.32.2->-r requirements.txt (line 12)) (2.0.4)\n",
      "Requirement already satisfied: idna<4,>=2.5 in c:\\programdata\\anaconda3\\lib\\site-packages (from requests>=2.32.2->-r requirements.txt (line 12)) (3.4)\n",
      "Requirement already satisfied: urllib3<3,>=1.21.1 in c:\\programdata\\anaconda3\\lib\\site-packages (from requests>=2.32.2->-r requirements.txt (line 12)) (2.0.7)\n",
      "Requirement already satisfied: certifi>=2017.4.17 in c:\\programdata\\anaconda3\\lib\\site-packages (from requests>=2.32.2->-r requirements.txt (line 12)) (2024.2.2)\n",
      "Requirement already satisfied: filelock in c:\\programdata\\anaconda3\\lib\\site-packages (from torch>=1.8.0->-r requirements.txt (line 15)) (3.13.1)\n",
      "Requirement already satisfied: typing-extensions>=4.8.0 in c:\\programdata\\anaconda3\\lib\\site-packages (from torch>=1.8.0->-r requirements.txt (line 15)) (4.9.0)\n",
      "Requirement already satisfied: networkx in c:\\programdata\\anaconda3\\lib\\site-packages (from torch>=1.8.0->-r requirements.txt (line 15)) (3.1)\n",
      "Requirement already satisfied: jinja2 in c:\\programdata\\anaconda3\\lib\\site-packages (from torch>=1.8.0->-r requirements.txt (line 15)) (3.1.3)\n",
      "Requirement already satisfied: fsspec in c:\\programdata\\anaconda3\\lib\\site-packages (from torch>=1.8.0->-r requirements.txt (line 15)) (2023.10.0)\n",
      "Collecting sympy==1.13.1 (from torch>=1.8.0->-r requirements.txt (line 15))\n",
      "  Downloading sympy-1.13.1-py3-none-any.whl.metadata (12 kB)\n",
      "Requirement already satisfied: mpmath<1.4,>=1.1.0 in c:\\programdata\\anaconda3\\lib\\site-packages (from sympy==1.13.1->torch>=1.8.0->-r requirements.txt (line 15)) (1.3.0)\n",
      "Requirement already satisfied: colorama in c:\\programdata\\anaconda3\\lib\\site-packages (from tqdm>=4.66.3->-r requirements.txt (line 17)) (0.4.6)\n",
      "Requirement already satisfied: py-cpuinfo in c:\\programdata\\anaconda3\\lib\\site-packages (from ultralytics>=8.2.34->-r requirements.txt (line 18)) (9.0.0)\n",
      "Collecting ultralytics-thop>=2.0.0 (from ultralytics>=8.2.34->-r requirements.txt (line 18))\n",
      "  Downloading ultralytics_thop-2.0.13-py3-none-any.whl.metadata (9.4 kB)\n",
      "Requirement already satisfied: pytz>=2020.1 in c:\\programdata\\anaconda3\\lib\\site-packages (from pandas>=1.1.4->-r requirements.txt (line 27)) (2023.3.post1)\n",
      "Requirement already satisfied: tzdata>=2022.1 in c:\\programdata\\anaconda3\\lib\\site-packages (from pandas>=1.1.4->-r requirements.txt (line 27)) (2023.3)\n",
      "Requirement already satisfied: smmap<5,>=3.0.1 in c:\\programdata\\anaconda3\\lib\\site-packages (from gitdb<5,>=4.0.1->gitpython>=3.1.30->-r requirements.txt (line 5)) (4.0.0)\n",
      "Requirement already satisfied: six>=1.5 in c:\\programdata\\anaconda3\\lib\\site-packages (from python-dateutil>=2.7->matplotlib>=3.3->-r requirements.txt (line 6)) (1.16.0)\n",
      "Requirement already satisfied: MarkupSafe>=2.0 in c:\\programdata\\anaconda3\\lib\\site-packages (from jinja2->torch>=1.8.0->-r requirements.txt (line 15)) (2.1.3)\n",
      "Downloading pillow-11.0.0-cp311-cp311-win_amd64.whl (2.6 MB)\n",
      "   ---------------------------------------- 0.0/2.6 MB ? eta -:--:--\n",
      "   ---------------------------------------  2.6/2.6 MB 82.3 MB/s eta 0:00:01\n",
      "   ---------------------------------------- 2.6/2.6 MB 55.6 MB/s eta 0:00:00\n",
      "Downloading requests-2.32.3-py3-none-any.whl (64 kB)\n",
      "   ---------------------------------------- 0.0/64.9 kB ? eta -:--:--\n",
      "   ---------------------------------------- 64.9/64.9 kB ? eta 0:00:00\n",
      "Downloading thop-0.1.1.post2209072238-py3-none-any.whl (15 kB)\n",
      "Downloading torch-2.5.1-cp311-cp311-win_amd64.whl (203.1 MB)\n",
      "   ---------------------------------------- 0.0/203.1 MB ? eta -:--:--\n",
      "    --------------------------------------- 4.5/203.1 MB 140.5 MB/s eta 0:00:02\n",
      "   - ------------------------------------- 10.2/203.1 MB 130.1 MB/s eta 0:00:02\n",
      "   --- ----------------------------------- 15.8/203.1 MB 108.8 MB/s eta 0:00:02\n",
      "   ---- ---------------------------------- 21.4/203.1 MB 108.8 MB/s eta 0:00:02\n",
      "   ----- --------------------------------- 27.1/203.1 MB 108.8 MB/s eta 0:00:02\n",
      "   ------ -------------------------------- 32.7/203.1 MB 108.8 MB/s eta 0:00:02\n",
      "   ------- ------------------------------- 38.2/203.1 MB 110.0 MB/s eta 0:00:02\n",
      "   -------- ------------------------------ 43.8/203.1 MB 131.2 MB/s eta 0:00:02\n",
      "   --------- ----------------------------- 49.5/203.1 MB 131.2 MB/s eta 0:00:02\n",
      "   ---------- ---------------------------- 55.1/203.1 MB 108.8 MB/s eta 0:00:02\n",
      "   ----------- --------------------------- 60.9/203.1 MB 108.8 MB/s eta 0:00:02\n",
      "   ------------ -------------------------- 66.6/203.1 MB 131.2 MB/s eta 0:00:02\n",
      "   ------------- ------------------------- 72.3/203.1 MB 131.2 MB/s eta 0:00:01\n",
      "   -------------- ------------------------ 77.8/203.1 MB 108.8 MB/s eta 0:00:02\n",
      "   --------------- ----------------------- 82.2/203.1 MB 110.0 MB/s eta 0:00:02\n",
      "   ---------------- ---------------------- 88.0/203.1 MB 110.0 MB/s eta 0:00:02\n",
      "   ----------------- --------------------- 93.7/203.1 MB 108.8 MB/s eta 0:00:02\n",
      "   ------------------- ------------------- 99.2/203.1 MB 108.8 MB/s eta 0:00:01\n",
      "   ------------------- ------------------ 104.9/203.1 MB 108.8 MB/s eta 0:00:01\n",
      "   -------------------- ----------------- 110.6/203.1 MB 108.8 MB/s eta 0:00:01\n",
      "   --------------------- ---------------- 116.2/203.1 MB 131.2 MB/s eta 0:00:01\n",
      "   ---------------------- --------------- 121.9/203.1 MB 108.8 MB/s eta 0:00:01\n",
      "   ----------------------- -------------- 127.5/203.1 MB 110.0 MB/s eta 0:00:01\n",
      "   ------------------------ ------------- 133.1/203.1 MB 131.2 MB/s eta 0:00:01\n",
      "   -------------------------- ------------ 138.3/203.1 MB 93.0 MB/s eta 0:00:01\n",
      "   -------------------------- ----------- 142.9/203.1 MB 108.8 MB/s eta 0:00:01\n",
      "   --------------------------- ---------- 148.5/203.1 MB 131.2 MB/s eta 0:00:01\n",
      "   ---------------------------- --------- 154.2/203.1 MB 108.8 MB/s eta 0:00:01\n",
      "   ----------------------------- -------- 158.9/203.1 MB 108.8 MB/s eta 0:00:01\n",
      "   ------------------------------ ------- 164.7/203.1 MB 108.8 MB/s eta 0:00:01\n",
      "   ------------------------------- ------ 170.4/203.1 MB 110.0 MB/s eta 0:00:01\n",
      "   -------------------------------- ----- 176.1/203.1 MB 131.2 MB/s eta 0:00:01\n",
      "   ---------------------------------- --- 181.7/203.1 MB 131.2 MB/s eta 0:00:01\n",
      "   ----------------------------------- -- 187.4/203.1 MB 108.8 MB/s eta 0:00:01\n",
      "   ------------------------------------ - 193.1/203.1 MB 108.8 MB/s eta 0:00:01\n",
      "   -------------------------------------  198.8/203.1 MB 110.0 MB/s eta 0:00:01\n",
      "   -------------------------------------  203.1/203.1 MB 108.8 MB/s eta 0:00:01\n",
      "   -------------------------------------  203.1/203.1 MB 108.8 MB/s eta 0:00:01\n",
      "   -------------------------------------  203.1/203.1 MB 108.8 MB/s eta 0:00:01\n",
      "   -------------------------------------  203.1/203.1 MB 108.8 MB/s eta 0:00:01\n",
      "   -------------------------------------  203.1/203.1 MB 108.8 MB/s eta 0:00:01\n",
      "   -------------------------------------  203.1/203.1 MB 108.8 MB/s eta 0:00:01\n",
      "   -------------------------------------  203.1/203.1 MB 108.8 MB/s eta 0:00:01\n",
      "   -------------------------------------  203.1/203.1 MB 108.8 MB/s eta 0:00:01\n",
      "   -------------------------------------  203.1/203.1 MB 108.8 MB/s eta 0:00:01\n",
      "   -------------------------------------  203.1/203.1 MB 108.8 MB/s eta 0:00:01\n",
      "   -------------------------------------  203.1/203.1 MB 108.8 MB/s eta 0:00:01\n",
      "   -------------------------------------  203.1/203.1 MB 108.8 MB/s eta 0:00:01\n",
      "   -------------------------------------  203.1/203.1 MB 108.8 MB/s eta 0:00:01\n",
      "   -------------------------------------  203.1/203.1 MB 108.8 MB/s eta 0:00:01\n",
      "   -------------------------------------  203.1/203.1 MB 108.8 MB/s eta 0:00:01\n",
      "   -------------------------------------  203.1/203.1 MB 108.8 MB/s eta 0:00:01\n",
      "   -------------------------------------  203.1/203.1 MB 108.8 MB/s eta 0:00:01\n",
      "   -------------------------------------  203.1/203.1 MB 108.8 MB/s eta 0:00:01\n",
      "   -------------------------------------  203.1/203.1 MB 108.8 MB/s eta 0:00:01\n",
      "   -------------------------------------  203.1/203.1 MB 108.8 MB/s eta 0:00:01\n",
      "   -------------------------------------  203.1/203.1 MB 108.8 MB/s eta 0:00:01\n",
      "   -------------------------------------  203.1/203.1 MB 108.8 MB/s eta 0:00:01\n",
      "   -------------------------------------  203.1/203.1 MB 108.8 MB/s eta 0:00:01\n",
      "   -------------------------------------  203.1/203.1 MB 108.8 MB/s eta 0:00:01\n",
      "   -------------------------------------  203.1/203.1 MB 108.8 MB/s eta 0:00:01\n",
      "   -------------------------------------  203.1/203.1 MB 108.8 MB/s eta 0:00:01\n",
      "   -------------------------------------  203.1/203.1 MB 108.8 MB/s eta 0:00:01\n",
      "   -------------------------------------  203.1/203.1 MB 108.8 MB/s eta 0:00:01\n",
      "   -------------------------------------  203.1/203.1 MB 108.8 MB/s eta 0:00:01\n",
      "   -------------------------------------  203.1/203.1 MB 108.8 MB/s eta 0:00:01\n",
      "   -------------------------------------  203.1/203.1 MB 108.8 MB/s eta 0:00:01\n",
      "   -------------------------------------  203.1/203.1 MB 108.8 MB/s eta 0:00:01\n",
      "   -------------------------------------  203.1/203.1 MB 108.8 MB/s eta 0:00:01\n",
      "   -------------------------------------  203.1/203.1 MB 108.8 MB/s eta 0:00:01\n",
      "   -------------------------------------  203.1/203.1 MB 108.8 MB/s eta 0:00:01\n",
      "   -------------------------------------  203.1/203.1 MB 108.8 MB/s eta 0:00:01\n",
      "   -------------------------------------  203.1/203.1 MB 108.8 MB/s eta 0:00:01\n",
      "   -------------------------------------  203.1/203.1 MB 108.8 MB/s eta 0:00:01\n",
      "   -------------------------------------  203.1/203.1 MB 108.8 MB/s eta 0:00:01\n",
      "   -------------------------------------  203.1/203.1 MB 108.8 MB/s eta 0:00:01\n",
      "   -------------------------------------  203.1/203.1 MB 108.8 MB/s eta 0:00:01\n",
      "   -------------------------------------  203.1/203.1 MB 108.8 MB/s eta 0:00:01\n",
      "   -------------------------------------  203.1/203.1 MB 108.8 MB/s eta 0:00:01\n",
      "   -------------------------------------  203.1/203.1 MB 108.8 MB/s eta 0:00:01\n",
      "   -------------------------------------  203.1/203.1 MB 108.8 MB/s eta 0:00:01\n",
      "   -------------------------------------  203.1/203.1 MB 108.8 MB/s eta 0:00:01\n",
      "   -------------------------------------  203.1/203.1 MB 108.8 MB/s eta 0:00:01\n",
      "   -------------------------------------  203.1/203.1 MB 108.8 MB/s eta 0:00:01\n",
      "   -------------------------------------  203.1/203.1 MB 108.8 MB/s eta 0:00:01\n",
      "   -------------------------------------  203.1/203.1 MB 108.8 MB/s eta 0:00:01\n",
      "   -------------------------------------  203.1/203.1 MB 108.8 MB/s eta 0:00:01\n",
      "   -------------------------------------  203.1/203.1 MB 108.8 MB/s eta 0:00:01\n",
      "   -------------------------------------  203.1/203.1 MB 108.8 MB/s eta 0:00:01\n",
      "   -------------------------------------  203.1/203.1 MB 108.8 MB/s eta 0:00:01\n",
      "   -------------------------------------  203.1/203.1 MB 108.8 MB/s eta 0:00:01\n",
      "   -------------------------------------  203.1/203.1 MB 108.8 MB/s eta 0:00:01\n",
      "   -------------------------------------  203.1/203.1 MB 108.8 MB/s eta 0:00:01\n",
      "   -------------------------------------  203.1/203.1 MB 108.8 MB/s eta 0:00:01\n",
      "   -------------------------------------  203.1/203.1 MB 108.8 MB/s eta 0:00:01\n",
      "   -------------------------------------  203.1/203.1 MB 108.8 MB/s eta 0:00:01\n",
      "   -------------------------------------  203.1/203.1 MB 108.8 MB/s eta 0:00:01\n",
      "   -------------------------------------  203.1/203.1 MB 108.8 MB/s eta 0:00:01\n",
      "   -------------------------------------  203.1/203.1 MB 108.8 MB/s eta 0:00:01\n",
      "   -------------------------------------  203.1/203.1 MB 108.8 MB/s eta 0:00:01\n",
      "   -------------------------------------  203.1/203.1 MB 108.8 MB/s eta 0:00:01\n",
      "   -------------------------------------  203.1/203.1 MB 108.8 MB/s eta 0:00:01\n",
      "   ---------------------------------------- 203.1/203.1 MB 3.4 MB/s eta 0:00:00\n",
      "Downloading sympy-1.13.1-py3-none-any.whl (6.2 MB)\n",
      "   ---------------------------------------- 0.0/6.2 MB ? eta -:--:--\n",
      "   ------------------------------ --------- 4.7/6.2 MB 98.9 MB/s eta 0:00:01\n",
      "   ---------------------------------------- 6.2/6.2 MB 78.2 MB/s eta 0:00:00\n",
      "Downloading torchvision-0.20.1-cp311-cp311-win_amd64.whl (1.6 MB)\n",
      "   ---------------------------------------- 0.0/1.6 MB ? eta -:--:--\n",
      "   ---------------------------------------- 1.6/1.6 MB 50.1 MB/s eta 0:00:00\n",
      "Downloading tqdm-4.67.1-py3-none-any.whl (78 kB)\n",
      "   ---------------------------------------- 0.0/78.5 kB ? eta -:--:--\n",
      "   ---------------------------------------- 78.5/78.5 kB 4.3 MB/s eta 0:00:00\n",
      "Downloading ultralytics-8.3.48-py3-none-any.whl (898 kB)\n",
      "   ---------------------------------------- 0.0/898.8 kB ? eta -:--:--\n",
      "   --------------------------------------- 898.8/898.8 kB 55.5 MB/s eta 0:00:00\n",
      "Downloading setuptools-75.6.0-py3-none-any.whl (1.2 MB)\n",
      "   ---------------------------------------- 0.0/1.2 MB ? eta -:--:--\n",
      "   ---------------------------------------- 1.2/1.2 MB 75.9 MB/s eta 0:00:00\n",
      "Downloading ultralytics_thop-2.0.13-py3-none-any.whl (26 kB)\n",
      "Installing collected packages: tqdm, sympy, setuptools, requests, pillow, torch, ultralytics-thop, torchvision, thop, ultralytics\n",
      "Successfully installed pillow-11.0.0 requests-2.32.3 setuptools-75.6.0 sympy-1.13.1 thop-0.1.1.post2209072238 torch-2.5.1 torchvision-0.20.1 tqdm-4.67.1 ultralytics-8.3.48 ultralytics-thop-2.0.13\n"
     ]
    },
    {
     "name": "stderr",
     "output_type": "stream",
     "text": [
      "  WARNING: The script tqdm.exe is installed in 'C:\\Users\\L00176857\\AppData\\Roaming\\Python\\Python311\\Scripts' which is not on PATH.\n",
      "  Consider adding this directory to PATH or, if you prefer to suppress this warning, use --no-warn-script-location.\n",
      "  WARNING: The script isympy.exe is installed in 'C:\\Users\\L00176857\\AppData\\Roaming\\Python\\Python311\\Scripts' which is not on PATH.\n",
      "  Consider adding this directory to PATH or, if you prefer to suppress this warning, use --no-warn-script-location.\n",
      "  WARNING: The scripts convert-caffe2-to-onnx.exe, convert-onnx-to-caffe2.exe, torchfrtrace.exe and torchrun.exe are installed in 'C:\\Users\\L00176857\\AppData\\Roaming\\Python\\Python311\\Scripts' which is not on PATH.\n",
      "  Consider adding this directory to PATH or, if you prefer to suppress this warning, use --no-warn-script-location.\n",
      "  WARNING: The scripts ultralytics.exe and yolo.exe are installed in 'C:\\Users\\L00176857\\AppData\\Roaming\\Python\\Python311\\Scripts' which is not on PATH.\n",
      "  Consider adding this directory to PATH or, if you prefer to suppress this warning, use --no-warn-script-location.\n",
      "ERROR: pip's dependency resolver does not currently take into account all the packages that are installed. This behaviour is the source of the following dependency conflicts.\n",
      "conda-repo-cli 1.0.75 requires requests_mock, which is not installed.\n",
      "conda-repo-cli 1.0.75 requires clyent==1.2.1, but you have clyent 1.2.2 which is incompatible.\n",
      "conda-repo-cli 1.0.75 requires requests==2.31.0, but you have requests 2.32.3 which is incompatible.\n",
      "streamlit 1.30.0 requires pillow<11,>=7.1.0, but you have pillow 11.0.0 which is incompatible.\n"
     ]
    }
   ],
   "source": [
    "!git clone https://github.com/ultralytics/yolov5\n",
    "%cd yolov5\n",
    "!pip install -r requirements.txt"
   ]
  },
  {
   "cell_type": "code",
   "execution_count": 2,
   "id": "4877fdbc-f2cc-4fba-accf-cf8e64010bd8",
   "metadata": {},
   "outputs": [
    {
     "name": "stderr",
     "output_type": "stream",
     "text": [
      "WARNING: Skipping backports as it is not installed.\n"
     ]
    },
    {
     "name": "stdout",
     "output_type": "stream",
     "text": [
      "Defaulting to user installation because normal site-packages is not writeable\n",
      "Collecting backports.tarfile\n",
      "  Downloading backports.tarfile-1.2.0-py3-none-any.whl.metadata (2.0 kB)\n",
      "Downloading backports.tarfile-1.2.0-py3-none-any.whl (30 kB)\n",
      "Installing collected packages: backports.tarfile\n",
      "Successfully installed backports.tarfile-1.2.0\n"
     ]
    }
   ],
   "source": [
    "!pip uninstall backports\n",
    "!pip install backports.tarfile\n"
   ]
  },
  {
   "cell_type": "code",
   "execution_count": 3,
   "id": "ef0e3833-d663-4365-8c85-a9dc8d616ec4",
   "metadata": {},
   "outputs": [
    {
     "name": "stdout",
     "output_type": "stream",
     "text": [
      "backports.functools-lru-cache     1.6.4\n",
      "backports.tarfile                 1.2.0\n",
      "backports.tempfile                1.0\n",
      "backports.weakref                 1.0.post1\n"
     ]
    }
   ],
   "source": [
    "!pip list | findstr backports"
   ]
  },
  {
   "cell_type": "code",
   "execution_count": 7,
   "id": "90fe867c-8d31-4aab-bdfe-4dcc86e2f6f0",
   "metadata": {},
   "outputs": [
    {
     "name": "stdout",
     "output_type": "stream",
     "text": [
      "C:\\Users\\L00176857\\OneDrive - Atlantic TU\\Y1\\Documents\\ChessNotation\n"
     ]
    }
   ],
   "source": [
    "import os\n",
    "print(os.getcwd())"
   ]
  },
  {
   "cell_type": "code",
   "execution_count": 6,
   "id": "1e789c74-780b-4710-9969-4d725de70541",
   "metadata": {},
   "outputs": [
    {
     "name": "stdout",
     "output_type": "stream",
     "text": [
      "^C\n",
      "Defaulting to user installation because normal site-packages is not writeable\n",
      "Requirement already satisfied: backports.tarfile in c:\\users\\l00176857\\appdata\\roaming\\python\\python311\\site-packages (1.2.0)\n"
     ]
    }
   ],
   "source": [
    "!pip uninstall backports.functools-lru-cache backports.tarfile backports.tempfile backports.weakref\n",
    "!pip install backports.tarfile\n"
   ]
  },
  {
   "cell_type": "code",
   "execution_count": 8,
   "id": "12ed47fe-b595-492a-a55f-bfe1649bac55",
   "metadata": {},
   "outputs": [],
   "source": [
    "!python \"C:/Users/L00176857/OneDrive - Atlantic TU/Y1/Documents/ChessNotation/yolov5/train.py\" --data \"C:/Users/L00176857/OneDrive - Atlantic TU/CompVis/CA2 Chess/working/Something/Chess Pieces.v3i.yolov5pytorch/data.yaml\" --weights yolov5s.pt --epochs 100 --batch-size 16 --imgsz 640 --name \"test_run\" --save-period 1 --project \"C:/Users/L00176857/OneDrive - Atlantic TU/Y1/Documents/ChessNotation/YOLOv5_Results\" > output_log.txt 2>&1\n"
   ]
  },
  {
   "cell_type": "code",
   "execution_count": 24,
   "id": "0499f5c1-c824-48e6-b6c7-3385d9014372",
   "metadata": {},
   "outputs": [
    {
     "name": "stderr",
     "output_type": "stream",
     "text": [
      "\u001b[34m\u001b[1mval: \u001b[0mdata=C:/Users/robot/OneDrive - Atlantic TU/CompVis/CA2 Chess/working/Something/Chess Pieces.v3i.yolov5pytorch/data.yaml, weights=['C:/Users/robot/OneDrive - Atlantic TU/CompVis/CA2 Chess/working/Something/yolov5s.pt'], batch_size=32, imgsz=640, conf_thres=0.001, iou_thres=0.6, max_det=300, task=test, device=, workers=8, single_cls=False, augment=False, verbose=False, save_txt=False, save_hybrid=False, save_conf=False, save_json=False, project=yolov5\\runs\\val, name=exp, exist_ok=False, half=False, dnn=False\n",
      "unknown option: -\n",
      "usage: git [-v | --version] [-h | --help] [-C <path>] [-c <name>=<value>]\n",
      "           [--exec-path[=<path>]] [--html-path] [--man-path] [--info-path]\n",
      "           [-p | --paginate | -P | --no-pager] [--no-replace-objects] [--no-lazy-fetch]\n",
      "           [--no-optional-locks] [--no-advice] [--bare] [--git-dir=<path>]\n",
      "           [--work-tree=<path>] [--namespace=<name>] [--config-env=<name>=<envvar>]\n",
      "           <command> [<args>]\n",
      "YOLOv5  2024-12-3 Python-3.12.7 torch-2.5.1+cpu CPU\n",
      "\n",
      "Fusing layers... \n",
      "YOLOv5s summary: 213 layers, 7225885 parameters, 0 gradients, 16.4 GFLOPs\n",
      "Traceback (most recent call last):\n",
      "  File \"C:\\Users\\robot\\OneDrive - Atlantic TU\\CompVis\\CA2 Chess\\working\\Something\\yolov5\\val.py\", line 604, in <module>\n",
      "    main(opt)\n",
      "  File \"C:\\Users\\robot\\OneDrive - Atlantic TU\\CompVis\\CA2 Chess\\working\\Something\\yolov5\\val.py\", line 575, in main\n",
      "    run(**vars(opt))\n",
      "  File \"C:\\Users\\robot\\anaconda3\\Lib\\site-packages\\torch\\utils\\_contextlib.py\", line 116, in decorate_context\n",
      "    return func(*args, **kwargs)\n",
      "           ^^^^^^^^^^^^^^^^^^^^^\n",
      "  File \"C:\\Users\\robot\\OneDrive - Atlantic TU\\CompVis\\CA2 Chess\\working\\Something\\yolov5\\val.py\", line 297, in run\n",
      "    assert ncm == nc, (\n",
      "           ^^^^^^^^^\n",
      "AssertionError: ['C:/Users/robot/OneDrive - Atlantic TU/CompVis/CA2 Chess/working/Something/yolov5s.pt'] (80 classes) trained on different --data than what you passed (12 classes). Pass correct combination of --weights and --data that are trained together.\n"
     ]
    }
   ],
   "source": [
    "!python \"C:/Users/robot/OneDrive - Atlantic TU/CompVis/CA2 Chess/working/Something/yolov5/val.py\" --weights \"C:/Users/robot/OneDrive - Atlantic TU/CompVis/CA2 Chess/working/Something/yolov5s.pt\" --data \"C:/Users/robot/OneDrive - Atlantic TU/CompVis/CA2 Chess/working/Something/Chess Pieces.v3i.yolov5pytorch/data.yaml\" --img 640 --task test\n"
   ]
  },
  {
   "cell_type": "code",
   "execution_count": null,
   "id": "87aaa51b-d4c2-4b05-a339-37cd68e0e071",
   "metadata": {},
   "outputs": [],
   "source": []
  }
 ],
 "metadata": {
  "kernelspec": {
   "display_name": "Python 3 (ipykernel)",
   "language": "python",
   "name": "python3"
  },
  "language_info": {
   "codemirror_mode": {
    "name": "ipython",
    "version": 3
   },
   "file_extension": ".py",
   "mimetype": "text/x-python",
   "name": "python",
   "nbconvert_exporter": "python",
   "pygments_lexer": "ipython3",
   "version": "3.12.7"
  }
 },
 "nbformat": 4,
 "nbformat_minor": 5
}
